{
 "cells": [
  {
   "cell_type": "code",
   "execution_count": 40,
   "id": "e1664d68-bef9-4b3c-bda0-7a851f58079f",
   "metadata": {},
   "outputs": [],
   "source": [
    "import pandas as pd\n",
    "import numpy as np\n",
    "import seaborn as sns\n",
    "\n",
    "from datetime import datetime\n",
    "from datetime import timedelta"
   ]
  },
  {
   "cell_type": "code",
   "execution_count": 41,
   "id": "f8e18393-b979-4887-a170-41c81db88a71",
   "metadata": {},
   "outputs": [],
   "source": [
    "dir_path = '/home/shiva/Datasets/V2_01_easy/V2_01_easy/'"
   ]
  },
  {
   "cell_type": "code",
   "execution_count": 42,
   "id": "64be35ab-d941-4e33-98f0-c431dafcf1b9",
   "metadata": {},
   "outputs": [
    {
     "name": "stdout",
     "output_type": "stream",
     "text": [
      "copy_output_logs.sh\t mav0_office_NEW-working\n",
      "home_office_3_400p\t mav0_office_working5\n",
      "home_office_4_720p\t mav0_virtana_office_working_2\n",
      "home_office_working_2\t mav0_virtana_office_working_3\n",
      "ImuParams.yaml\t\t PARAMS_Custom\n",
      "Kimera_VIO_Output\t PARAMS_Euroc\n",
      "LeftCameraParams.yaml\t RightCameraParams.yaml\n",
      "mav0\t\t\t Timestamp_Checks_Manipulation.ipynb\n",
      "mav0_euroc\t\t virtana_office_working_1\n",
      "mav0_office_new_working\n"
     ]
    }
   ],
   "source": [
    "!ls $dir_path"
   ]
  },
  {
   "cell_type": "code",
   "execution_count": 73,
   "id": "de74ed13-6b16-4189-9046-d4e97fe11c2b",
   "metadata": {},
   "outputs": [],
   "source": [
    "dir_name = 'mav0'"
   ]
  },
  {
   "cell_type": "code",
   "execution_count": 74,
   "id": "c227c693-e77f-4e34-b11a-8d6315abadd0",
   "metadata": {},
   "outputs": [],
   "source": [
    "num_rows_to_skip = 0"
   ]
  },
  {
   "cell_type": "code",
   "execution_count": 75,
   "id": "d0a26ea4-dbc4-43a8-ba57-0ee2ed67b9ca",
   "metadata": {},
   "outputs": [],
   "source": [
    "imu_df = pd.read_csv(f'{dir_path}{dir_name}/imu0/data.csv',skiprows=[1, num_rows_to_skip+1])\n",
    "cam_df = pd.read_csv(f'{dir_path}{dir_name}/cam0/data.csv',skiprows=[1, num_rows_to_skip+1])"
   ]
  },
  {
   "cell_type": "code",
   "execution_count": 76,
   "id": "b62ed333-8c88-4ee1-8df8-f72ad3bf7499",
   "metadata": {},
   "outputs": [
    {
     "data": {
      "text/html": [
       "<div>\n",
       "<style scoped>\n",
       "    .dataframe tbody tr th:only-of-type {\n",
       "        vertical-align: middle;\n",
       "    }\n",
       "\n",
       "    .dataframe tbody tr th {\n",
       "        vertical-align: top;\n",
       "    }\n",
       "\n",
       "    .dataframe thead th {\n",
       "        text-align: right;\n",
       "    }\n",
       "</style>\n",
       "<table border=\"1\" class=\"dataframe\">\n",
       "  <thead>\n",
       "    <tr style=\"text-align: right;\">\n",
       "      <th></th>\n",
       "      <th>#timestamp [ns]</th>\n",
       "      <th>w_RS_S_x [rad s^-1]</th>\n",
       "      <th>w_RS_S_y [rad s^-1]</th>\n",
       "      <th>w_RS_S_z [rad s^-1]</th>\n",
       "      <th>a_RS_S_x [m s^-2]</th>\n",
       "      <th>a_RS_S_y [m s^-2]</th>\n",
       "      <th>a_RS_S_z [m s^-2]</th>\n",
       "    </tr>\n",
       "  </thead>\n",
       "  <tbody>\n",
       "    <tr>\n",
       "      <th>0</th>\n",
       "      <td>1413393212230760448</td>\n",
       "      <td>0.058643</td>\n",
       "      <td>0.035605</td>\n",
       "      <td>0.051662</td>\n",
       "      <td>9.422556</td>\n",
       "      <td>1.160454</td>\n",
       "      <td>-2.623279</td>\n",
       "    </tr>\n",
       "    <tr>\n",
       "      <th>1</th>\n",
       "      <td>1413393212235760384</td>\n",
       "      <td>-0.011170</td>\n",
       "      <td>0.027925</td>\n",
       "      <td>0.069813</td>\n",
       "      <td>9.398040</td>\n",
       "      <td>1.618097</td>\n",
       "      <td>-2.705001</td>\n",
       "    </tr>\n",
       "    <tr>\n",
       "      <th>2</th>\n",
       "      <td>1413393212240760576</td>\n",
       "      <td>-0.072606</td>\n",
       "      <td>0.033510</td>\n",
       "      <td>0.069813</td>\n",
       "      <td>9.496106</td>\n",
       "      <td>0.670121</td>\n",
       "      <td>-2.819412</td>\n",
       "    </tr>\n",
       "    <tr>\n",
       "      <th>3</th>\n",
       "      <td>1413393212245760512</td>\n",
       "      <td>-0.092153</td>\n",
       "      <td>0.036303</td>\n",
       "      <td>0.078889</td>\n",
       "      <td>8.989429</td>\n",
       "      <td>-0.130755</td>\n",
       "      <td>-2.713173</td>\n",
       "    </tr>\n",
       "    <tr>\n",
       "      <th>4</th>\n",
       "      <td>1413393212250760448</td>\n",
       "      <td>-0.058643</td>\n",
       "      <td>0.024435</td>\n",
       "      <td>0.100531</td>\n",
       "      <td>9.177390</td>\n",
       "      <td>-0.890771</td>\n",
       "      <td>-2.582418</td>\n",
       "    </tr>\n",
       "  </tbody>\n",
       "</table>\n",
       "</div>"
      ],
      "text/plain": [
       "       #timestamp [ns]  w_RS_S_x [rad s^-1]  w_RS_S_y [rad s^-1]  \\\n",
       "0  1413393212230760448             0.058643             0.035605   \n",
       "1  1413393212235760384            -0.011170             0.027925   \n",
       "2  1413393212240760576            -0.072606             0.033510   \n",
       "3  1413393212245760512            -0.092153             0.036303   \n",
       "4  1413393212250760448            -0.058643             0.024435   \n",
       "\n",
       "   w_RS_S_z [rad s^-1]  a_RS_S_x [m s^-2]  a_RS_S_y [m s^-2]  \\\n",
       "0             0.051662           9.422556           1.160454   \n",
       "1             0.069813           9.398040           1.618097   \n",
       "2             0.069813           9.496106           0.670121   \n",
       "3             0.078889           8.989429          -0.130755   \n",
       "4             0.100531           9.177390          -0.890771   \n",
       "\n",
       "   a_RS_S_z [m s^-2]  \n",
       "0          -2.623279  \n",
       "1          -2.705001  \n",
       "2          -2.819412  \n",
       "3          -2.713173  \n",
       "4          -2.582418  "
      ]
     },
     "execution_count": 76,
     "metadata": {},
     "output_type": "execute_result"
    }
   ],
   "source": [
    "imu_df.head(5)"
   ]
  },
  {
   "cell_type": "code",
   "execution_count": 77,
   "id": "644cc4a4-9fa4-42ba-8d6a-0511bc6d6413",
   "metadata": {},
   "outputs": [
    {
     "data": {
      "text/plain": [
       "(22799, 7)"
      ]
     },
     "execution_count": 77,
     "metadata": {},
     "output_type": "execute_result"
    }
   ],
   "source": [
    "imu_df.shape"
   ]
  },
  {
   "cell_type": "code",
   "execution_count": 78,
   "id": "2387bf9b-9099-4c74-9b2e-737b05b9db60",
   "metadata": {},
   "outputs": [
    {
     "data": {
      "text/html": [
       "<div>\n",
       "<style scoped>\n",
       "    .dataframe tbody tr th:only-of-type {\n",
       "        vertical-align: middle;\n",
       "    }\n",
       "\n",
       "    .dataframe tbody tr th {\n",
       "        vertical-align: top;\n",
       "    }\n",
       "\n",
       "    .dataframe thead th {\n",
       "        text-align: right;\n",
       "    }\n",
       "</style>\n",
       "<table border=\"1\" class=\"dataframe\">\n",
       "  <thead>\n",
       "    <tr style=\"text-align: right;\">\n",
       "      <th></th>\n",
       "      <th>#timestamp [ns]</th>\n",
       "      <th>filename</th>\n",
       "    </tr>\n",
       "  </thead>\n",
       "  <tbody>\n",
       "    <tr>\n",
       "      <th>0</th>\n",
       "      <td>1413393212305760512</td>\n",
       "      <td>1413393212305760512.png</td>\n",
       "    </tr>\n",
       "    <tr>\n",
       "      <th>1</th>\n",
       "      <td>1413393212355760384</td>\n",
       "      <td>1413393212355760384.png</td>\n",
       "    </tr>\n",
       "    <tr>\n",
       "      <th>2</th>\n",
       "      <td>1413393212405760512</td>\n",
       "      <td>1413393212405760512.png</td>\n",
       "    </tr>\n",
       "    <tr>\n",
       "      <th>3</th>\n",
       "      <td>1413393212455760384</td>\n",
       "      <td>1413393212455760384.png</td>\n",
       "    </tr>\n",
       "    <tr>\n",
       "      <th>4</th>\n",
       "      <td>1413393212505760512</td>\n",
       "      <td>1413393212505760512.png</td>\n",
       "    </tr>\n",
       "  </tbody>\n",
       "</table>\n",
       "</div>"
      ],
      "text/plain": [
       "       #timestamp [ns]                 filename\n",
       "0  1413393212305760512  1413393212305760512.png\n",
       "1  1413393212355760384  1413393212355760384.png\n",
       "2  1413393212405760512  1413393212405760512.png\n",
       "3  1413393212455760384  1413393212455760384.png\n",
       "4  1413393212505760512  1413393212505760512.png"
      ]
     },
     "execution_count": 78,
     "metadata": {},
     "output_type": "execute_result"
    }
   ],
   "source": [
    "cam_df.head(5)"
   ]
  },
  {
   "cell_type": "code",
   "execution_count": 79,
   "id": "69bd47af-8796-48f9-8441-c1c1966b0078",
   "metadata": {},
   "outputs": [
    {
     "data": {
      "text/plain": [
       "(2279, 2)"
      ]
     },
     "execution_count": 79,
     "metadata": {},
     "output_type": "execute_result"
    }
   ],
   "source": [
    "cam_df.shape"
   ]
  },
  {
   "cell_type": "markdown",
   "id": "d3ef852c-f01f-4f46-9d7c-27bc9cfac249",
   "metadata": {},
   "source": [
    "### Checking Timestamp Matches from Cam to IMU"
   ]
  },
  {
   "cell_type": "code",
   "execution_count": 71,
   "id": "86dde4e1-bfcb-486b-ae10-2c26f8bec763",
   "metadata": {},
   "outputs": [],
   "source": [
    "exists = []\n",
    "for cam_ts in cam_df['#timestamp [ns]'].values:\n",
    "    if cam_ts in imu_df['#timestamp [ns]'].values:\n",
    "        exists.append(1)\n",
    "    else:\n",
    "        exists.append(0)"
   ]
  },
  {
   "cell_type": "code",
   "execution_count": 72,
   "id": "162d871c-825b-4525-b1ac-955af2d0ef20",
   "metadata": {},
   "outputs": [
    {
     "data": {
      "text/plain": [
       "1139"
      ]
     },
     "execution_count": 72,
     "metadata": {},
     "output_type": "execute_result"
    }
   ],
   "source": [
    "sum(exists)"
   ]
  },
  {
   "cell_type": "markdown",
   "id": "2a4825ba-dc38-49ff-ac7f-861e07773540",
   "metadata": {},
   "source": [
    "### Checking Deltas - IMU"
   ]
  },
  {
   "cell_type": "code",
   "execution_count": 11,
   "id": "aa9c62a6-2143-4784-b2da-e1de512b1a02",
   "metadata": {},
   "outputs": [
    {
     "data": {
      "text/plain": [
       "0        1413393212475760384\n",
       "1        1413393212485760512\n",
       "2        1413393212495760384\n",
       "3        1413393212505760512\n",
       "4        1413393212515760384\n",
       "                ...         \n",
       "11370    1413393326175760384\n",
       "11371    1413393326185760512\n",
       "11372    1413393326195760384\n",
       "11373    1413393326205760512\n",
       "11374    1413393326215760384\n",
       "Name: #timestamp [ns], Length: 11375, dtype: int64"
      ]
     },
     "execution_count": 11,
     "metadata": {},
     "output_type": "execute_result"
    }
   ],
   "source": [
    "imu_df['#timestamp [ns]']"
   ]
  },
  {
   "cell_type": "code",
   "execution_count": 12,
   "id": "8c72b290-2e33-4c85-96c3-adc2bf783965",
   "metadata": {},
   "outputs": [],
   "source": [
    "deltas = pd.to_datetime(imu_df['#timestamp [ns]']).diff() / np.timedelta64(1000000, 'ns')"
   ]
  },
  {
   "cell_type": "code",
   "execution_count": 13,
   "id": "afc859c9-a201-4225-b920-553056f19cac",
   "metadata": {},
   "outputs": [
    {
     "data": {
      "text/plain": [
       "0              NaN\n",
       "1        10.000128\n",
       "2         9.999872\n",
       "3        10.000128\n",
       "4         9.999872\n",
       "           ...    \n",
       "11370     9.999872\n",
       "11371    10.000128\n",
       "11372     9.999872\n",
       "11373    10.000128\n",
       "11374     9.999872\n",
       "Name: #timestamp [ns], Length: 11375, dtype: float64"
      ]
     },
     "execution_count": 13,
     "metadata": {},
     "output_type": "execute_result"
    }
   ],
   "source": [
    "deltas"
   ]
  },
  {
   "cell_type": "code",
   "execution_count": 14,
   "id": "4f7e1859-eb5f-4f51-8bb8-9702d9fe169a",
   "metadata": {},
   "outputs": [],
   "source": [
    "delta_df = pd.DataFrame({'Timestamp': imu_df['#timestamp [ns]'], 'Delta':deltas})"
   ]
  },
  {
   "cell_type": "code",
   "execution_count": 15,
   "id": "6b09ab32-c665-4255-9eaf-70cd3be0d6d2",
   "metadata": {},
   "outputs": [
    {
     "data": {
      "text/html": [
       "<div>\n",
       "<style scoped>\n",
       "    .dataframe tbody tr th:only-of-type {\n",
       "        vertical-align: middle;\n",
       "    }\n",
       "\n",
       "    .dataframe tbody tr th {\n",
       "        vertical-align: top;\n",
       "    }\n",
       "\n",
       "    .dataframe thead th {\n",
       "        text-align: right;\n",
       "    }\n",
       "</style>\n",
       "<table border=\"1\" class=\"dataframe\">\n",
       "  <thead>\n",
       "    <tr style=\"text-align: right;\">\n",
       "      <th></th>\n",
       "      <th>Timestamp</th>\n",
       "      <th>Delta</th>\n",
       "    </tr>\n",
       "  </thead>\n",
       "  <tbody>\n",
       "    <tr>\n",
       "      <th>0</th>\n",
       "      <td>1413393212475760384</td>\n",
       "      <td>NaN</td>\n",
       "    </tr>\n",
       "    <tr>\n",
       "      <th>1</th>\n",
       "      <td>1413393212485760512</td>\n",
       "      <td>10.000128</td>\n",
       "    </tr>\n",
       "    <tr>\n",
       "      <th>2</th>\n",
       "      <td>1413393212495760384</td>\n",
       "      <td>9.999872</td>\n",
       "    </tr>\n",
       "    <tr>\n",
       "      <th>3</th>\n",
       "      <td>1413393212505760512</td>\n",
       "      <td>10.000128</td>\n",
       "    </tr>\n",
       "    <tr>\n",
       "      <th>4</th>\n",
       "      <td>1413393212515760384</td>\n",
       "      <td>9.999872</td>\n",
       "    </tr>\n",
       "    <tr>\n",
       "      <th>5</th>\n",
       "      <td>1413393212525760512</td>\n",
       "      <td>10.000128</td>\n",
       "    </tr>\n",
       "    <tr>\n",
       "      <th>6</th>\n",
       "      <td>1413393212535760384</td>\n",
       "      <td>9.999872</td>\n",
       "    </tr>\n",
       "    <tr>\n",
       "      <th>7</th>\n",
       "      <td>1413393212545760512</td>\n",
       "      <td>10.000128</td>\n",
       "    </tr>\n",
       "    <tr>\n",
       "      <th>8</th>\n",
       "      <td>1413393212555760384</td>\n",
       "      <td>9.999872</td>\n",
       "    </tr>\n",
       "    <tr>\n",
       "      <th>9</th>\n",
       "      <td>1413393212565760512</td>\n",
       "      <td>10.000128</td>\n",
       "    </tr>\n",
       "  </tbody>\n",
       "</table>\n",
       "</div>"
      ],
      "text/plain": [
       "             Timestamp      Delta\n",
       "0  1413393212475760384        NaN\n",
       "1  1413393212485760512  10.000128\n",
       "2  1413393212495760384   9.999872\n",
       "3  1413393212505760512  10.000128\n",
       "4  1413393212515760384   9.999872\n",
       "5  1413393212525760512  10.000128\n",
       "6  1413393212535760384   9.999872\n",
       "7  1413393212545760512  10.000128\n",
       "8  1413393212555760384   9.999872\n",
       "9  1413393212565760512  10.000128"
      ]
     },
     "execution_count": 15,
     "metadata": {},
     "output_type": "execute_result"
    }
   ],
   "source": [
    "delta_df.head(10)"
   ]
  },
  {
   "cell_type": "code",
   "execution_count": 16,
   "id": "31a481fe-cb2b-4336-a272-23f8305c7849",
   "metadata": {},
   "outputs": [
    {
     "data": {
      "text/plain": [
       "Delta\n",
       "10.000128    5687\n",
       "9.999872     5687\n",
       "Name: count, dtype: int64"
      ]
     },
     "execution_count": 16,
     "metadata": {},
     "output_type": "execute_result"
    }
   ],
   "source": [
    "delta_df['Delta'].value_counts()"
   ]
  },
  {
   "cell_type": "code",
   "execution_count": 17,
   "id": "97ef2337-438c-4ee7-a79d-974984bc5c62",
   "metadata": {},
   "outputs": [
    {
     "data": {
      "text/plain": [
       "count    11374.000000\n",
       "mean        10.000000\n",
       "std          0.000128\n",
       "min          9.999872\n",
       "25%          9.999872\n",
       "50%         10.000000\n",
       "75%         10.000128\n",
       "max         10.000128\n",
       "Name: Delta, dtype: float64"
      ]
     },
     "execution_count": 17,
     "metadata": {},
     "output_type": "execute_result"
    }
   ],
   "source": [
    "delta_df['Delta'].describe()"
   ]
  },
  {
   "cell_type": "code",
   "execution_count": 18,
   "id": "6c1b9697-5a85-497b-bef6-b76ba9008168",
   "metadata": {},
   "outputs": [],
   "source": [
    "sns.set_theme(rc={'figure.figsize':(15,7)})"
   ]
  },
  {
   "cell_type": "code",
   "execution_count": 19,
   "id": "1465e942-78a2-4634-9cfc-daac1f828d73",
   "metadata": {},
   "outputs": [
    {
     "data": {
      "text/plain": [
       "[Text(0.5, 0, 'Timestamp - UTC'), Text(0, 0.5, 'Delta (in milliseconds)')]"
      ]
     },
     "execution_count": 19,
     "metadata": {},
     "output_type": "execute_result"
    },
    {
     "data": {
      "image/png": "[encoded data removed]",
      "text/plain": [
       "<Figure size 1500x700 with 1 Axes>"
      ]
     },
     "metadata": {},
     "output_type": "display_data"
    }
   ],
   "source": [
    "ax = sns.lineplot(data=delta_df[0:20], x=\"Timestamp\", y=\"Delta\", marker=\"o\")\n",
    "# ax.set(ylim=(7.0, 15.0))\n",
    "ax.ticklabel_format(style='sci', axis='y', useOffset=False)\n",
    "ax.set(xlabel='Timestamp - UTC', ylabel='Delta (in milliseconds)')"
   ]
  },
  {
   "cell_type": "code",
   "execution_count": 20,
   "id": "0189a7e6-c0ab-42c8-a47b-6f960e67e3c2",
   "metadata": {},
   "outputs": [
    {
     "data": {
      "text/plain": [
       "Delta\n",
       "10.000128    5687\n",
       "9.999872     5687\n",
       "Name: count, dtype: int64"
      ]
     },
     "execution_count": 20,
     "metadata": {},
     "output_type": "execute_result"
    }
   ],
   "source": [
    "delta_df['Delta'].value_counts()"
   ]
  },
  {
   "cell_type": "code",
   "execution_count": null,
   "id": "d37bc222-821d-4152-8296-decaa0248e41",
   "metadata": {},
   "outputs": [],
   "source": []
  },
  {
   "cell_type": "markdown",
   "id": "1baeedc6-fefd-4eb3-8467-453b52f68a64",
   "metadata": {},
   "source": [
    "### Checking Deltas - CAM"
   ]
  },
  {
   "cell_type": "code",
   "execution_count": 21,
   "id": "d4b05e8c-02aa-4509-90cf-96e9760b5b4b",
   "metadata": {},
   "outputs": [
    {
     "data": {
      "text/plain": [
       "0       1413393212355760384\n",
       "1       1413393212455760384\n",
       "2       1413393212555760384\n",
       "3       1413393212655760384\n",
       "4       1413393212755760384\n",
       "               ...         \n",
       "1134    1413393325755760384\n",
       "1135    1413393325855760384\n",
       "1136    1413393325955760384\n",
       "1137    1413393326055760384\n",
       "1138    1413393326155760384\n",
       "Name: #timestamp [ns], Length: 1139, dtype: int64"
      ]
     },
     "execution_count": 21,
     "metadata": {},
     "output_type": "execute_result"
    }
   ],
   "source": [
    "cam_df['#timestamp [ns]']"
   ]
  },
  {
   "cell_type": "code",
   "execution_count": 22,
   "id": "bda038aa-4032-4fbe-a08d-9ececd75f07b",
   "metadata": {},
   "outputs": [],
   "source": [
    "deltas = pd.to_datetime(cam_df['#timestamp [ns]']).diff() / np.timedelta64(1000000, 'ns')"
   ]
  },
  {
   "cell_type": "code",
   "execution_count": 23,
   "id": "602fda21-a5b6-4479-a012-31c4f23df608",
   "metadata": {},
   "outputs": [],
   "source": [
    "delta_df = pd.DataFrame({'Timestamp': cam_df['#timestamp [ns]'], 'Delta':deltas})"
   ]
  },
  {
   "cell_type": "code",
   "execution_count": 24,
   "id": "b506ab93-a617-454e-94fb-45e33f21234e",
   "metadata": {},
   "outputs": [
    {
     "data": {
      "text/html": [
       "<div>\n",
       "<style scoped>\n",
       "    .dataframe tbody tr th:only-of-type {\n",
       "        vertical-align: middle;\n",
       "    }\n",
       "\n",
       "    .dataframe tbody tr th {\n",
       "        vertical-align: top;\n",
       "    }\n",
       "\n",
       "    .dataframe thead th {\n",
       "        text-align: right;\n",
       "    }\n",
       "</style>\n",
       "<table border=\"1\" class=\"dataframe\">\n",
       "  <thead>\n",
       "    <tr style=\"text-align: right;\">\n",
       "      <th></th>\n",
       "      <th>Timestamp</th>\n",
       "      <th>Delta</th>\n",
       "    </tr>\n",
       "  </thead>\n",
       "  <tbody>\n",
       "    <tr>\n",
       "      <th>0</th>\n",
       "      <td>1413393212355760384</td>\n",
       "      <td>NaN</td>\n",
       "    </tr>\n",
       "    <tr>\n",
       "      <th>1</th>\n",
       "      <td>1413393212455760384</td>\n",
       "      <td>100.0</td>\n",
       "    </tr>\n",
       "    <tr>\n",
       "      <th>2</th>\n",
       "      <td>1413393212555760384</td>\n",
       "      <td>100.0</td>\n",
       "    </tr>\n",
       "    <tr>\n",
       "      <th>3</th>\n",
       "      <td>1413393212655760384</td>\n",
       "      <td>100.0</td>\n",
       "    </tr>\n",
       "    <tr>\n",
       "      <th>4</th>\n",
       "      <td>1413393212755760384</td>\n",
       "      <td>100.0</td>\n",
       "    </tr>\n",
       "    <tr>\n",
       "      <th>5</th>\n",
       "      <td>1413393212855760384</td>\n",
       "      <td>100.0</td>\n",
       "    </tr>\n",
       "    <tr>\n",
       "      <th>6</th>\n",
       "      <td>1413393212955760384</td>\n",
       "      <td>100.0</td>\n",
       "    </tr>\n",
       "    <tr>\n",
       "      <th>7</th>\n",
       "      <td>1413393213055760384</td>\n",
       "      <td>100.0</td>\n",
       "    </tr>\n",
       "    <tr>\n",
       "      <th>8</th>\n",
       "      <td>1413393213155760384</td>\n",
       "      <td>100.0</td>\n",
       "    </tr>\n",
       "    <tr>\n",
       "      <th>9</th>\n",
       "      <td>1413393213255760384</td>\n",
       "      <td>100.0</td>\n",
       "    </tr>\n",
       "  </tbody>\n",
       "</table>\n",
       "</div>"
      ],
      "text/plain": [
       "             Timestamp  Delta\n",
       "0  1413393212355760384    NaN\n",
       "1  1413393212455760384  100.0\n",
       "2  1413393212555760384  100.0\n",
       "3  1413393212655760384  100.0\n",
       "4  1413393212755760384  100.0\n",
       "5  1413393212855760384  100.0\n",
       "6  1413393212955760384  100.0\n",
       "7  1413393213055760384  100.0\n",
       "8  1413393213155760384  100.0\n",
       "9  1413393213255760384  100.0"
      ]
     },
     "execution_count": 24,
     "metadata": {},
     "output_type": "execute_result"
    }
   ],
   "source": [
    "delta_df.head(10)"
   ]
  },
  {
   "cell_type": "code",
   "execution_count": 25,
   "id": "2b522a6a-af75-4ebc-9569-b94287120f34",
   "metadata": {},
   "outputs": [
    {
     "data": {
      "text/plain": [
       "Delta\n",
       "100.0    1138\n",
       "Name: count, dtype: int64"
      ]
     },
     "execution_count": 25,
     "metadata": {},
     "output_type": "execute_result"
    }
   ],
   "source": [
    "delta_df['Delta'].value_counts()"
   ]
  },
  {
   "cell_type": "code",
   "execution_count": 26,
   "id": "b4180ca0-1e69-4563-9459-dcaa6e9036d3",
   "metadata": {},
   "outputs": [
    {
     "data": {
      "text/plain": [
       "count    1138.0\n",
       "mean      100.0\n",
       "std         0.0\n",
       "min       100.0\n",
       "25%       100.0\n",
       "50%       100.0\n",
       "75%       100.0\n",
       "max       100.0\n",
       "Name: Delta, dtype: float64"
      ]
     },
     "execution_count": 26,
     "metadata": {},
     "output_type": "execute_result"
    }
   ],
   "source": [
    "delta_df['Delta'].describe()"
   ]
  },
  {
   "cell_type": "code",
   "execution_count": 27,
   "id": "6613d3c7-a2df-4418-97ba-b05934937cfb",
   "metadata": {},
   "outputs": [
    {
     "data": {
      "text/plain": [
       "[Text(0.5, 0, 'Timestamp - UTC'), Text(0, 0.5, 'Delta (in milliseconds)')]"
      ]
     },
     "execution_count": 27,
     "metadata": {},
     "output_type": "execute_result"
    },
    {
     "data": {
      "image/png": "[encoded data removed]",
      "text/plain": [
       "<Figure size 1500x700 with 1 Axes>"
      ]
     },
     "metadata": {},
     "output_type": "display_data"
    }
   ],
   "source": [
    "ax = sns.lineplot(data=delta_df[0:100], x=\"Timestamp\", y=\"Delta\", marker=\"o\")\n",
    "# ax.set(ylim=(4.999900, 5.000200))\n",
    "ax.ticklabel_format(style='sci', axis='y', useOffset=False)\n",
    "ax.set(xlabel='Timestamp - UTC', ylabel='Delta (in milliseconds)')"
   ]
  },
  {
   "cell_type": "code",
   "execution_count": 28,
   "id": "9628c6e0-1ea8-478c-b5fc-52793f54053d",
   "metadata": {},
   "outputs": [
    {
     "data": {
      "text/plain": [
       "[Text(0.5, 0, 'Timestamp - UTC'), Text(0, 0.5, 'Delta (in milliseconds)')]"
      ]
     },
     "execution_count": 28,
     "metadata": {},
     "output_type": "execute_result"
    },
    {
     "data": {
      "image/png": "[encoded data removed]",
      "text/plain": [
       "<Figure size 1500x700 with 1 Axes>"
      ]
     },
     "metadata": {},
     "output_type": "display_data"
    }
   ],
   "source": [
    "ax = sns.lineplot(data=delta_df[delta_df['Delta'] <= 251], x=\"Timestamp\", y=\"Delta\", marker=\"o\")\n",
    "# ax.set(ylim=(4.999900, 5.000200))\n",
    "ax.ticklabel_format(style='sci', axis='y', useOffset=False)\n",
    "ax.set(xlabel='Timestamp - UTC', ylabel='Delta (in milliseconds)')"
   ]
  },
  {
   "cell_type": "code",
   "execution_count": null,
   "id": "bb191878-8eb9-4b5d-88e5-2bf0551daf0c",
   "metadata": {},
   "outputs": [],
   "source": []
  },
  {
   "cell_type": "code",
   "execution_count": null,
   "id": "d7107f4f-11cd-4ae9-b4c0-8e5fcd60814c",
   "metadata": {},
   "outputs": [],
   "source": []
  },
  {
   "cell_type": "code",
   "execution_count": null,
   "id": "9ca1d07c-d1dc-4fbd-a296-e4a79af0f576",
   "metadata": {},
   "outputs": [],
   "source": []
  },
  {
   "cell_type": "code",
   "execution_count": null,
   "id": "e9ca5d28-6d9d-4e25-bb5c-a859c7a8502f",
   "metadata": {},
   "outputs": [],
   "source": []
  },
  {
   "cell_type": "code",
   "execution_count": 77,
   "id": "a8d03530-7e4d-45ab-a555-485a5af65936",
   "metadata": {},
   "outputs": [
    {
     "name": "stdout",
     "output_type": "stream",
     "text": [
      "3.8989e-05\n"
     ]
    }
   ],
   "source": [
    "from datetime import datetime, timedelta\n",
    "\n",
    "to_convert = '0 days 10:49:49.470036'\n",
    "\n",
    "# printing initial_date\n",
    "print(pd.Timedelta(to_convert).seconds / 1000000000)"
   ]
  },
  {
   "cell_type": "code",
   "execution_count": 71,
   "id": "daad74e0-83e9-4f73-990d-a2765f3e0b1f",
   "metadata": {},
   "outputs": [
    {
     "data": {
      "text/plain": [
       "Timestamp('2024-09-13 13:48:17.037153')"
      ]
     },
     "execution_count": 71,
     "metadata": {},
     "output_type": "execute_result"
    }
   ],
   "source": [
    "pd.to_datetime(ini_time_for_now)"
   ]
  },
  {
   "cell_type": "code",
   "execution_count": null,
   "id": "c04cbc6d-bb9e-4d6f-9b7c-418fc3d6ebac",
   "metadata": {},
   "outputs": [],
   "source": []
  }
 ],
 "metadata": {
  "kernelspec": {
   "display_name": "Python 3 (ipykernel)",
   "language": "python",
   "name": "python3"
  },
  "language_info": {
   "codemirror_mode": {
    "name": "ipython",
    "version": 3
   },
   "file_extension": ".py",
   "mimetype": "text/x-python",
   "name": "python",
   "nbconvert_exporter": "python",
   "pygments_lexer": "ipython3",
   "version": "3.10.12"
  }
 },
 "nbformat": 4,
 "nbformat_minor": 5
}
