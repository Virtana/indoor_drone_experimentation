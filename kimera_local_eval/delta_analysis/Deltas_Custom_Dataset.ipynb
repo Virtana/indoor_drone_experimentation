{
 "cells": [
  {
   "cell_type": "code",
   "execution_count": 1,
   "id": "884ad146-f65b-41f1-9815-c8fa47af2f1b",
   "metadata": {},
   "outputs": [],
   "source": [
    "import pandas as pd\n",
    "import numpy as np\n",
    "\n",
    "import seaborn as sns"
   ]
  },
  {
   "cell_type": "code",
   "execution_count": 2,
   "id": "a377f791-b57b-44e9-a500-d8dcc825426f",
   "metadata": {},
   "outputs": [],
   "source": [
    "def find_nearest(array, value):\n",
    "    idx = (np.abs(array - value)).argmin()\n",
    "    return array[idx]"
   ]
  },
  {
   "cell_type": "code",
   "execution_count": 3,
   "id": "8bccb115-6e3a-4ff0-9875-c9dea354435d",
   "metadata": {},
   "outputs": [],
   "source": [
    "dir_path = '/home/shiva/Datasets/V2_01_easy/V2_01_easy/'"
   ]
  },
  {
   "cell_type": "code",
   "execution_count": 4,
   "id": "e3fa171f-a366-4ed0-9323-8d9a48eed3b1",
   "metadata": {},
   "outputs": [
    {
     "name": "stdout",
     "output_type": "stream",
     "text": [
      "home_office_3_400p\t mav0_office_working5\n",
      "home_office_4_720p\t mav0_virtana_office_working_2\n",
      "home_office_working_2\t mav0_virtana_office_working_3\n",
      "ImuParams.yaml\t\t output_logs\n",
      "Kimera_VIO_Output\t PARAMS_Custom\n",
      "LeftCameraParams.yaml\t PARAMS_Euroc\n",
      "mav0\t\t\t RightCameraParams.yaml\n",
      "mav0_euroc\t\t Timestamp_Checks_Manipulation.ipynb\n",
      "mav0_office_new_working  virtana_office_working_1\n",
      "mav0_office_NEW-working\n"
     ]
    }
   ],
   "source": [
    "!ls $dir_path"
   ]
  },
  {
   "cell_type": "code",
   "execution_count": 19,
   "id": "ac44e73b-692f-41ef-af74-28d1923c5cbc",
   "metadata": {},
   "outputs": [],
   "source": [
    "dir_name = 'mav0_office_new_working'"
   ]
  },
  {
   "cell_type": "code",
   "execution_count": 20,
   "id": "c109a2c9-c90c-4b9b-952f-71d4859b59b9",
   "metadata": {},
   "outputs": [],
   "source": [
    "num_rows_to_skip = 50"
   ]
  },
  {
   "cell_type": "code",
   "execution_count": 21,
   "id": "9461e112-0a1b-4efe-947a-b765dcea8a1f",
   "metadata": {},
   "outputs": [],
   "source": [
    "imu_df = pd.read_csv(f'{dir_path}{dir_name}/imu0/data.csv',skiprows=[1, num_rows_to_skip+1])\n",
    "cam_df = pd.read_csv(f'{dir_path}{dir_name}/cam0/data.csv',skiprows=[1, num_rows_to_skip+1])"
   ]
  },
  {
   "cell_type": "code",
   "execution_count": 22,
   "id": "10684c14-5daa-47e2-850c-89fe3e99c2e6",
   "metadata": {},
   "outputs": [
    {
     "data": {
      "text/html": [
       "<div>\n",
       "<style scoped>\n",
       "    .dataframe tbody tr th:only-of-type {\n",
       "        vertical-align: middle;\n",
       "    }\n",
       "\n",
       "    .dataframe tbody tr th {\n",
       "        vertical-align: top;\n",
       "    }\n",
       "\n",
       "    .dataframe thead th {\n",
       "        text-align: right;\n",
       "    }\n",
       "</style>\n",
       "<table border=\"1\" class=\"dataframe\">\n",
       "  <thead>\n",
       "    <tr style=\"text-align: right;\">\n",
       "      <th></th>\n",
       "      <th>#timestamp [ns]</th>\n",
       "      <th>filename</th>\n",
       "    </tr>\n",
       "  </thead>\n",
       "  <tbody>\n",
       "    <tr>\n",
       "      <th>0</th>\n",
       "      <td>1725476851102471168</td>\n",
       "      <td>1725476851102471168.png</td>\n",
       "    </tr>\n",
       "    <tr>\n",
       "      <th>1</th>\n",
       "      <td>1725476851227473920</td>\n",
       "      <td>1725476851227473920.png</td>\n",
       "    </tr>\n",
       "    <tr>\n",
       "      <th>2</th>\n",
       "      <td>1725476851352473856</td>\n",
       "      <td>1725476851352473856.png</td>\n",
       "    </tr>\n",
       "    <tr>\n",
       "      <th>3</th>\n",
       "      <td>1725476851477474048</td>\n",
       "      <td>1725476851477474048.png</td>\n",
       "    </tr>\n",
       "    <tr>\n",
       "      <th>4</th>\n",
       "      <td>1725476851602473984</td>\n",
       "      <td>1725476851602473984.png</td>\n",
       "    </tr>\n",
       "    <tr>\n",
       "      <th>...</th>\n",
       "      <td>...</td>\n",
       "      <td>...</td>\n",
       "    </tr>\n",
       "    <tr>\n",
       "      <th>586</th>\n",
       "      <td>1725476924487561984</td>\n",
       "      <td>1725476924487561984.png</td>\n",
       "    </tr>\n",
       "    <tr>\n",
       "      <th>587</th>\n",
       "      <td>1725476924612653056</td>\n",
       "      <td>1725476924612653056.png</td>\n",
       "    </tr>\n",
       "    <tr>\n",
       "      <th>588</th>\n",
       "      <td>1725476924737747968</td>\n",
       "      <td>1725476924737747968.png</td>\n",
       "    </tr>\n",
       "    <tr>\n",
       "      <th>589</th>\n",
       "      <td>1725476924862838016</td>\n",
       "      <td>1725476924862838016.png</td>\n",
       "    </tr>\n",
       "    <tr>\n",
       "      <th>590</th>\n",
       "      <td>1725476924987910912</td>\n",
       "      <td>1725476924987910912.png</td>\n",
       "    </tr>\n",
       "  </tbody>\n",
       "</table>\n",
       "<p>591 rows × 2 columns</p>\n",
       "</div>"
      ],
      "text/plain": [
       "         #timestamp [ns]                 filename\n",
       "0    1725476851102471168  1725476851102471168.png\n",
       "1    1725476851227473920  1725476851227473920.png\n",
       "2    1725476851352473856  1725476851352473856.png\n",
       "3    1725476851477474048  1725476851477474048.png\n",
       "4    1725476851602473984  1725476851602473984.png\n",
       "..                   ...                      ...\n",
       "586  1725476924487561984  1725476924487561984.png\n",
       "587  1725476924612653056  1725476924612653056.png\n",
       "588  1725476924737747968  1725476924737747968.png\n",
       "589  1725476924862838016  1725476924862838016.png\n",
       "590  1725476924987910912  1725476924987910912.png\n",
       "\n",
       "[591 rows x 2 columns]"
      ]
     },
     "execution_count": 22,
     "metadata": {},
     "output_type": "execute_result"
    }
   ],
   "source": [
    "cam_df"
   ]
  },
  {
   "cell_type": "code",
   "execution_count": 23,
   "id": "39bae727-6040-488b-9224-ba4c29804af3",
   "metadata": {},
   "outputs": [],
   "source": [
    "nearest_imu_ts = []\n",
    "\n",
    "for cam_ts in cam_df['#timestamp [ns]']:\n",
    "    nearest_imu_ts.append(find_nearest(imu_df['#timestamp [ns]'].values, cam_ts))"
   ]
  },
  {
   "cell_type": "code",
   "execution_count": 24,
   "id": "89b8c92d-81e9-40b7-9d63-1cc3527ec223",
   "metadata": {},
   "outputs": [],
   "source": [
    "delta_df = pd.DataFrame({'nearest_imu_ts':nearest_imu_ts, '#timestamp [ns]':cam_df['#timestamp [ns]']})"
   ]
  },
  {
   "cell_type": "code",
   "execution_count": 25,
   "id": "68aa6b2c-bac7-4cc2-ae84-aa203ff62618",
   "metadata": {},
   "outputs": [],
   "source": [
    "delta_df['imu_cam_delta'] = np.abs(delta_df['#timestamp [ns]'] - delta_df['nearest_imu_ts'])/1000000"
   ]
  },
  {
   "cell_type": "code",
   "execution_count": 26,
   "id": "9e7b4b3d-feed-4cff-b99a-81e11a14d7f3",
   "metadata": {},
   "outputs": [
    {
     "data": {
      "text/plain": [
       "count    591.000000\n",
       "mean       2.636509\n",
       "std        3.747948\n",
       "min        0.005120\n",
       "25%        1.257856\n",
       "50%        2.401280\n",
       "75%        3.728256\n",
       "max       86.634752\n",
       "Name: imu_cam_delta, dtype: float64"
      ]
     },
     "execution_count": 26,
     "metadata": {},
     "output_type": "execute_result"
    }
   ],
   "source": [
    "delta_df['imu_cam_delta'].describe()"
   ]
  },
  {
   "cell_type": "code",
   "execution_count": 27,
   "id": "0e0d8010-0d08-4ac3-8477-c99032e236c2",
   "metadata": {},
   "outputs": [
    {
     "data": {
      "text/plain": [
       "<Axes: xlabel='#timestamp [ns]', ylabel='imu_cam_delta'>"
      ]
     },
     "execution_count": 27,
     "metadata": {},
     "output_type": "execute_result"
    },
    {
     "data": {
      "image/png": "[encoded data removed]",
      "text/plain": [
       "<Figure size 640x480 with 1 Axes>"
      ]
     },
     "metadata": {},
     "output_type": "display_data"
    }
   ],
   "source": [
    "sns.lineplot(data=delta_df, x='#timestamp [ns]', y='imu_cam_delta')"
   ]
  },
  {
   "cell_type": "code",
   "execution_count": null,
   "id": "f4f5145f-306d-4056-854a-a643d9f26b87",
   "metadata": {},
   "outputs": [],
   "source": []
  }
 ],
 "metadata": {
  "kernelspec": {
   "display_name": "Python 3 (ipykernel)",
   "language": "python",
   "name": "python3"
  },
  "language_info": {
   "codemirror_mode": {
    "name": "ipython",
    "version": 3
   },
   "file_extension": ".py",
   "mimetype": "text/x-python",
   "name": "python",
   "nbconvert_exporter": "python",
   "pygments_lexer": "ipython3",
   "version": "3.10.12"
  }
 },
 "nbformat": 4,
 "nbformat_minor": 5
}
