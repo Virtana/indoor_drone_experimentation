{
 "cells": [
  {
   "cell_type": "code",
   "execution_count": 1,
   "id": "884ad146-f65b-41f1-9815-c8fa47af2f1b",
   "metadata": {},
   "outputs": [],
   "source": [
    "import pandas as pd\n",
    "import numpy as np\n",
    "\n",
    "import seaborn as sns"
   ]
  },
  {
   "cell_type": "code",
   "execution_count": 2,
   "id": "a377f791-b57b-44e9-a500-d8dcc825426f",
   "metadata": {},
   "outputs": [],
   "source": [
    "def find_nearest(array, value):\n",
    "    idx = (np.abs(array - value)).argmin()\n",
    "    return array[idx]"
   ]
  },
  {
   "cell_type": "code",
   "execution_count": 3,
   "id": "8bccb115-6e3a-4ff0-9875-c9dea354435d",
   "metadata": {},
   "outputs": [],
   "source": [
    "dir_path = '/home/shiva/Datasets/V2_01_easy/V2_01_easy/'"
   ]
  },
  {
   "cell_type": "code",
   "execution_count": 4,
   "id": "e3fa171f-a366-4ed0-9323-8d9a48eed3b1",
   "metadata": {},
   "outputs": [
    {
     "name": "stdout",
     "output_type": "stream",
     "text": [
      "home_office_3_400p\t mav0_office_NEW-working\n",
      "home_office_4_720p\t mav0_office_working5\n",
      "home_office_working_2\t mav0_virtana_office_working_2\n",
      "ImuParams.yaml\t\t mav0_virtana_office_working_3\n",
      "Kimera_VIO_Output\t PARAMS_Custom\n",
      "LeftCameraParams.yaml\t PARAMS_Euroc\n",
      "mav0\t\t\t RightCameraParams.yaml\n",
      "mav0_euroc\t\t Timestamp_Checks_Manipulation.ipynb\n",
      "mav0_office_new_working  virtana_office_working_1\n"
     ]
    }
   ],
   "source": [
    "!ls $dir_path"
   ]
  },
  {
   "cell_type": "code",
   "execution_count": 5,
   "id": "ac44e73b-692f-41ef-af74-28d1923c5cbc",
   "metadata": {},
   "outputs": [],
   "source": [
    "dir_name = 'mav0'"
   ]
  },
  {
   "cell_type": "code",
   "execution_count": 7,
   "id": "a5dc3957-df46-4955-bf5f-d3b693d2f5a1",
   "metadata": {},
   "outputs": [],
   "source": [
    "num_rows_to_skip = 0"
   ]
  },
  {
   "cell_type": "code",
   "execution_count": 8,
   "id": "9461e112-0a1b-4efe-947a-b765dcea8a1f",
   "metadata": {},
   "outputs": [],
   "source": [
    "imu_df = pd.read_csv(f'{dir_path}{dir_name}/imu0/data.csv',skiprows=[1, num_rows_to_skip+1])\n",
    "cam_df = pd.read_csv(f'{dir_path}{dir_name}/cam0/data.csv',skiprows=[1, num_rows_to_skip+1])"
   ]
  },
  {
   "cell_type": "code",
   "execution_count": 9,
   "id": "10684c14-5daa-47e2-850c-89fe3e99c2e6",
   "metadata": {},
   "outputs": [
    {
     "data": {
      "text/html": [
       "<div>\n",
       "<style scoped>\n",
       "    .dataframe tbody tr th:only-of-type {\n",
       "        vertical-align: middle;\n",
       "    }\n",
       "\n",
       "    .dataframe tbody tr th {\n",
       "        vertical-align: top;\n",
       "    }\n",
       "\n",
       "    .dataframe thead th {\n",
       "        text-align: right;\n",
       "    }\n",
       "</style>\n",
       "<table border=\"1\" class=\"dataframe\">\n",
       "  <thead>\n",
       "    <tr style=\"text-align: right;\">\n",
       "      <th></th>\n",
       "      <th>#timestamp [ns]</th>\n",
       "      <th>filename</th>\n",
       "    </tr>\n",
       "  </thead>\n",
       "  <tbody>\n",
       "    <tr>\n",
       "      <th>0</th>\n",
       "      <td>1413393212355760384</td>\n",
       "      <td>1413393212355760384.png</td>\n",
       "    </tr>\n",
       "    <tr>\n",
       "      <th>1</th>\n",
       "      <td>1413393212455760384</td>\n",
       "      <td>1413393212455760384.png</td>\n",
       "    </tr>\n",
       "    <tr>\n",
       "      <th>2</th>\n",
       "      <td>1413393212555760384</td>\n",
       "      <td>1413393212555760384.png</td>\n",
       "    </tr>\n",
       "    <tr>\n",
       "      <th>3</th>\n",
       "      <td>1413393212655760384</td>\n",
       "      <td>1413393212655760384.png</td>\n",
       "    </tr>\n",
       "    <tr>\n",
       "      <th>4</th>\n",
       "      <td>1413393212755760384</td>\n",
       "      <td>1413393212755760384.png</td>\n",
       "    </tr>\n",
       "    <tr>\n",
       "      <th>...</th>\n",
       "      <td>...</td>\n",
       "      <td>...</td>\n",
       "    </tr>\n",
       "    <tr>\n",
       "      <th>1134</th>\n",
       "      <td>1413393325755760384</td>\n",
       "      <td>1413393325755760384.png</td>\n",
       "    </tr>\n",
       "    <tr>\n",
       "      <th>1135</th>\n",
       "      <td>1413393325855760384</td>\n",
       "      <td>1413393325855760384.png</td>\n",
       "    </tr>\n",
       "    <tr>\n",
       "      <th>1136</th>\n",
       "      <td>1413393325955760384</td>\n",
       "      <td>1413393325955760384.png</td>\n",
       "    </tr>\n",
       "    <tr>\n",
       "      <th>1137</th>\n",
       "      <td>1413393326055760384</td>\n",
       "      <td>1413393326055760384.png</td>\n",
       "    </tr>\n",
       "    <tr>\n",
       "      <th>1138</th>\n",
       "      <td>1413393326155760384</td>\n",
       "      <td>1413393326155760384.png</td>\n",
       "    </tr>\n",
       "  </tbody>\n",
       "</table>\n",
       "<p>1139 rows × 2 columns</p>\n",
       "</div>"
      ],
      "text/plain": [
       "          #timestamp [ns]                 filename\n",
       "0     1413393212355760384  1413393212355760384.png\n",
       "1     1413393212455760384  1413393212455760384.png\n",
       "2     1413393212555760384  1413393212555760384.png\n",
       "3     1413393212655760384  1413393212655760384.png\n",
       "4     1413393212755760384  1413393212755760384.png\n",
       "...                   ...                      ...\n",
       "1134  1413393325755760384  1413393325755760384.png\n",
       "1135  1413393325855760384  1413393325855760384.png\n",
       "1136  1413393325955760384  1413393325955760384.png\n",
       "1137  1413393326055760384  1413393326055760384.png\n",
       "1138  1413393326155760384  1413393326155760384.png\n",
       "\n",
       "[1139 rows x 2 columns]"
      ]
     },
     "execution_count": 9,
     "metadata": {},
     "output_type": "execute_result"
    }
   ],
   "source": [
    "cam_df"
   ]
  },
  {
   "cell_type": "code",
   "execution_count": 10,
   "id": "39bae727-6040-488b-9224-ba4c29804af3",
   "metadata": {},
   "outputs": [],
   "source": [
    "nearest_imu_ts = []\n",
    "\n",
    "for cam_ts in cam_df['#timestamp [ns]']:\n",
    "    nearest_imu_ts.append(find_nearest(imu_df['#timestamp [ns]'].values, cam_ts))"
   ]
  },
  {
   "cell_type": "code",
   "execution_count": 11,
   "id": "acdd704c-f490-46ac-9b7d-779d083e566e",
   "metadata": {},
   "outputs": [
    {
     "data": {
      "text/plain": [
       "1139"
      ]
     },
     "execution_count": 11,
     "metadata": {},
     "output_type": "execute_result"
    }
   ],
   "source": [
    "len(nearest_imu_ts)"
   ]
  },
  {
   "cell_type": "code",
   "execution_count": 12,
   "id": "89b8c92d-81e9-40b7-9d63-1cc3527ec223",
   "metadata": {},
   "outputs": [],
   "source": [
    "delta_df = pd.DataFrame({'nearest_imu_ts':nearest_imu_ts, '#timestamp [ns]':cam_df['#timestamp [ns]']})"
   ]
  },
  {
   "cell_type": "code",
   "execution_count": 13,
   "id": "9e7b4b3d-feed-4cff-b99a-81e11a14d7f3",
   "metadata": {},
   "outputs": [],
   "source": [
    "delta_df['imu_cam_delta'] = np.abs(delta_df['#timestamp [ns]'] - delta_df['nearest_imu_ts'])/1000000"
   ]
  },
  {
   "cell_type": "code",
   "execution_count": 14,
   "id": "a8c56c00-dcf0-4788-897b-2ca9ba14ad81",
   "metadata": {},
   "outputs": [
    {
     "data": {
      "text/html": [
       "<div>\n",
       "<style scoped>\n",
       "    .dataframe tbody tr th:only-of-type {\n",
       "        vertical-align: middle;\n",
       "    }\n",
       "\n",
       "    .dataframe tbody tr th {\n",
       "        vertical-align: top;\n",
       "    }\n",
       "\n",
       "    .dataframe thead th {\n",
       "        text-align: right;\n",
       "    }\n",
       "</style>\n",
       "<table border=\"1\" class=\"dataframe\">\n",
       "  <thead>\n",
       "    <tr style=\"text-align: right;\">\n",
       "      <th></th>\n",
       "      <th>nearest_imu_ts</th>\n",
       "      <th>#timestamp [ns]</th>\n",
       "      <th>imu_cam_delta</th>\n",
       "    </tr>\n",
       "  </thead>\n",
       "  <tbody>\n",
       "    <tr>\n",
       "      <th>0</th>\n",
       "      <td>1413393212475760384</td>\n",
       "      <td>1413393212355760384</td>\n",
       "      <td>120.0</td>\n",
       "    </tr>\n",
       "    <tr>\n",
       "      <th>1</th>\n",
       "      <td>1413393212475760384</td>\n",
       "      <td>1413393212455760384</td>\n",
       "      <td>20.0</td>\n",
       "    </tr>\n",
       "    <tr>\n",
       "      <th>2</th>\n",
       "      <td>1413393212555760384</td>\n",
       "      <td>1413393212555760384</td>\n",
       "      <td>0.0</td>\n",
       "    </tr>\n",
       "    <tr>\n",
       "      <th>3</th>\n",
       "      <td>1413393212655760384</td>\n",
       "      <td>1413393212655760384</td>\n",
       "      <td>0.0</td>\n",
       "    </tr>\n",
       "    <tr>\n",
       "      <th>4</th>\n",
       "      <td>1413393212755760384</td>\n",
       "      <td>1413393212755760384</td>\n",
       "      <td>0.0</td>\n",
       "    </tr>\n",
       "  </tbody>\n",
       "</table>\n",
       "</div>"
      ],
      "text/plain": [
       "        nearest_imu_ts      #timestamp [ns]  imu_cam_delta\n",
       "0  1413393212475760384  1413393212355760384          120.0\n",
       "1  1413393212475760384  1413393212455760384           20.0\n",
       "2  1413393212555760384  1413393212555760384            0.0\n",
       "3  1413393212655760384  1413393212655760384            0.0\n",
       "4  1413393212755760384  1413393212755760384            0.0"
      ]
     },
     "execution_count": 14,
     "metadata": {},
     "output_type": "execute_result"
    }
   ],
   "source": [
    "delta_df.head(5)"
   ]
  },
  {
   "cell_type": "code",
   "execution_count": 15,
   "id": "66c5badf-e426-4f8a-b5c3-d41ced56eefe",
   "metadata": {},
   "outputs": [
    {
     "data": {
      "text/plain": [
       "count    1139.000000\n",
       "mean        0.122915\n",
       "std         3.604185\n",
       "min         0.000000\n",
       "25%         0.000000\n",
       "50%         0.000000\n",
       "75%         0.000000\n",
       "max       120.000000\n",
       "Name: imu_cam_delta, dtype: float64"
      ]
     },
     "execution_count": 15,
     "metadata": {},
     "output_type": "execute_result"
    }
   ],
   "source": [
    "delta_df['imu_cam_delta'].describe()"
   ]
  },
  {
   "cell_type": "code",
   "execution_count": 16,
   "id": "045c338b-cc82-46f7-b49f-e4e454a505a6",
   "metadata": {},
   "outputs": [
    {
     "data": {
      "text/plain": [
       "<Axes: xlabel='#timestamp [ns]', ylabel='imu_cam_delta'>"
      ]
     },
     "execution_count": 16,
     "metadata": {},
     "output_type": "execute_result"
    },
    {
     "data": {
      "image/png": "[encoded data removed]",
      "text/plain": [
       "<Figure size 640x480 with 1 Axes>"
      ]
     },
     "metadata": {},
     "output_type": "display_data"
    }
   ],
   "source": [
    "sns.lineplot(data=delta_df, x='#timestamp [ns]', y='imu_cam_delta')"
   ]
  },
  {
   "cell_type": "code",
   "execution_count": null,
   "id": "0be289c4-ebf9-4ee8-a0ff-45fbe5824b46",
   "metadata": {},
   "outputs": [],
   "source": []
  }
 ],
 "metadata": {
  "kernelspec": {
   "display_name": "Python 3 (ipykernel)",
   "language": "python",
   "name": "python3"
  },
  "language_info": {
   "codemirror_mode": {
    "name": "ipython",
    "version": 3
   },
   "file_extension": ".py",
   "mimetype": "text/x-python",
   "name": "python",
   "nbconvert_exporter": "python",
   "pygments_lexer": "ipython3",
   "version": "3.10.12"
  }
 },
 "nbformat": 4,
 "nbformat_minor": 5
}
