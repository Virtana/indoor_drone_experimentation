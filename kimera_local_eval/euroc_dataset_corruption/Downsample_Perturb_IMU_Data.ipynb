{
 "cells": [
  {
   "cell_type": "code",
   "execution_count": 49,
   "id": "6d568bd8-3e06-47da-b8d7-0c9bd5b68f89",
   "metadata": {},
   "outputs": [],
   "source": [
    "import pandas as pd\n",
    "import numpy as np"
   ]
  },
  {
   "cell_type": "markdown",
   "id": "808fc7fb-5705-4e40-addc-cd666695e365",
   "metadata": {},
   "source": [
    "# IMU Changes\n",
    "- IMU data was recorded at 200hz.\n",
    "- Because of the high frequency of this data, adding deltas (between 1000 and 1100 microseconds) were not significant to cause Kimera-VIO to crash.\n",
    "- Will now modify raw data and change it to 100 hz."
   ]
  },
  {
   "cell_type": "code",
   "execution_count": 106,
   "id": "32bff0e6-20e7-4b91-a60b-1597f8cd8d91",
   "metadata": {},
   "outputs": [],
   "source": [
    "df = pd.read_csv('./mav0/imu0/data.csv')"
   ]
  },
  {
   "cell_type": "code",
   "execution_count": 107,
   "id": "076cac72-20dc-4ea8-8376-3ef244600a34",
   "metadata": {},
   "outputs": [],
   "source": [
    "df['#timestamp [ns]'] = df['#timestamp [ns]'].astype('float64')"
   ]
  },
  {
   "cell_type": "code",
   "execution_count": 108,
   "id": "a02e1040-e8c7-45f6-b43a-1cded842bcd1",
   "metadata": {},
   "outputs": [
    {
     "name": "stdout",
     "output_type": "stream",
     "text": [
      "<class 'pandas.core.frame.DataFrame'>\n",
      "RangeIndex: 22800 entries, 0 to 22799\n",
      "Data columns (total 7 columns):\n",
      " #   Column               Non-Null Count  Dtype  \n",
      "---  ------               --------------  -----  \n",
      " 0   #timestamp [ns]      22800 non-null  float64\n",
      " 1   w_RS_S_x [rad s^-1]  22800 non-null  float64\n",
      " 2   w_RS_S_y [rad s^-1]  22800 non-null  float64\n",
      " 3   w_RS_S_z [rad s^-1]  22800 non-null  float64\n",
      " 4   a_RS_S_x [m s^-2]    22800 non-null  float64\n",
      " 5   a_RS_S_y [m s^-2]    22800 non-null  float64\n",
      " 6   a_RS_S_z [m s^-2]    22800 non-null  float64\n",
      "dtypes: float64(7)\n",
      "memory usage: 1.2 MB\n"
     ]
    }
   ],
   "source": [
    "df.info(verbose=True)"
   ]
  },
  {
   "cell_type": "code",
   "execution_count": 109,
   "id": "ce27c37d-d5e7-48c1-a262-6522afb47599",
   "metadata": {},
   "outputs": [],
   "source": [
    "# Check the deltas.\n",
    "orig_deltas = np.unique(np.diff(df['#timestamp [ns]']), return_counts=True)"
   ]
  },
  {
   "cell_type": "code",
   "execution_count": 110,
   "id": "c5bec865-6408-4fba-b6eb-f5f2e321675e",
   "metadata": {},
   "outputs": [
    {
     "name": "stdout",
     "output_type": "stream",
     "text": [
      "The frequency will be reduced to: 100.0\n"
     ]
    }
   ],
   "source": [
    "original_rate = 200\n",
    "reduction_factor = 2\n",
    "print(\"The frequency will be reduced to:\", original_rate/reduction_factor)"
   ]
  },
  {
   "cell_type": "code",
   "execution_count": 111,
   "id": "3f3aab63-0806-40f7-b57f-5812f77b24ea",
   "metadata": {},
   "outputs": [],
   "source": [
    "# Reducing frequency\n",
    "df = df.iloc[::reduction_factor]"
   ]
  },
  {
   "cell_type": "code",
   "execution_count": 112,
   "id": "20dd8029-26bb-430c-b250-846e1ed6227a",
   "metadata": {},
   "outputs": [
    {
     "name": "stdout",
     "output_type": "stream",
     "text": [
      "<class 'pandas.core.frame.DataFrame'>\n",
      "RangeIndex: 11400 entries, 0 to 22798\n",
      "Data columns (total 7 columns):\n",
      " #   Column               Non-Null Count  Dtype  \n",
      "---  ------               --------------  -----  \n",
      " 0   #timestamp [ns]      11400 non-null  float64\n",
      " 1   w_RS_S_x [rad s^-1]  11400 non-null  float64\n",
      " 2   w_RS_S_y [rad s^-1]  11400 non-null  float64\n",
      " 3   w_RS_S_z [rad s^-1]  11400 non-null  float64\n",
      " 4   a_RS_S_x [m s^-2]    11400 non-null  float64\n",
      " 5   a_RS_S_y [m s^-2]    11400 non-null  float64\n",
      " 6   a_RS_S_z [m s^-2]    11400 non-null  float64\n",
      "dtypes: float64(7)\n",
      "memory usage: 623.6 KB\n"
     ]
    }
   ],
   "source": [
    "df.info(verbose=True)"
   ]
  },
  {
   "cell_type": "code",
   "execution_count": 113,
   "id": "8d63ad44-2ddb-4da5-a669-c68937417f26",
   "metadata": {},
   "outputs": [],
   "source": [
    "# Check deltas after downsampling.\n",
    "new_deltas = np.unique(np.diff(df['#timestamp [ns]']), return_counts=True)"
   ]
  },
  {
   "cell_type": "code",
   "execution_count": 114,
   "id": "f1180fdb-15e2-4e0f-822e-2c2fc6a602a3",
   "metadata": {},
   "outputs": [
    {
     "data": {
      "text/plain": [
       "array([0.5      , 0.5000128])"
      ]
     },
     "execution_count": 114,
     "metadata": {},
     "output_type": "execute_result"
    }
   ],
   "source": [
    "#Since we have reduced the frequency, we should get a fractional value when we divide the original deltas by the new deltas\n",
    "orig_deltas[0] / new_deltas[0]"
   ]
  },
  {
   "cell_type": "code",
   "execution_count": 115,
   "id": "e7b49cb6-b2db-4978-90a6-6ae02d0ac997",
   "metadata": {},
   "outputs": [
    {
     "data": {
      "text/html": [
       "<div>\n",
       "<style scoped>\n",
       "    .dataframe tbody tr th:only-of-type {\n",
       "        vertical-align: middle;\n",
       "    }\n",
       "\n",
       "    .dataframe tbody tr th {\n",
       "        vertical-align: top;\n",
       "    }\n",
       "\n",
       "    .dataframe thead th {\n",
       "        text-align: right;\n",
       "    }\n",
       "</style>\n",
       "<table border=\"1\" class=\"dataframe\">\n",
       "  <thead>\n",
       "    <tr style=\"text-align: right;\">\n",
       "      <th></th>\n",
       "      <th>#timestamp [ns]</th>\n",
       "      <th>w_RS_S_x [rad s^-1]</th>\n",
       "      <th>w_RS_S_y [rad s^-1]</th>\n",
       "      <th>w_RS_S_z [rad s^-1]</th>\n",
       "      <th>a_RS_S_x [m s^-2]</th>\n",
       "      <th>a_RS_S_y [m s^-2]</th>\n",
       "      <th>a_RS_S_z [m s^-2]</th>\n",
       "    </tr>\n",
       "  </thead>\n",
       "  <tbody>\n",
       "    <tr>\n",
       "      <th>0</th>\n",
       "      <td>1.413393e+18</td>\n",
       "      <td>0.094946</td>\n",
       "      <td>0.020246</td>\n",
       "      <td>0.058643</td>\n",
       "      <td>9.128357</td>\n",
       "      <td>0.106239</td>\n",
       "      <td>-2.606934</td>\n",
       "    </tr>\n",
       "    <tr>\n",
       "      <th>2</th>\n",
       "      <td>1.413393e+18</td>\n",
       "      <td>-0.011170</td>\n",
       "      <td>0.027925</td>\n",
       "      <td>0.069813</td>\n",
       "      <td>9.398040</td>\n",
       "      <td>1.618097</td>\n",
       "      <td>-2.705001</td>\n",
       "    </tr>\n",
       "    <tr>\n",
       "      <th>4</th>\n",
       "      <td>1.413393e+18</td>\n",
       "      <td>-0.092153</td>\n",
       "      <td>0.036303</td>\n",
       "      <td>0.078889</td>\n",
       "      <td>8.989429</td>\n",
       "      <td>-0.130755</td>\n",
       "      <td>-2.713173</td>\n",
       "    </tr>\n",
       "    <tr>\n",
       "      <th>6</th>\n",
       "      <td>1.413393e+18</td>\n",
       "      <td>-0.005585</td>\n",
       "      <td>0.009076</td>\n",
       "      <td>0.113795</td>\n",
       "      <td>9.299973</td>\n",
       "      <td>-1.234003</td>\n",
       "      <td>-2.476179</td>\n",
       "    </tr>\n",
       "    <tr>\n",
       "      <th>8</th>\n",
       "      <td>1.413393e+18</td>\n",
       "      <td>0.061436</td>\n",
       "      <td>0.023736</td>\n",
       "      <td>0.091455</td>\n",
       "      <td>9.275456</td>\n",
       "      <td>0.073550</td>\n",
       "      <td>-2.582418</td>\n",
       "    </tr>\n",
       "    <tr>\n",
       "      <th>10</th>\n",
       "      <td>1.413393e+18</td>\n",
       "      <td>0.009774</td>\n",
       "      <td>0.028623</td>\n",
       "      <td>0.060039</td>\n",
       "      <td>9.471589</td>\n",
       "      <td>0.400438</td>\n",
       "      <td>-2.606934</td>\n",
       "    </tr>\n",
       "    <tr>\n",
       "      <th>12</th>\n",
       "      <td>1.413393e+18</td>\n",
       "      <td>-0.032114</td>\n",
       "      <td>0.042586</td>\n",
       "      <td>0.086568</td>\n",
       "      <td>9.332662</td>\n",
       "      <td>0.122583</td>\n",
       "      <td>-2.705001</td>\n",
       "    </tr>\n",
       "    <tr>\n",
       "      <th>14</th>\n",
       "      <td>1.413393e+18</td>\n",
       "      <td>-0.030718</td>\n",
       "      <td>0.041888</td>\n",
       "      <td>0.094946</td>\n",
       "      <td>9.659550</td>\n",
       "      <td>-0.375922</td>\n",
       "      <td>-2.917478</td>\n",
       "    </tr>\n",
       "    <tr>\n",
       "      <th>16</th>\n",
       "      <td>1.413393e+18</td>\n",
       "      <td>-0.000698</td>\n",
       "      <td>0.024435</td>\n",
       "      <td>0.077493</td>\n",
       "      <td>9.291801</td>\n",
       "      <td>-0.490333</td>\n",
       "      <td>-2.598762</td>\n",
       "    </tr>\n",
       "    <tr>\n",
       "      <th>18</th>\n",
       "      <td>1.413393e+18</td>\n",
       "      <td>0.032812</td>\n",
       "      <td>0.008378</td>\n",
       "      <td>0.075398</td>\n",
       "      <td>9.447073</td>\n",
       "      <td>-0.098067</td>\n",
       "      <td>-2.655968</td>\n",
       "    </tr>\n",
       "  </tbody>\n",
       "</table>\n",
       "</div>"
      ],
      "text/plain": [
       "    #timestamp [ns]  w_RS_S_x [rad s^-1]  w_RS_S_y [rad s^-1]  \\\n",
       "0      1.413393e+18             0.094946             0.020246   \n",
       "2      1.413393e+18            -0.011170             0.027925   \n",
       "4      1.413393e+18            -0.092153             0.036303   \n",
       "6      1.413393e+18            -0.005585             0.009076   \n",
       "8      1.413393e+18             0.061436             0.023736   \n",
       "10     1.413393e+18             0.009774             0.028623   \n",
       "12     1.413393e+18            -0.032114             0.042586   \n",
       "14     1.413393e+18            -0.030718             0.041888   \n",
       "16     1.413393e+18            -0.000698             0.024435   \n",
       "18     1.413393e+18             0.032812             0.008378   \n",
       "\n",
       "    w_RS_S_z [rad s^-1]  a_RS_S_x [m s^-2]  a_RS_S_y [m s^-2]  \\\n",
       "0              0.058643           9.128357           0.106239   \n",
       "2              0.069813           9.398040           1.618097   \n",
       "4              0.078889           8.989429          -0.130755   \n",
       "6              0.113795           9.299973          -1.234003   \n",
       "8              0.091455           9.275456           0.073550   \n",
       "10             0.060039           9.471589           0.400438   \n",
       "12             0.086568           9.332662           0.122583   \n",
       "14             0.094946           9.659550          -0.375922   \n",
       "16             0.077493           9.291801          -0.490333   \n",
       "18             0.075398           9.447073          -0.098067   \n",
       "\n",
       "    a_RS_S_z [m s^-2]  \n",
       "0           -2.606934  \n",
       "2           -2.705001  \n",
       "4           -2.713173  \n",
       "6           -2.476179  \n",
       "8           -2.582418  \n",
       "10          -2.606934  \n",
       "12          -2.705001  \n",
       "14          -2.917478  \n",
       "16          -2.598762  \n",
       "18          -2.655968  "
      ]
     },
     "execution_count": 115,
     "metadata": {},
     "output_type": "execute_result"
    }
   ],
   "source": [
    "df.head(10)"
   ]
  },
  {
   "cell_type": "code",
   "execution_count": 116,
   "id": "1050d8f9-45a0-4800-86b0-2be2b08c6323",
   "metadata": {},
   "outputs": [],
   "source": [
    "max_nano_seconds_to_add = max(np.unique(np.diff(df['#timestamp [ns]'])))"
   ]
  },
  {
   "cell_type": "code",
   "execution_count": 117,
   "id": "b9519dd5-3a4d-4a5b-813d-f106fd9696e3",
   "metadata": {},
   "outputs": [
    {
     "data": {
      "text/plain": [
       "10000128.0"
      ]
     },
     "execution_count": 117,
     "metadata": {},
     "output_type": "execute_result"
    }
   ],
   "source": [
    "max_nano_seconds_to_add"
   ]
  },
  {
   "cell_type": "code",
   "execution_count": 131,
   "id": "c1f89682-6e5f-4838-b59b-1cc860ffc3d0",
   "metadata": {},
   "outputs": [
    {
     "data": {
      "text/plain": [
       "5000063.5"
      ]
     },
     "execution_count": 131,
     "metadata": {},
     "output_type": "execute_result"
    }
   ],
   "source": [
    "(max_nano_seconds_to_add - 1)/2"
   ]
  },
  {
   "cell_type": "markdown",
   "id": "01bd7184-0ea0-4048-a47f-38b53da4a8b8",
   "metadata": {},
   "source": [
    "### Introducing Minor Variation in IMU Timestamps"
   ]
  },
  {
   "cell_type": "markdown",
   "id": "5061d783-7b84-4dda-a960-fae9dad658b9",
   "metadata": {},
   "source": [
    "- 1,000,000 ns = 1 ms\n",
    "- 10,000,000 ns = 10 ms (current delta)\n",
    "- We are introducing at most 5,000,000 ns (5ms) jitter.\n",
    "- In a worst case scenario, we can have 5,00,000 ns being subtracted and then for the next data point, we we can subtract none, leaving a max delta of 15,000,000 ns = 15 ms.\n",
    "- This means that in terms of 'jitter', we are introducing +/- 5ms.\n",
    "- If we introduce jitter of more than 10ms, we will have instances where timestamps overlap!"
   ]
  },
  {
   "cell_type": "code",
   "execution_count": 132,
   "id": "d400ecbe-bb27-46d4-9fcb-5f4a43137369",
   "metadata": {},
   "outputs": [],
   "source": [
    "random_nanoseconds_to_add = np.random.uniform(low=0, high=(max_nano_seconds_to_add - 1)/2, size=10)"
   ]
  },
  {
   "cell_type": "code",
   "execution_count": 133,
   "id": "20d04167-0328-4cf5-8424-fd3ac2eb46e8",
   "metadata": {},
   "outputs": [
    {
     "data": {
      "text/plain": [
       "array([1178065.67618299,  975229.3783837 , 4707068.63388826,\n",
       "       3595286.29665765,  687120.18172398, 3069300.31068198,\n",
       "        343318.34528093, 2943023.99132026, 3517968.26211942,\n",
       "       1887533.67558715])"
      ]
     },
     "execution_count": 133,
     "metadata": {},
     "output_type": "execute_result"
    }
   ],
   "source": [
    "random_nanoseconds_to_add"
   ]
  },
  {
   "cell_type": "code",
   "execution_count": 134,
   "id": "39b8569d-8495-4dd3-8f8d-4532c9c4ddf4",
   "metadata": {},
   "outputs": [],
   "source": [
    "default_ts_arr = df['#timestamp [ns]'].values"
   ]
  },
  {
   "cell_type": "code",
   "execution_count": 135,
   "id": "07be342c-b259-42e7-ac23-2ef3bf3ac5f8",
   "metadata": {},
   "outputs": [
    {
     "data": {
      "text/plain": [
       "array([ 9999872., 10000128.])"
      ]
     },
     "execution_count": 135,
     "metadata": {},
     "output_type": "execute_result"
    }
   ],
   "source": [
    "np.unique(np.diff(default_ts_arr))"
   ]
  },
  {
   "cell_type": "code",
   "execution_count": 136,
   "id": "2aeb8011-c92a-40ac-8a8f-cb2aa54db8b1",
   "metadata": {},
   "outputs": [],
   "source": [
    "modified_ts_arr = np.array([])"
   ]
  },
  {
   "cell_type": "code",
   "execution_count": 137,
   "id": "70d4dbcb-1788-4561-bcdb-ae65f98c98ae",
   "metadata": {},
   "outputs": [],
   "source": [
    "for def_ts in default_ts_arr:\n",
    "    modified_ts = float(def_ts - np.random.choice(random_nanoseconds_to_add, 1)[0])\n",
    "    modified_ts_arr = np.append(modified_ts_arr, modified_ts)"
   ]
  },
  {
   "cell_type": "code",
   "execution_count": 143,
   "id": "be4b1eff-f7b5-463a-a2c1-ddb54a95feb2",
   "metadata": {},
   "outputs": [
    {
     "data": {
      "text/plain": [
       "array([ 5636096.,  5636352.,  5979904.,  5980160.,  6267904.,  6268160.,\n",
       "        6470912.,  6471168.,  6747904.,  6748160.,  6825216.,  6825472.,\n",
       "        7091712.,  7091968.,  7169024.,  7169280.,  7180288.,  7180544.,\n",
       "        7273984.,  7274240.,  7379712.,  7379968.,  7400192.,  7400448.,\n",
       "        7457024.,  7457280.,  7582720.,  7582976.,  7617792.,  7618048.,\n",
       "        7660032.,  7660288.,  7744000.,  7744256.,  7905792.,  7906048.,\n",
       "        8032000.,  8032256.,  8108800.,  8109056.,  8235008.,  8235264.,\n",
       "        8235776.,  8236032.,  8292096.,  8292352.,  8361984.,  8362240.,\n",
       "        8369408.,  8369664.,  8455680.,  8455936.,  8799488.,  8799744.,\n",
       "        8810752.,  8811008.,  8818176.,  8818432.,  8888064.,  8888320.,\n",
       "        8944384.,  8944640.,  9087488.,  9087744.,  9165056.,  9165312.,\n",
       "        9290496.,  9290752.,  9347584.,  9347840.,  9368064.,  9368320.,\n",
       "        9424896.,  9425152.,  9473792.,  9474048.,  9508864.,  9509120.,\n",
       "        9551104.,  9551360.,  9656064.,  9656320.,  9711872.,  9712128.,\n",
       "        9796864.,  9797120.,  9873664.,  9873920.,  9922560.,  9922816.,\n",
       "        9999872., 10000128., 10077184., 10077440., 10126080., 10126336.,\n",
       "       10202880., 10203136., 10287872., 10288128., 10343680., 10343936.,\n",
       "       10448640., 10448896., 10490880., 10491136., 10525952., 10526208.,\n",
       "       10574848., 10575104., 10631680., 10631936., 10652160., 10652416.,\n",
       "       10709248., 10709504., 10834688., 10834944., 10912256., 10912512.,\n",
       "       11055360., 11055616., 11111680., 11111936., 11181568., 11181824.,\n",
       "       11188992., 11189248., 11200256., 11200512., 11544064., 11544320.,\n",
       "       11630336., 11630592., 11637760., 11638016., 11707648., 11707904.,\n",
       "       11763968., 11764224., 11764736., 11764992., 11890944., 11891200.,\n",
       "       11967744., 11968000., 12093952., 12094208., 12255744., 12256000.,\n",
       "       12339712., 12339968., 12381952., 12382208., 12417024., 12417280.,\n",
       "       12542720., 12542976., 12599552., 12599808., 12620032., 12620288.,\n",
       "       12725760., 12726016., 12819456., 12819712., 12830720., 12830976.,\n",
       "       12908032., 12908288., 13174528., 13174784., 13251840., 13252096.,\n",
       "       13528832., 13529088., 13731840., 13732096., 14019840., 14020096.,\n",
       "       14363648., 14363904.])"
      ]
     },
     "execution_count": 143,
     "metadata": {},
     "output_type": "execute_result"
    }
   ],
   "source": [
    "np.unique(np.diff(modified_ts_arr))"
   ]
  },
  {
   "cell_type": "code",
   "execution_count": 139,
   "id": "38b98ea9-4c94-49f9-a8f3-4eb06bf679df",
   "metadata": {},
   "outputs": [
    {
     "data": {
      "text/plain": [
       "array([False, False, False, False, False, False, False, False, False,\n",
       "       False, False, False, False, False, False, False, False, False,\n",
       "       False, False, False, False, False, False, False, False, False,\n",
       "       False, False, False, False, False, False, False, False, False,\n",
       "       False, False, False, False, False, False, False, False, False,\n",
       "       False, False, False, False, False, False, False, False, False,\n",
       "       False, False, False, False, False, False, False, False, False,\n",
       "       False, False, False, False, False, False, False, False, False,\n",
       "       False, False, False, False, False, False, False, False, False,\n",
       "       False, False, False, False, False, False, False, False, False,\n",
       "       False, False, False, False, False, False, False, False, False,\n",
       "       False, False, False, False, False, False, False, False, False,\n",
       "       False, False, False, False, False, False, False, False, False,\n",
       "       False, False, False, False, False, False, False, False, False,\n",
       "       False, False, False, False, False, False, False, False, False,\n",
       "       False, False, False, False, False, False, False, False, False,\n",
       "       False, False, False, False, False, False, False, False, False,\n",
       "       False, False, False, False, False, False, False, False, False,\n",
       "       False, False, False, False, False, False, False, False, False,\n",
       "       False, False, False, False, False, False, False, False, False,\n",
       "       False, False])"
      ]
     },
     "execution_count": 139,
     "metadata": {},
     "output_type": "execute_result"
    }
   ],
   "source": [
    "np.unique(np.diff(modified_ts_arr)) > max_nano_seconds_to_add * 1.5"
   ]
  },
  {
   "cell_type": "code",
   "execution_count": 144,
   "id": "0ea8ef1d-11fe-4422-98b1-9f8668ed52c2",
   "metadata": {},
   "outputs": [],
   "source": [
    "df['#timestamp [ns]'] = modified_ts"
   ]
  },
  {
   "cell_type": "code",
   "execution_count": 145,
   "id": "8df4234d-7e5f-49e6-a470-b2feb6b66d36",
   "metadata": {},
   "outputs": [
    {
     "data": {
      "text/plain": [
       "(array([0.]), array([11399]))"
      ]
     },
     "execution_count": 145,
     "metadata": {},
     "output_type": "execute_result"
    }
   ],
   "source": [
    "np.unique(np.diff(df['#timestamp [ns]']), return_counts=True)"
   ]
  },
  {
   "cell_type": "markdown",
   "id": "c2d64891-2cd9-46ff-8d92-c344713f5688",
   "metadata": {},
   "source": [
    "### End Section"
   ]
  },
  {
   "cell_type": "code",
   "execution_count": 146,
   "id": "04794a81-c4a0-4f9f-8f37-b43021661be5",
   "metadata": {},
   "outputs": [
    {
     "data": {
      "text/html": [
       "<div>\n",
       "<style scoped>\n",
       "    .dataframe tbody tr th:only-of-type {\n",
       "        vertical-align: middle;\n",
       "    }\n",
       "\n",
       "    .dataframe tbody tr th {\n",
       "        vertical-align: top;\n",
       "    }\n",
       "\n",
       "    .dataframe thead th {\n",
       "        text-align: right;\n",
       "    }\n",
       "</style>\n",
       "<table border=\"1\" class=\"dataframe\">\n",
       "  <thead>\n",
       "    <tr style=\"text-align: right;\">\n",
       "      <th></th>\n",
       "      <th>#timestamp [ns]</th>\n",
       "      <th>w_RS_S_x [rad s^-1]</th>\n",
       "      <th>w_RS_S_y [rad s^-1]</th>\n",
       "      <th>w_RS_S_z [rad s^-1]</th>\n",
       "      <th>a_RS_S_x [m s^-2]</th>\n",
       "      <th>a_RS_S_y [m s^-2]</th>\n",
       "      <th>a_RS_S_z [m s^-2]</th>\n",
       "    </tr>\n",
       "  </thead>\n",
       "  <tbody>\n",
       "    <tr>\n",
       "      <th>0</th>\n",
       "      <td>1.413393e+18</td>\n",
       "      <td>0.094946</td>\n",
       "      <td>0.020246</td>\n",
       "      <td>0.058643</td>\n",
       "      <td>9.128357</td>\n",
       "      <td>0.106239</td>\n",
       "      <td>-2.606934</td>\n",
       "    </tr>\n",
       "    <tr>\n",
       "      <th>2</th>\n",
       "      <td>1.413393e+18</td>\n",
       "      <td>-0.011170</td>\n",
       "      <td>0.027925</td>\n",
       "      <td>0.069813</td>\n",
       "      <td>9.398040</td>\n",
       "      <td>1.618097</td>\n",
       "      <td>-2.705001</td>\n",
       "    </tr>\n",
       "    <tr>\n",
       "      <th>4</th>\n",
       "      <td>1.413393e+18</td>\n",
       "      <td>-0.092153</td>\n",
       "      <td>0.036303</td>\n",
       "      <td>0.078889</td>\n",
       "      <td>8.989429</td>\n",
       "      <td>-0.130755</td>\n",
       "      <td>-2.713173</td>\n",
       "    </tr>\n",
       "    <tr>\n",
       "      <th>6</th>\n",
       "      <td>1.413393e+18</td>\n",
       "      <td>-0.005585</td>\n",
       "      <td>0.009076</td>\n",
       "      <td>0.113795</td>\n",
       "      <td>9.299973</td>\n",
       "      <td>-1.234003</td>\n",
       "      <td>-2.476179</td>\n",
       "    </tr>\n",
       "    <tr>\n",
       "      <th>8</th>\n",
       "      <td>1.413393e+18</td>\n",
       "      <td>0.061436</td>\n",
       "      <td>0.023736</td>\n",
       "      <td>0.091455</td>\n",
       "      <td>9.275456</td>\n",
       "      <td>0.073550</td>\n",
       "      <td>-2.582418</td>\n",
       "    </tr>\n",
       "    <tr>\n",
       "      <th>10</th>\n",
       "      <td>1.413393e+18</td>\n",
       "      <td>0.009774</td>\n",
       "      <td>0.028623</td>\n",
       "      <td>0.060039</td>\n",
       "      <td>9.471589</td>\n",
       "      <td>0.400438</td>\n",
       "      <td>-2.606934</td>\n",
       "    </tr>\n",
       "    <tr>\n",
       "      <th>12</th>\n",
       "      <td>1.413393e+18</td>\n",
       "      <td>-0.032114</td>\n",
       "      <td>0.042586</td>\n",
       "      <td>0.086568</td>\n",
       "      <td>9.332662</td>\n",
       "      <td>0.122583</td>\n",
       "      <td>-2.705001</td>\n",
       "    </tr>\n",
       "    <tr>\n",
       "      <th>14</th>\n",
       "      <td>1.413393e+18</td>\n",
       "      <td>-0.030718</td>\n",
       "      <td>0.041888</td>\n",
       "      <td>0.094946</td>\n",
       "      <td>9.659550</td>\n",
       "      <td>-0.375922</td>\n",
       "      <td>-2.917478</td>\n",
       "    </tr>\n",
       "    <tr>\n",
       "      <th>16</th>\n",
       "      <td>1.413393e+18</td>\n",
       "      <td>-0.000698</td>\n",
       "      <td>0.024435</td>\n",
       "      <td>0.077493</td>\n",
       "      <td>9.291801</td>\n",
       "      <td>-0.490333</td>\n",
       "      <td>-2.598762</td>\n",
       "    </tr>\n",
       "    <tr>\n",
       "      <th>18</th>\n",
       "      <td>1.413393e+18</td>\n",
       "      <td>0.032812</td>\n",
       "      <td>0.008378</td>\n",
       "      <td>0.075398</td>\n",
       "      <td>9.447073</td>\n",
       "      <td>-0.098067</td>\n",
       "      <td>-2.655968</td>\n",
       "    </tr>\n",
       "  </tbody>\n",
       "</table>\n",
       "</div>"
      ],
      "text/plain": [
       "    #timestamp [ns]  w_RS_S_x [rad s^-1]  w_RS_S_y [rad s^-1]  \\\n",
       "0      1.413393e+18             0.094946             0.020246   \n",
       "2      1.413393e+18            -0.011170             0.027925   \n",
       "4      1.413393e+18            -0.092153             0.036303   \n",
       "6      1.413393e+18            -0.005585             0.009076   \n",
       "8      1.413393e+18             0.061436             0.023736   \n",
       "10     1.413393e+18             0.009774             0.028623   \n",
       "12     1.413393e+18            -0.032114             0.042586   \n",
       "14     1.413393e+18            -0.030718             0.041888   \n",
       "16     1.413393e+18            -0.000698             0.024435   \n",
       "18     1.413393e+18             0.032812             0.008378   \n",
       "\n",
       "    w_RS_S_z [rad s^-1]  a_RS_S_x [m s^-2]  a_RS_S_y [m s^-2]  \\\n",
       "0              0.058643           9.128357           0.106239   \n",
       "2              0.069813           9.398040           1.618097   \n",
       "4              0.078889           8.989429          -0.130755   \n",
       "6              0.113795           9.299973          -1.234003   \n",
       "8              0.091455           9.275456           0.073550   \n",
       "10             0.060039           9.471589           0.400438   \n",
       "12             0.086568           9.332662           0.122583   \n",
       "14             0.094946           9.659550          -0.375922   \n",
       "16             0.077493           9.291801          -0.490333   \n",
       "18             0.075398           9.447073          -0.098067   \n",
       "\n",
       "    a_RS_S_z [m s^-2]  \n",
       "0           -2.606934  \n",
       "2           -2.705001  \n",
       "4           -2.713173  \n",
       "6           -2.476179  \n",
       "8           -2.582418  \n",
       "10          -2.606934  \n",
       "12          -2.705001  \n",
       "14          -2.917478  \n",
       "16          -2.598762  \n",
       "18          -2.655968  "
      ]
     },
     "execution_count": 146,
     "metadata": {},
     "output_type": "execute_result"
    }
   ],
   "source": [
    "df.head(10)"
   ]
  },
  {
   "cell_type": "code",
   "execution_count": 147,
   "id": "8cf10e92-b351-4e06-a01d-42b72f423ab1",
   "metadata": {},
   "outputs": [],
   "source": [
    "df['#timestamp [ns]'] = df['#timestamp [ns]'].apply(lambda x: f\"{x:.0f}\")"
   ]
  },
  {
   "cell_type": "code",
   "execution_count": 148,
   "id": "2358a4cc-7654-46af-8cf8-532af314e6f9",
   "metadata": {},
   "outputs": [
    {
     "data": {
      "text/html": [
       "<div>\n",
       "<style scoped>\n",
       "    .dataframe tbody tr th:only-of-type {\n",
       "        vertical-align: middle;\n",
       "    }\n",
       "\n",
       "    .dataframe tbody tr th {\n",
       "        vertical-align: top;\n",
       "    }\n",
       "\n",
       "    .dataframe thead th {\n",
       "        text-align: right;\n",
       "    }\n",
       "</style>\n",
       "<table border=\"1\" class=\"dataframe\">\n",
       "  <thead>\n",
       "    <tr style=\"text-align: right;\">\n",
       "      <th></th>\n",
       "      <th>#timestamp [ns]</th>\n",
       "      <th>w_RS_S_x [rad s^-1]</th>\n",
       "      <th>w_RS_S_y [rad s^-1]</th>\n",
       "      <th>w_RS_S_z [rad s^-1]</th>\n",
       "      <th>a_RS_S_x [m s^-2]</th>\n",
       "      <th>a_RS_S_y [m s^-2]</th>\n",
       "      <th>a_RS_S_z [m s^-2]</th>\n",
       "    </tr>\n",
       "  </thead>\n",
       "  <tbody>\n",
       "    <tr>\n",
       "      <th>0</th>\n",
       "      <td>1413393326214785280</td>\n",
       "      <td>0.094946</td>\n",
       "      <td>0.020246</td>\n",
       "      <td>0.058643</td>\n",
       "      <td>9.128357</td>\n",
       "      <td>0.106239</td>\n",
       "      <td>-2.606934</td>\n",
       "    </tr>\n",
       "    <tr>\n",
       "      <th>2</th>\n",
       "      <td>1413393326214785280</td>\n",
       "      <td>-0.011170</td>\n",
       "      <td>0.027925</td>\n",
       "      <td>0.069813</td>\n",
       "      <td>9.398040</td>\n",
       "      <td>1.618097</td>\n",
       "      <td>-2.705001</td>\n",
       "    </tr>\n",
       "    <tr>\n",
       "      <th>4</th>\n",
       "      <td>1413393326214785280</td>\n",
       "      <td>-0.092153</td>\n",
       "      <td>0.036303</td>\n",
       "      <td>0.078889</td>\n",
       "      <td>8.989429</td>\n",
       "      <td>-0.130755</td>\n",
       "      <td>-2.713173</td>\n",
       "    </tr>\n",
       "    <tr>\n",
       "      <th>6</th>\n",
       "      <td>1413393326214785280</td>\n",
       "      <td>-0.005585</td>\n",
       "      <td>0.009076</td>\n",
       "      <td>0.113795</td>\n",
       "      <td>9.299973</td>\n",
       "      <td>-1.234003</td>\n",
       "      <td>-2.476179</td>\n",
       "    </tr>\n",
       "    <tr>\n",
       "      <th>8</th>\n",
       "      <td>1413393326214785280</td>\n",
       "      <td>0.061436</td>\n",
       "      <td>0.023736</td>\n",
       "      <td>0.091455</td>\n",
       "      <td>9.275456</td>\n",
       "      <td>0.073550</td>\n",
       "      <td>-2.582418</td>\n",
       "    </tr>\n",
       "    <tr>\n",
       "      <th>10</th>\n",
       "      <td>1413393326214785280</td>\n",
       "      <td>0.009774</td>\n",
       "      <td>0.028623</td>\n",
       "      <td>0.060039</td>\n",
       "      <td>9.471589</td>\n",
       "      <td>0.400438</td>\n",
       "      <td>-2.606934</td>\n",
       "    </tr>\n",
       "    <tr>\n",
       "      <th>12</th>\n",
       "      <td>1413393326214785280</td>\n",
       "      <td>-0.032114</td>\n",
       "      <td>0.042586</td>\n",
       "      <td>0.086568</td>\n",
       "      <td>9.332662</td>\n",
       "      <td>0.122583</td>\n",
       "      <td>-2.705001</td>\n",
       "    </tr>\n",
       "    <tr>\n",
       "      <th>14</th>\n",
       "      <td>1413393326214785280</td>\n",
       "      <td>-0.030718</td>\n",
       "      <td>0.041888</td>\n",
       "      <td>0.094946</td>\n",
       "      <td>9.659550</td>\n",
       "      <td>-0.375922</td>\n",
       "      <td>-2.917478</td>\n",
       "    </tr>\n",
       "    <tr>\n",
       "      <th>16</th>\n",
       "      <td>1413393326214785280</td>\n",
       "      <td>-0.000698</td>\n",
       "      <td>0.024435</td>\n",
       "      <td>0.077493</td>\n",
       "      <td>9.291801</td>\n",
       "      <td>-0.490333</td>\n",
       "      <td>-2.598762</td>\n",
       "    </tr>\n",
       "    <tr>\n",
       "      <th>18</th>\n",
       "      <td>1413393326214785280</td>\n",
       "      <td>0.032812</td>\n",
       "      <td>0.008378</td>\n",
       "      <td>0.075398</td>\n",
       "      <td>9.447073</td>\n",
       "      <td>-0.098067</td>\n",
       "      <td>-2.655968</td>\n",
       "    </tr>\n",
       "  </tbody>\n",
       "</table>\n",
       "</div>"
      ],
      "text/plain": [
       "        #timestamp [ns]  w_RS_S_x [rad s^-1]  w_RS_S_y [rad s^-1]  \\\n",
       "0   1413393326214785280             0.094946             0.020246   \n",
       "2   1413393326214785280            -0.011170             0.027925   \n",
       "4   1413393326214785280            -0.092153             0.036303   \n",
       "6   1413393326214785280            -0.005585             0.009076   \n",
       "8   1413393326214785280             0.061436             0.023736   \n",
       "10  1413393326214785280             0.009774             0.028623   \n",
       "12  1413393326214785280            -0.032114             0.042586   \n",
       "14  1413393326214785280            -0.030718             0.041888   \n",
       "16  1413393326214785280            -0.000698             0.024435   \n",
       "18  1413393326214785280             0.032812             0.008378   \n",
       "\n",
       "    w_RS_S_z [rad s^-1]  a_RS_S_x [m s^-2]  a_RS_S_y [m s^-2]  \\\n",
       "0              0.058643           9.128357           0.106239   \n",
       "2              0.069813           9.398040           1.618097   \n",
       "4              0.078889           8.989429          -0.130755   \n",
       "6              0.113795           9.299973          -1.234003   \n",
       "8              0.091455           9.275456           0.073550   \n",
       "10             0.060039           9.471589           0.400438   \n",
       "12             0.086568           9.332662           0.122583   \n",
       "14             0.094946           9.659550          -0.375922   \n",
       "16             0.077493           9.291801          -0.490333   \n",
       "18             0.075398           9.447073          -0.098067   \n",
       "\n",
       "    a_RS_S_z [m s^-2]  \n",
       "0           -2.606934  \n",
       "2           -2.705001  \n",
       "4           -2.713173  \n",
       "6           -2.476179  \n",
       "8           -2.582418  \n",
       "10          -2.606934  \n",
       "12          -2.705001  \n",
       "14          -2.917478  \n",
       "16          -2.598762  \n",
       "18          -2.655968  "
      ]
     },
     "execution_count": 148,
     "metadata": {},
     "output_type": "execute_result"
    }
   ],
   "source": [
    "df.head(10)"
   ]
  },
  {
   "cell_type": "code",
   "execution_count": 41,
   "id": "8d1ed96d-8afd-4c13-afb8-b67a1a08e92e",
   "metadata": {},
   "outputs": [],
   "source": [
    "df.to_csv('./mav0/imu0/data_modified.csv', index=False)"
   ]
  },
  {
   "cell_type": "code",
   "execution_count": 42,
   "id": "95e72166-8040-4afd-9cdc-2e339017cd5b",
   "metadata": {},
   "outputs": [],
   "source": [
    "!cp ./mav0/imu0/data_modified.csv /home/shiva/Datasets/V2_01_easy/V2_01_easy/mav0/imu0/data.csv"
   ]
  },
  {
   "cell_type": "code",
   "execution_count": null,
   "id": "e3ae03c8-088a-49aa-882e-cb794738869f",
   "metadata": {},
   "outputs": [],
   "source": []
  }
 ],
 "metadata": {
  "kernelspec": {
   "display_name": "Python 3 (ipykernel)",
   "language": "python",
   "name": "python3"
  },
  "language_info": {
   "codemirror_mode": {
    "name": "ipython",
    "version": 3
   },
   "file_extension": ".py",
   "mimetype": "text/x-python",
   "name": "python",
   "nbconvert_exporter": "python",
   "pygments_lexer": "ipython3",
   "version": "3.10.12"
  }
 },
 "nbformat": 4,
 "nbformat_minor": 5
}
