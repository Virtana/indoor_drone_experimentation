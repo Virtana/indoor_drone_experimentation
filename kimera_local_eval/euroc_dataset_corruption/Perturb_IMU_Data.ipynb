{
 "cells": [
  {
   "cell_type": "code",
   "execution_count": 28,
   "id": "6d568bd8-3e06-47da-b8d7-0c9bd5b68f89",
   "metadata": {},
   "outputs": [],
   "source": [
    "import pandas as pd\n",
    "import numpy as np"
   ]
  },
  {
   "cell_type": "markdown",
   "id": "808fc7fb-5705-4e40-addc-cd666695e365",
   "metadata": {},
   "source": [
    "# IMU Changes\n",
    "- IMU data was recorded at 200hz.\n",
    "- Because of the high frequency of this data, adding deltas (between 1000 and 1100 microseconds) were not significant to cause Kimera-VIO to crash.\n",
    "- Will now modify raw data and change it to 100 hz."
   ]
  },
  {
   "cell_type": "code",
   "execution_count": 29,
   "id": "32bff0e6-20e7-4b91-a60b-1597f8cd8d91",
   "metadata": {},
   "outputs": [],
   "source": [
    "df = pd.read_csv('./mav0/imu0/data.csv')"
   ]
  },
  {
   "cell_type": "code",
   "execution_count": 30,
   "id": "076cac72-20dc-4ea8-8376-3ef244600a34",
   "metadata": {},
   "outputs": [],
   "source": [
    "df['#timestamp [ns]'] = df['#timestamp [ns]'].astype('float64')"
   ]
  },
  {
   "cell_type": "code",
   "execution_count": 31,
   "id": "a02e1040-e8c7-45f6-b43a-1cded842bcd1",
   "metadata": {},
   "outputs": [
    {
     "name": "stdout",
     "output_type": "stream",
     "text": [
      "<class 'pandas.core.frame.DataFrame'>\n",
      "RangeIndex: 22800 entries, 0 to 22799\n",
      "Data columns (total 7 columns):\n",
      " #   Column               Non-Null Count  Dtype  \n",
      "---  ------               --------------  -----  \n",
      " 0   #timestamp [ns]      22800 non-null  float64\n",
      " 1   w_RS_S_x [rad s^-1]  22800 non-null  float64\n",
      " 2   w_RS_S_y [rad s^-1]  22800 non-null  float64\n",
      " 3   w_RS_S_z [rad s^-1]  22800 non-null  float64\n",
      " 4   a_RS_S_x [m s^-2]    22800 non-null  float64\n",
      " 5   a_RS_S_y [m s^-2]    22800 non-null  float64\n",
      " 6   a_RS_S_z [m s^-2]    22800 non-null  float64\n",
      "dtypes: float64(7)\n",
      "memory usage: 1.2 MB\n"
     ]
    }
   ],
   "source": [
    "df.info(verbose=True)"
   ]
  },
  {
   "cell_type": "code",
   "execution_count": 32,
   "id": "ce27c37d-d5e7-48c1-a262-6522afb47599",
   "metadata": {},
   "outputs": [],
   "source": [
    "# Reducing to 100 hz\n",
    "df = df.iloc[::2]"
   ]
  },
  {
   "cell_type": "code",
   "execution_count": 33,
   "id": "c5bec865-6408-4fba-b6eb-f5f2e321675e",
   "metadata": {},
   "outputs": [
    {
     "data": {
      "text/plain": [
       "(11400, 7)"
      ]
     },
     "execution_count": 33,
     "metadata": {},
     "output_type": "execute_result"
    }
   ],
   "source": [
    "df.shape"
   ]
  },
  {
   "cell_type": "code",
   "execution_count": 34,
   "id": "3f3aab63-0806-40f7-b57f-5812f77b24ea",
   "metadata": {},
   "outputs": [
    {
     "data": {
      "text/plain": [
       "(array([ 9999872., 10000128.]), array([5700, 5699]))"
      ]
     },
     "execution_count": 34,
     "metadata": {},
     "output_type": "execute_result"
    }
   ],
   "source": [
    "np.unique(np.diff(df['#timestamp [ns]']), return_counts=True)"
   ]
  },
  {
   "cell_type": "code",
   "execution_count": 35,
   "id": "20dd8029-26bb-430c-b250-846e1ed6227a",
   "metadata": {},
   "outputs": [
    {
     "data": {
      "text/plain": [
       "2192.896"
      ]
     },
     "execution_count": 35,
     "metadata": {},
     "output_type": "execute_result"
    }
   ],
   "source": [
    "(21096448 - 18903552)/1000"
   ]
  },
  {
   "cell_type": "markdown",
   "id": "01bd7184-0ea0-4048-a47f-38b53da4a8b8",
   "metadata": {},
   "source": [
    "### Introducing Minor Variation in IMU Timestamps"
   ]
  },
  {
   "cell_type": "code",
   "execution_count": 9,
   "id": "d400ecbe-bb27-46d4-9fcb-5f4a43137369",
   "metadata": {},
   "outputs": [],
   "source": [
    "random_nanoseconds_to_add = np.random.uniform(0, 1000000, 10)"
   ]
  },
  {
   "cell_type": "code",
   "execution_count": 761,
   "id": "faba3d80-55c5-4c7c-afca-e8575fe25f16",
   "metadata": {},
   "outputs": [],
   "source": [
    "#random_nanoseconds_to_add = np.append(random_nanoseconds_to_add, [0,0,0])"
   ]
  },
  {
   "cell_type": "code",
   "execution_count": 762,
   "id": "20d04167-0328-4cf5-8424-fd3ac2eb46e8",
   "metadata": {},
   "outputs": [
    {
     "data": {
      "text/plain": [
       "array([308214.61441624, 685186.26805477, 726769.55699726, 770577.69431322,\n",
       "       390035.21969727, 618651.25075812,  72658.03245128, 598611.17246488,\n",
       "       370253.88026937, 593170.62374219])"
      ]
     },
     "execution_count": 762,
     "metadata": {},
     "output_type": "execute_result"
    }
   ],
   "source": [
    "random_nanoseconds_to_add"
   ]
  },
  {
   "cell_type": "code",
   "execution_count": 763,
   "id": "39b8569d-8495-4dd3-8f8d-4532c9c4ddf4",
   "metadata": {},
   "outputs": [],
   "source": [
    "default_ts = df['#timestamp [ns]'].values"
   ]
  },
  {
   "cell_type": "code",
   "execution_count": 764,
   "id": "d104e919-da5a-4bf9-a951-07f40be4f390",
   "metadata": {},
   "outputs": [
    {
     "data": {
      "text/plain": [
       "array([1.41339321e+18, 1.41339321e+18, 1.41339321e+18, ...,\n",
       "       1.41339333e+18, 1.41339333e+18, 1.41339333e+18])"
      ]
     },
     "execution_count": 764,
     "metadata": {},
     "output_type": "execute_result"
    }
   ],
   "source": [
    "default_ts"
   ]
  },
  {
   "cell_type": "code",
   "execution_count": 765,
   "id": "2aeb8011-c92a-40ac-8a8f-cb2aa54db8b1",
   "metadata": {},
   "outputs": [],
   "source": [
    "modified_ts = np.array([])"
   ]
  },
  {
   "cell_type": "code",
   "execution_count": 766,
   "id": "63147437-18db-4fe4-ace5-bcc62e5c6b7b",
   "metadata": {},
   "outputs": [],
   "source": [
    "# i=0\n",
    "# for def_ts in default_ts:\n",
    "#     if i < 1000:\n",
    "#         modified_ts = np.append(modified_ts, def_ts)\n",
    "#     else:\n",
    "#         modified_ts = np.append(modified_ts, float(def_ts - np.random.choice(random_nanoseconds_to_add, 1)[0]))\n",
    "#     i += 1"
   ]
  },
  {
   "cell_type": "code",
   "execution_count": 767,
   "id": "70d4dbcb-1788-4561-bcdb-ae65f98c98ae",
   "metadata": {},
   "outputs": [],
   "source": [
    "for def_ts in default_ts:\n",
    "    modified_ts = np.append(modified_ts, float(def_ts - np.random.choice(random_nanoseconds_to_add, 1)[0]))"
   ]
  },
  {
   "cell_type": "code",
   "execution_count": 768,
   "id": "5e28b8ac-7451-464f-9b3d-e2e3bf14947f",
   "metadata": {},
   "outputs": [
    {
     "data": {
      "text/plain": [
       "10228480.0"
      ]
     },
     "execution_count": 768,
     "metadata": {},
     "output_type": "execute_result"
    }
   ],
   "source": [
    "modified_ts[1]- modified_ts[0]"
   ]
  },
  {
   "cell_type": "code",
   "execution_count": 769,
   "id": "0ea8ef1d-11fe-4422-98b1-9f8668ed52c2",
   "metadata": {},
   "outputs": [],
   "source": [
    "df['#timestamp [ns]'] = modified_ts"
   ]
  },
  {
   "cell_type": "code",
   "execution_count": 770,
   "id": "8df4234d-7e5f-49e6-a470-b2feb6b66d36",
   "metadata": {},
   "outputs": [
    {
     "data": {
      "text/plain": [
       "(array([ 9302016.,  9302272.,  9345792.,  9346048.,  9387264.,  9387520.,\n",
       "         9453824.,  9454080.,  9474048.,  9474304.,  9479424.,  9479680.,\n",
       "         9537536.,  9537792.,  9581312.,  9581568.,  9599488.,  9599744.,\n",
       "         9619456.,  9619712.,  9622784.,  9623040.,  9643264.,  9643520.,\n",
       "         9663232.,  9663488.,  9682432.,  9682688.,  9684736.,  9684992.,\n",
       "         9689344.,  9689600.,  9702400.,  9702656.,  9704704.,  9704960.,\n",
       "         9709568.,  9709824.,  9714944.,  9715200.,  9751296.,  9751552.,\n",
       "         9764352.,  9764608.,  9771264.,  9771520.,  9771776.,  9776896.,\n",
       "         9777152.,  9791488.,  9791744.,  9796864.,  9797120.,  9822464.,\n",
       "         9822720.,  9827840.,  9828096.,  9848064.,  9848320.,  9866240.,\n",
       "         9866496.,  9871616.,  9871872.,  9891840.,  9892096.,  9907712.,\n",
       "         9907968.,  9913088.,  9913344.,  9914624.,  9914880.,  9917952.,\n",
       "         9918208.,  9933312.,  9933568.,  9937920.,  9938176.,  9956096.,\n",
       "         9956352.,  9958400.,  9958656.,  9974272.,  9974528.,  9979648.,\n",
       "         9979904.,  9980160.,  9994496.,  9994752.,  9999872., 10000128.,\n",
       "        10005248., 10005504., 10019840., 10020096., 10020352., 10025472.,\n",
       "        10025728., 10041344., 10041600., 10043648., 10043904., 10061824.,\n",
       "        10062080., 10066432., 10066688., 10081792., 10082048., 10085120.,\n",
       "        10085376., 10086656., 10086912., 10092032., 10092288., 10107904.,\n",
       "        10108160., 10128128., 10128384., 10133504., 10133760., 10151680.,\n",
       "        10151936., 10171904., 10172160., 10177280., 10177536., 10202880.,\n",
       "        10203136., 10208256., 10208512., 10222848., 10223104., 10228224.,\n",
       "        10228480., 10228736., 10235392., 10235648., 10248448., 10248704.,\n",
       "        10284800., 10285056., 10290176., 10290432., 10295040., 10295296.,\n",
       "        10297344., 10297600., 10310400., 10310656., 10315008., 10315264.,\n",
       "        10317312., 10317568., 10336512., 10336768., 10356480., 10356736.,\n",
       "        10376960., 10377216., 10380288., 10380544., 10400256., 10400512.,\n",
       "        10418432., 10418688., 10462208., 10462464., 10520320., 10520576.,\n",
       "        10525696., 10525952., 10545920., 10546176., 10612480., 10612736.,\n",
       "        10653952., 10654208., 10697728., 10697984.]),\n",
       " array([ 51,  54,  61,  61,  48,  59,  40,  66,  53,  81,  53,  61,  56,\n",
       "         54,  52,  72,  74,  57,  52,  69,  50,  59,  53,  43,  69,  58,\n",
       "         62,  55,  57,  61,  63,  66,  42,  55,  65,  68,  62,  58,  60,\n",
       "         62,  50,  56,  51,  51,  51, 108,  54,  59,  54,  51,  54,  50,\n",
       "         64,  48,  62,  50,  65,  55,  57,  61,  56,  54,  55,  50,  66,\n",
       "         57,  60,  61,  39,  67,  54,  56,  53,  54,  54,  53,  56,  59,\n",
       "         66,  56,  60,  58,  64,  67, 121,  41,  67,  55, 565, 545,  59,\n",
       "         50,  51, 102,  57,  72,  48,  60,  49,  73,  62,  48,  58,  51,\n",
       "         47,  56,  52,  53,  57,  50,  59,  56,  64,  55,  63,  56,  63,\n",
       "         63,  56,  45,  67,  55,  53,  60,  50,  59,  59,  61,  68,  42,\n",
       "         62,  42, 117,  54,  55,  53,  77,  53,  55,  55,  59,  57,  53,\n",
       "         47,  53,  54,  68,  61,  59,  57,  62,  61,  67,  58,  58,  55,\n",
       "         67,  56,  58,  65,  56,  62,  62,  56,  68,  60,  65,  56,  76,\n",
       "         53,  44,  42,  53,  55,  61,  55,  57,  49]))"
      ]
     },
     "execution_count": 770,
     "metadata": {},
     "output_type": "execute_result"
    }
   ],
   "source": [
    "np.unique(np.diff(df['#timestamp [ns]']), return_counts=True)"
   ]
  },
  {
   "cell_type": "markdown",
   "id": "c2d64891-2cd9-46ff-8d92-c344713f5688",
   "metadata": {},
   "source": [
    "### End Section"
   ]
  },
  {
   "cell_type": "code",
   "execution_count": 36,
   "id": "04794a81-c4a0-4f9f-8f37-b43021661be5",
   "metadata": {},
   "outputs": [
    {
     "data": {
      "text/plain": [
       "0        1.413393e+18\n",
       "2        1.413393e+18\n",
       "4        1.413393e+18\n",
       "6        1.413393e+18\n",
       "8        1.413393e+18\n",
       "             ...     \n",
       "22790    1.413393e+18\n",
       "22792    1.413393e+18\n",
       "22794    1.413393e+18\n",
       "22796    1.413393e+18\n",
       "22798    1.413393e+18\n",
       "Name: #timestamp [ns], Length: 11400, dtype: float64"
      ]
     },
     "execution_count": 36,
     "metadata": {},
     "output_type": "execute_result"
    }
   ],
   "source": [
    "df['#timestamp [ns]']"
   ]
  },
  {
   "cell_type": "code",
   "execution_count": 37,
   "id": "8cf10e92-b351-4e06-a01d-42b72f423ab1",
   "metadata": {},
   "outputs": [],
   "source": [
    "df['#timestamp [ns]'] = df['#timestamp [ns]'].apply(lambda x: f\"{x:.0f}\")"
   ]
  },
  {
   "cell_type": "code",
   "execution_count": 38,
   "id": "2358a4cc-7654-46af-8cf8-532af314e6f9",
   "metadata": {},
   "outputs": [
    {
     "data": {
      "text/plain": [
       "0        1413393212225760512\n",
       "2        1413393212235760384\n",
       "4        1413393212245760512\n",
       "6        1413393212255760384\n",
       "8        1413393212265760512\n",
       "                ...         \n",
       "22790    1413393326175760384\n",
       "22792    1413393326185760512\n",
       "22794    1413393326195760384\n",
       "22796    1413393326205760512\n",
       "22798    1413393326215760384\n",
       "Name: #timestamp [ns], Length: 11400, dtype: object"
      ]
     },
     "execution_count": 38,
     "metadata": {},
     "output_type": "execute_result"
    }
   ],
   "source": [
    "df['#timestamp [ns]']"
   ]
  },
  {
   "cell_type": "code",
   "execution_count": 39,
   "id": "a25d2a59-9406-429e-9173-39b3c6e8d07f",
   "metadata": {},
   "outputs": [
    {
     "data": {
      "text/html": [
       "<div>\n",
       "<style scoped>\n",
       "    .dataframe tbody tr th:only-of-type {\n",
       "        vertical-align: middle;\n",
       "    }\n",
       "\n",
       "    .dataframe tbody tr th {\n",
       "        vertical-align: top;\n",
       "    }\n",
       "\n",
       "    .dataframe thead th {\n",
       "        text-align: right;\n",
       "    }\n",
       "</style>\n",
       "<table border=\"1\" class=\"dataframe\">\n",
       "  <thead>\n",
       "    <tr style=\"text-align: right;\">\n",
       "      <th></th>\n",
       "      <th>#timestamp [ns]</th>\n",
       "      <th>w_RS_S_x [rad s^-1]</th>\n",
       "      <th>w_RS_S_y [rad s^-1]</th>\n",
       "      <th>w_RS_S_z [rad s^-1]</th>\n",
       "      <th>a_RS_S_x [m s^-2]</th>\n",
       "      <th>a_RS_S_y [m s^-2]</th>\n",
       "      <th>a_RS_S_z [m s^-2]</th>\n",
       "    </tr>\n",
       "  </thead>\n",
       "  <tbody>\n",
       "    <tr>\n",
       "      <th>0</th>\n",
       "      <td>1413393212225760512</td>\n",
       "      <td>0.094946</td>\n",
       "      <td>0.020246</td>\n",
       "      <td>0.058643</td>\n",
       "      <td>9.128357</td>\n",
       "      <td>0.106239</td>\n",
       "      <td>-2.606934</td>\n",
       "    </tr>\n",
       "    <tr>\n",
       "      <th>2</th>\n",
       "      <td>1413393212235760384</td>\n",
       "      <td>-0.011170</td>\n",
       "      <td>0.027925</td>\n",
       "      <td>0.069813</td>\n",
       "      <td>9.398040</td>\n",
       "      <td>1.618097</td>\n",
       "      <td>-2.705001</td>\n",
       "    </tr>\n",
       "    <tr>\n",
       "      <th>4</th>\n",
       "      <td>1413393212245760512</td>\n",
       "      <td>-0.092153</td>\n",
       "      <td>0.036303</td>\n",
       "      <td>0.078889</td>\n",
       "      <td>8.989429</td>\n",
       "      <td>-0.130755</td>\n",
       "      <td>-2.713173</td>\n",
       "    </tr>\n",
       "    <tr>\n",
       "      <th>6</th>\n",
       "      <td>1413393212255760384</td>\n",
       "      <td>-0.005585</td>\n",
       "      <td>0.009076</td>\n",
       "      <td>0.113795</td>\n",
       "      <td>9.299973</td>\n",
       "      <td>-1.234003</td>\n",
       "      <td>-2.476179</td>\n",
       "    </tr>\n",
       "    <tr>\n",
       "      <th>8</th>\n",
       "      <td>1413393212265760512</td>\n",
       "      <td>0.061436</td>\n",
       "      <td>0.023736</td>\n",
       "      <td>0.091455</td>\n",
       "      <td>9.275456</td>\n",
       "      <td>0.073550</td>\n",
       "      <td>-2.582418</td>\n",
       "    </tr>\n",
       "    <tr>\n",
       "      <th>10</th>\n",
       "      <td>1413393212275760384</td>\n",
       "      <td>0.009774</td>\n",
       "      <td>0.028623</td>\n",
       "      <td>0.060039</td>\n",
       "      <td>9.471589</td>\n",
       "      <td>0.400438</td>\n",
       "      <td>-2.606934</td>\n",
       "    </tr>\n",
       "    <tr>\n",
       "      <th>12</th>\n",
       "      <td>1413393212285760512</td>\n",
       "      <td>-0.032114</td>\n",
       "      <td>0.042586</td>\n",
       "      <td>0.086568</td>\n",
       "      <td>9.332662</td>\n",
       "      <td>0.122583</td>\n",
       "      <td>-2.705001</td>\n",
       "    </tr>\n",
       "    <tr>\n",
       "      <th>14</th>\n",
       "      <td>1413393212295760384</td>\n",
       "      <td>-0.030718</td>\n",
       "      <td>0.041888</td>\n",
       "      <td>0.094946</td>\n",
       "      <td>9.659550</td>\n",
       "      <td>-0.375922</td>\n",
       "      <td>-2.917478</td>\n",
       "    </tr>\n",
       "    <tr>\n",
       "      <th>16</th>\n",
       "      <td>1413393212305760512</td>\n",
       "      <td>-0.000698</td>\n",
       "      <td>0.024435</td>\n",
       "      <td>0.077493</td>\n",
       "      <td>9.291801</td>\n",
       "      <td>-0.490333</td>\n",
       "      <td>-2.598762</td>\n",
       "    </tr>\n",
       "    <tr>\n",
       "      <th>18</th>\n",
       "      <td>1413393212315760384</td>\n",
       "      <td>0.032812</td>\n",
       "      <td>0.008378</td>\n",
       "      <td>0.075398</td>\n",
       "      <td>9.447073</td>\n",
       "      <td>-0.098067</td>\n",
       "      <td>-2.655968</td>\n",
       "    </tr>\n",
       "    <tr>\n",
       "      <th>20</th>\n",
       "      <td>1413393212325760512</td>\n",
       "      <td>0.006283</td>\n",
       "      <td>0.011170</td>\n",
       "      <td>0.097738</td>\n",
       "      <td>9.447073</td>\n",
       "      <td>0.441299</td>\n",
       "      <td>-2.737690</td>\n",
       "    </tr>\n",
       "    <tr>\n",
       "      <th>22</th>\n",
       "      <td>1413393212335760384</td>\n",
       "      <td>-0.028623</td>\n",
       "      <td>0.037001</td>\n",
       "      <td>0.091455</td>\n",
       "      <td>9.757617</td>\n",
       "      <td>0.000000</td>\n",
       "      <td>-2.868445</td>\n",
       "    </tr>\n",
       "    <tr>\n",
       "      <th>24</th>\n",
       "      <td>1413393212345760512</td>\n",
       "      <td>-0.018151</td>\n",
       "      <td>0.048171</td>\n",
       "      <td>0.070511</td>\n",
       "      <td>9.324490</td>\n",
       "      <td>-0.482160</td>\n",
       "      <td>-2.500696</td>\n",
       "    </tr>\n",
       "    <tr>\n",
       "      <th>26</th>\n",
       "      <td>1413393212355760384</td>\n",
       "      <td>0.020944</td>\n",
       "      <td>0.016755</td>\n",
       "      <td>0.087965</td>\n",
       "      <td>9.201907</td>\n",
       "      <td>-0.179789</td>\n",
       "      <td>-2.574246</td>\n",
       "    </tr>\n",
       "    <tr>\n",
       "      <th>28</th>\n",
       "      <td>1413393212365760512</td>\n",
       "      <td>0.009076</td>\n",
       "      <td>0.005585</td>\n",
       "      <td>0.083078</td>\n",
       "      <td>9.487934</td>\n",
       "      <td>0.138928</td>\n",
       "      <td>-2.786723</td>\n",
       "    </tr>\n",
       "    <tr>\n",
       "      <th>30</th>\n",
       "      <td>1413393212375760384</td>\n",
       "      <td>-0.016057</td>\n",
       "      <td>0.041888</td>\n",
       "      <td>0.067021</td>\n",
       "      <td>9.545139</td>\n",
       "      <td>0.032689</td>\n",
       "      <td>-2.835756</td>\n",
       "    </tr>\n",
       "    <tr>\n",
       "      <th>32</th>\n",
       "      <td>1413393212385760512</td>\n",
       "      <td>-0.012566</td>\n",
       "      <td>0.050964</td>\n",
       "      <td>0.075398</td>\n",
       "      <td>9.455245</td>\n",
       "      <td>-0.310544</td>\n",
       "      <td>-2.680484</td>\n",
       "    </tr>\n",
       "    <tr>\n",
       "      <th>34</th>\n",
       "      <td>1413393212395760384</td>\n",
       "      <td>0.001396</td>\n",
       "      <td>0.000698</td>\n",
       "      <td>0.099833</td>\n",
       "      <td>9.250940</td>\n",
       "      <td>0.138928</td>\n",
       "      <td>-2.549729</td>\n",
       "    </tr>\n",
       "    <tr>\n",
       "      <th>36</th>\n",
       "      <td>1413393212405760512</td>\n",
       "      <td>-0.011170</td>\n",
       "      <td>0.028623</td>\n",
       "      <td>0.084474</td>\n",
       "      <td>9.626861</td>\n",
       "      <td>-0.253338</td>\n",
       "      <td>-2.958339</td>\n",
       "    </tr>\n",
       "    <tr>\n",
       "      <th>38</th>\n",
       "      <td>1413393212415760384</td>\n",
       "      <td>0.001396</td>\n",
       "      <td>0.022340</td>\n",
       "      <td>0.076794</td>\n",
       "      <td>9.806650</td>\n",
       "      <td>-0.343233</td>\n",
       "      <td>-2.884790</td>\n",
       "    </tr>\n",
       "  </tbody>\n",
       "</table>\n",
       "</div>"
      ],
      "text/plain": [
       "        #timestamp [ns]  w_RS_S_x [rad s^-1]  w_RS_S_y [rad s^-1]  \\\n",
       "0   1413393212225760512             0.094946             0.020246   \n",
       "2   1413393212235760384            -0.011170             0.027925   \n",
       "4   1413393212245760512            -0.092153             0.036303   \n",
       "6   1413393212255760384            -0.005585             0.009076   \n",
       "8   1413393212265760512             0.061436             0.023736   \n",
       "10  1413393212275760384             0.009774             0.028623   \n",
       "12  1413393212285760512            -0.032114             0.042586   \n",
       "14  1413393212295760384            -0.030718             0.041888   \n",
       "16  1413393212305760512            -0.000698             0.024435   \n",
       "18  1413393212315760384             0.032812             0.008378   \n",
       "20  1413393212325760512             0.006283             0.011170   \n",
       "22  1413393212335760384            -0.028623             0.037001   \n",
       "24  1413393212345760512            -0.018151             0.048171   \n",
       "26  1413393212355760384             0.020944             0.016755   \n",
       "28  1413393212365760512             0.009076             0.005585   \n",
       "30  1413393212375760384            -0.016057             0.041888   \n",
       "32  1413393212385760512            -0.012566             0.050964   \n",
       "34  1413393212395760384             0.001396             0.000698   \n",
       "36  1413393212405760512            -0.011170             0.028623   \n",
       "38  1413393212415760384             0.001396             0.022340   \n",
       "\n",
       "    w_RS_S_z [rad s^-1]  a_RS_S_x [m s^-2]  a_RS_S_y [m s^-2]  \\\n",
       "0              0.058643           9.128357           0.106239   \n",
       "2              0.069813           9.398040           1.618097   \n",
       "4              0.078889           8.989429          -0.130755   \n",
       "6              0.113795           9.299973          -1.234003   \n",
       "8              0.091455           9.275456           0.073550   \n",
       "10             0.060039           9.471589           0.400438   \n",
       "12             0.086568           9.332662           0.122583   \n",
       "14             0.094946           9.659550          -0.375922   \n",
       "16             0.077493           9.291801          -0.490333   \n",
       "18             0.075398           9.447073          -0.098067   \n",
       "20             0.097738           9.447073           0.441299   \n",
       "22             0.091455           9.757617           0.000000   \n",
       "24             0.070511           9.324490          -0.482160   \n",
       "26             0.087965           9.201907          -0.179789   \n",
       "28             0.083078           9.487934           0.138928   \n",
       "30             0.067021           9.545139           0.032689   \n",
       "32             0.075398           9.455245          -0.310544   \n",
       "34             0.099833           9.250940           0.138928   \n",
       "36             0.084474           9.626861          -0.253338   \n",
       "38             0.076794           9.806650          -0.343233   \n",
       "\n",
       "    a_RS_S_z [m s^-2]  \n",
       "0           -2.606934  \n",
       "2           -2.705001  \n",
       "4           -2.713173  \n",
       "6           -2.476179  \n",
       "8           -2.582418  \n",
       "10          -2.606934  \n",
       "12          -2.705001  \n",
       "14          -2.917478  \n",
       "16          -2.598762  \n",
       "18          -2.655968  \n",
       "20          -2.737690  \n",
       "22          -2.868445  \n",
       "24          -2.500696  \n",
       "26          -2.574246  \n",
       "28          -2.786723  \n",
       "30          -2.835756  \n",
       "32          -2.680484  \n",
       "34          -2.549729  \n",
       "36          -2.958339  \n",
       "38          -2.884790  "
      ]
     },
     "execution_count": 39,
     "metadata": {},
     "output_type": "execute_result"
    }
   ],
   "source": [
    "df.head(20)"
   ]
  },
  {
   "cell_type": "code",
   "execution_count": 40,
   "id": "515ad7c3-0e5f-4f25-83e0-182b383c079c",
   "metadata": {},
   "outputs": [
    {
     "data": {
      "text/plain": [
       "(11400, 7)"
      ]
     },
     "execution_count": 40,
     "metadata": {},
     "output_type": "execute_result"
    }
   ],
   "source": [
    "df.shape"
   ]
  },
  {
   "cell_type": "code",
   "execution_count": 41,
   "id": "8d1ed96d-8afd-4c13-afb8-b67a1a08e92e",
   "metadata": {},
   "outputs": [],
   "source": [
    "df.to_csv('./mav0/imu0/data_modified.csv', index=False)"
   ]
  },
  {
   "cell_type": "code",
   "execution_count": 42,
   "id": "95e72166-8040-4afd-9cdc-2e339017cd5b",
   "metadata": {},
   "outputs": [],
   "source": [
    "!cp ./mav0/imu0/data_modified.csv /home/shiva/Datasets/V2_01_easy/V2_01_easy/mav0/imu0/data.csv"
   ]
  },
  {
   "cell_type": "code",
   "execution_count": null,
   "id": "e3ae03c8-088a-49aa-882e-cb794738869f",
   "metadata": {},
   "outputs": [],
   "source": []
  }
 ],
 "metadata": {
  "kernelspec": {
   "display_name": "Python 3 (ipykernel)",
   "language": "python",
   "name": "python3"
  },
  "language_info": {
   "codemirror_mode": {
    "name": "ipython",
    "version": 3
   },
   "file_extension": ".py",
   "mimetype": "text/x-python",
   "name": "python",
   "nbconvert_exporter": "python",
   "pygments_lexer": "ipython3",
   "version": "3.10.12"
  }
 },
 "nbformat": 4,
 "nbformat_minor": 5
}
