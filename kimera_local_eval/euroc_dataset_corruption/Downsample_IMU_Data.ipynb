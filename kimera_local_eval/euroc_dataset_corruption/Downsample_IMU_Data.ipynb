{
 "cells": [
  {
   "cell_type": "code",
   "execution_count": 13,
   "id": "6d568bd8-3e06-47da-b8d7-0c9bd5b68f89",
   "metadata": {},
   "outputs": [],
   "source": [
    "import pandas as pd\n",
    "import numpy as np"
   ]
  },
  {
   "cell_type": "markdown",
   "id": "808fc7fb-5705-4e40-addc-cd666695e365",
   "metadata": {},
   "source": [
    "### Reducing IMU Data Rate\n",
    "- IMU data was originally recorded at 200hz."
   ]
  },
  {
   "cell_type": "code",
   "execution_count": 14,
   "id": "32bff0e6-20e7-4b91-a60b-1597f8cd8d91",
   "metadata": {},
   "outputs": [],
   "source": [
    "df = pd.read_csv('./mav0/imu0/data.csv')"
   ]
  },
  {
   "cell_type": "code",
   "execution_count": 15,
   "id": "076cac72-20dc-4ea8-8376-3ef244600a34",
   "metadata": {},
   "outputs": [],
   "source": [
    "df['#timestamp [ns]'] = df['#timestamp [ns]'].astype('float64')"
   ]
  },
  {
   "cell_type": "code",
   "execution_count": 16,
   "id": "a02e1040-e8c7-45f6-b43a-1cded842bcd1",
   "metadata": {},
   "outputs": [
    {
     "name": "stdout",
     "output_type": "stream",
     "text": [
      "<class 'pandas.core.frame.DataFrame'>\n",
      "RangeIndex: 22800 entries, 0 to 22799\n",
      "Data columns (total 7 columns):\n",
      " #   Column               Non-Null Count  Dtype  \n",
      "---  ------               --------------  -----  \n",
      " 0   #timestamp [ns]      22800 non-null  float64\n",
      " 1   w_RS_S_x [rad s^-1]  22800 non-null  float64\n",
      " 2   w_RS_S_y [rad s^-1]  22800 non-null  float64\n",
      " 3   w_RS_S_z [rad s^-1]  22800 non-null  float64\n",
      " 4   a_RS_S_x [m s^-2]    22800 non-null  float64\n",
      " 5   a_RS_S_y [m s^-2]    22800 non-null  float64\n",
      " 6   a_RS_S_z [m s^-2]    22800 non-null  float64\n",
      "dtypes: float64(7)\n",
      "memory usage: 1.2 MB\n"
     ]
    }
   ],
   "source": [
    "df.info(verbose=True)"
   ]
  },
  {
   "cell_type": "code",
   "execution_count": 17,
   "id": "6a3be7bd-533a-44e7-9121-40b417e5c356",
   "metadata": {},
   "outputs": [],
   "source": [
    "# Check the deltas.\n",
    "orig_deltas = np.unique(np.diff(df['#timestamp [ns]']), return_counts=True)"
   ]
  },
  {
   "cell_type": "code",
   "execution_count": 18,
   "id": "8e687432-32ee-45bb-8556-544439c8afcc",
   "metadata": {},
   "outputs": [
    {
     "name": "stdout",
     "output_type": "stream",
     "text": [
      "The frequency will be reduced to: 100.0\n"
     ]
    }
   ],
   "source": [
    "original_rate = 200\n",
    "reduction_factor = 2\n",
    "print(\"The frequency will be reduced to:\", original_rate/reduction_factor)"
   ]
  },
  {
   "cell_type": "code",
   "execution_count": 19,
   "id": "ce27c37d-d5e7-48c1-a262-6522afb47599",
   "metadata": {},
   "outputs": [],
   "source": [
    "# Reducing frequency\n",
    "df = df.iloc[::reduction_factor]"
   ]
  },
  {
   "cell_type": "code",
   "execution_count": 20,
   "id": "c5bec865-6408-4fba-b6eb-f5f2e321675e",
   "metadata": {},
   "outputs": [
    {
     "name": "stdout",
     "output_type": "stream",
     "text": [
      "<class 'pandas.core.frame.DataFrame'>\n",
      "RangeIndex: 11400 entries, 0 to 22798\n",
      "Data columns (total 7 columns):\n",
      " #   Column               Non-Null Count  Dtype  \n",
      "---  ------               --------------  -----  \n",
      " 0   #timestamp [ns]      11400 non-null  float64\n",
      " 1   w_RS_S_x [rad s^-1]  11400 non-null  float64\n",
      " 2   w_RS_S_y [rad s^-1]  11400 non-null  float64\n",
      " 3   w_RS_S_z [rad s^-1]  11400 non-null  float64\n",
      " 4   a_RS_S_x [m s^-2]    11400 non-null  float64\n",
      " 5   a_RS_S_y [m s^-2]    11400 non-null  float64\n",
      " 6   a_RS_S_z [m s^-2]    11400 non-null  float64\n",
      "dtypes: float64(7)\n",
      "memory usage: 623.6 KB\n"
     ]
    }
   ],
   "source": [
    "df.info(verbose=True)"
   ]
  },
  {
   "cell_type": "code",
   "execution_count": 21,
   "id": "3f3aab63-0806-40f7-b57f-5812f77b24ea",
   "metadata": {},
   "outputs": [],
   "source": [
    "# Check deltas after downsampling.\n",
    "new_deltas = np.unique(np.diff(df['#timestamp [ns]']), return_counts=True)"
   ]
  },
  {
   "cell_type": "code",
   "execution_count": 27,
   "id": "1b5aac26-9707-47ed-9274-32127a5ad939",
   "metadata": {},
   "outputs": [
    {
     "data": {
      "text/plain": [
       "array([0.5      , 0.5000128])"
      ]
     },
     "execution_count": 27,
     "metadata": {},
     "output_type": "execute_result"
    }
   ],
   "source": [
    "#Since we have reduced the frequency, we should get a fractional value when we divide the original deltas by the new deltas\n",
    "orig_deltas[0] / new_deltas[0]"
   ]
  },
  {
   "cell_type": "code",
   "execution_count": 37,
   "id": "8cf10e92-b351-4e06-a01d-42b72f423ab1",
   "metadata": {},
   "outputs": [],
   "source": [
    "df['#timestamp [ns]'] = df['#timestamp [ns]'].apply(lambda x: f\"{x:.0f}\")"
   ]
  },
  {
   "cell_type": "code",
   "execution_count": null,
   "id": "e0f088b1-f6c8-4f22-ba7a-7cfe53f5c9eb",
   "metadata": {},
   "outputs": [],
   "source": [
    "df.head(10)"
   ]
  },
  {
   "cell_type": "code",
   "execution_count": 41,
   "id": "8d1ed96d-8afd-4c13-afb8-b67a1a08e92e",
   "metadata": {},
   "outputs": [],
   "source": [
    "df.to_csv('./mav0/imu0/data_modified.csv', index=False)"
   ]
  },
  {
   "cell_type": "code",
   "execution_count": 42,
   "id": "95e72166-8040-4afd-9cdc-2e339017cd5b",
   "metadata": {},
   "outputs": [],
   "source": [
    "!cp ./mav0/imu0/data_modified.csv /home/shiva/Datasets/V2_01_easy/V2_01_easy/mav0/imu0/data.csv"
   ]
  },
  {
   "cell_type": "code",
   "execution_count": null,
   "id": "e3ae03c8-088a-49aa-882e-cb794738869f",
   "metadata": {},
   "outputs": [],
   "source": []
  }
 ],
 "metadata": {
  "kernelspec": {
   "display_name": "Python 3 (ipykernel)",
   "language": "python",
   "name": "python3"
  },
  "language_info": {
   "codemirror_mode": {
    "name": "ipython",
    "version": 3
   },
   "file_extension": ".py",
   "mimetype": "text/x-python",
   "name": "python",
   "nbconvert_exporter": "python",
   "pygments_lexer": "ipython3",
   "version": "3.10.12"
  }
 },
 "nbformat": 4,
 "nbformat_minor": 5
}
