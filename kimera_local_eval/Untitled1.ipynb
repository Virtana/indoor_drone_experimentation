{
 "cells": [
  {
   "cell_type": "code",
   "execution_count": 3,
   "id": "9257990a-6172-48aa-bd9a-f98363026700",
   "metadata": {},
   "outputs": [],
   "source": [
    "import pandas as pd\n",
    "import os"
   ]
  },
  {
   "cell_type": "code",
   "execution_count": 2,
   "id": "df046239-6197-47c1-af3e-516088315857",
   "metadata": {},
   "outputs": [],
   "source": [
    "path = '/home/shiva/Datasets/V2_01_easy/V2_01_easy/Custom_Datasets/'"
   ]
  },
  {
   "cell_type": "code",
   "execution_count": 54,
   "id": "cacab0a5-67a5-4868-a8b8-cb7a671aad53",
   "metadata": {},
   "outputs": [
    {
     "name": "stdout",
     "output_type": "stream",
     "text": [
      "Home_Office_Capture_800p\n",
      "Index(['#timestamp [ns]', 'w_RS_S_x [rad s^-1]', 'w_RS_S_y [rad s^-1]',\n",
      "       'w_RS_S_z [rad s^-1]', 'a_RS_S_x [m s^-2]', 'a_RS_S_y [m s^-2]',\n",
      "       'a_RS_S_z [m s^-2]'],\n",
      "      dtype='object')\n",
      "Virtana_Office_Capture_800p\n",
      "Index(['#timestamp [ns]', 'w_RS_S_x [rad s^-1]', 'w_RS_S_y [rad s^-1]',\n",
      "       'w_RS_S_z [rad s^-1]', 'a_RS_S_x [m s^-2]', 'a_RS_S_y [m s^-2]',\n",
      "       'a_RS_S_z [m s^-2]'],\n",
      "      dtype='object')\n",
      "Virtana_Office_Hard_Capture_400p\n",
      "Index(['#timestamp [ns]', 'w_RS_S_x [rad s^-1]', 'w_RS_S_y [rad s^-1]',\n",
      "       'w_RS_S_z [rad s^-1]', 'a_RS_S_x [m s^-2]', 'a_RS_S_y [m s^-2]',\n",
      "       'a_RS_S_z [m s^-2]'],\n",
      "      dtype='object')\n",
      "Home_Office_Capture_400p\n",
      "Index(['a_RS_S_y [m s^-2]', '#timestamp [ns]', 'w_RS_S_x [rad s^-1]',\n",
      "       'a_RS_S_x [m s^-2]', 'w_RS_S_z [rad s^-1]', 'w_RS_S_y [rad s^-1]',\n",
      "       'w_RS_S_x [rad s^-1].1'],\n",
      "      dtype='object')\n"
     ]
    }
   ],
   "source": [
    "for dir_name in next(os.walk(path))[1][1:]:\n",
    "    print(dir_name)\n",
    "    df = pd.read_csv(f'{path}/{dir_name}/mav0/imu0/data.csv')\n",
    "    cols = df.columns.tolist()\n",
    "    temp = cols[1:4]\n",
    "    del(cols[1])\n",
    "    del(cols[1])\n",
    "    del(cols[1])\n",
    "    cols.insert(1, temp[0])\n",
    "    cols.insert(1, temp[1])\n",
    "    cols.insert(1, temp[2])\n",
    "    df = df[cols]\n",
    "    df.to_csv(f'{path}/{dir_name}/mav0/imu0/data.csv', index=False)\n",
    "    # to_remove = []\n",
    "    # for col in df.columns.tolist():\n",
    "    #     if 'Unnamed:' in col:\n",
    "    #         to_remove.append(col)\n",
    "    # df.drop(columns = to_remove, inplace=True)\n",
    "    # df.to_csv(f'{path}/{dir_name}/mav0/imu0/data.csv', index=False)\n",
    "    print(df.columns)"
   ]
  },
  {
   "cell_type": "code",
   "execution_count": 63,
   "id": "b727786b-1501-454f-a123-8de662607e42",
   "metadata": {},
   "outputs": [
    {
     "data": {
      "text/html": [
       "<div>\n",
       "<style scoped>\n",
       "    .dataframe tbody tr th:only-of-type {\n",
       "        vertical-align: middle;\n",
       "    }\n",
       "\n",
       "    .dataframe tbody tr th {\n",
       "        vertical-align: top;\n",
       "    }\n",
       "\n",
       "    .dataframe thead th {\n",
       "        text-align: right;\n",
       "    }\n",
       "</style>\n",
       "<table border=\"1\" class=\"dataframe\">\n",
       "  <thead>\n",
       "    <tr style=\"text-align: right;\">\n",
       "      <th></th>\n",
       "      <th>#timestamp [ns]</th>\n",
       "      <th>w_RS_S_x [rad s^-1]</th>\n",
       "      <th>w_RS_S_y [rad s^-1]</th>\n",
       "      <th>w_RS_S_z [rad s^-1]</th>\n",
       "      <th>a_RS_S_x [m s^-2]</th>\n",
       "      <th>a_RS_S_y [m s^-2]</th>\n",
       "      <th>a_RS_S_z [m s^-2]</th>\n",
       "    </tr>\n",
       "  </thead>\n",
       "  <tbody>\n",
       "    <tr>\n",
       "      <th>0</th>\n",
       "      <td>1728579998420670976</td>\n",
       "      <td>0.010653</td>\n",
       "      <td>-0.010653</td>\n",
       "      <td>0.001065</td>\n",
       "      <td>-9.816887</td>\n",
       "      <td>0.402226</td>\n",
       "      <td>-0.266830</td>\n",
       "    </tr>\n",
       "    <tr>\n",
       "      <th>1</th>\n",
       "      <td>1728579998425335808</td>\n",
       "      <td>0.018109</td>\n",
       "      <td>-0.015979</td>\n",
       "      <td>-0.002131</td>\n",
       "      <td>-9.809372</td>\n",
       "      <td>0.408799</td>\n",
       "      <td>-0.255570</td>\n",
       "    </tr>\n",
       "    <tr>\n",
       "      <th>2</th>\n",
       "      <td>1728579998430425856</td>\n",
       "      <td>0.013848</td>\n",
       "      <td>-0.018109</td>\n",
       "      <td>-0.007457</td>\n",
       "      <td>-9.780775</td>\n",
       "      <td>0.420238</td>\n",
       "      <td>-0.267009</td>\n",
       "    </tr>\n",
       "    <tr>\n",
       "      <th>3</th>\n",
       "      <td>1728579998435260928</td>\n",
       "      <td>0.014914</td>\n",
       "      <td>-0.014914</td>\n",
       "      <td>-0.008522</td>\n",
       "      <td>-9.770946</td>\n",
       "      <td>0.401390</td>\n",
       "      <td>-0.233379</td>\n",
       "    </tr>\n",
       "    <tr>\n",
       "      <th>4</th>\n",
       "      <td>1728579998440634112</td>\n",
       "      <td>0.015979</td>\n",
       "      <td>-0.021305</td>\n",
       "      <td>-0.008522</td>\n",
       "      <td>-9.738954</td>\n",
       "      <td>0.379990</td>\n",
       "      <td>-0.211019</td>\n",
       "    </tr>\n",
       "  </tbody>\n",
       "</table>\n",
       "</div>"
      ],
      "text/plain": [
       "       #timestamp [ns]  w_RS_S_x [rad s^-1]  w_RS_S_y [rad s^-1]  \\\n",
       "0  1728579998420670976             0.010653            -0.010653   \n",
       "1  1728579998425335808             0.018109            -0.015979   \n",
       "2  1728579998430425856             0.013848            -0.018109   \n",
       "3  1728579998435260928             0.014914            -0.014914   \n",
       "4  1728579998440634112             0.015979            -0.021305   \n",
       "\n",
       "   w_RS_S_z [rad s^-1]  a_RS_S_x [m s^-2]  a_RS_S_y [m s^-2]  \\\n",
       "0             0.001065          -9.816887           0.402226   \n",
       "1            -0.002131          -9.809372           0.408799   \n",
       "2            -0.007457          -9.780775           0.420238   \n",
       "3            -0.008522          -9.770946           0.401390   \n",
       "4            -0.008522          -9.738954           0.379990   \n",
       "\n",
       "   a_RS_S_z [m s^-2]  \n",
       "0          -0.266830  \n",
       "1          -0.255570  \n",
       "2          -0.267009  \n",
       "3          -0.233379  \n",
       "4          -0.211019  "
      ]
     },
     "execution_count": 63,
     "metadata": {},
     "output_type": "execute_result"
    }
   ],
   "source": [
    "df.head(5)"
   ]
  },
  {
   "cell_type": "code",
   "execution_count": 62,
   "id": "e5c182da-f979-40eb-a2f5-a3ed5c418ca8",
   "metadata": {},
   "outputs": [],
   "source": [
    "dir_name = 'Home_Office_Capture_400p'\n",
    "df = pd.read_csv(f'{path}/{dir_name}/mav0/imu0/data.csv')\n",
    "cols = ['#timestamp [ns]', 'w_RS_S_x [rad s^-1]', 'w_RS_S_y [rad s^-1]',\n",
    "   'w_RS_S_z [rad s^-1]', 'a_RS_S_x [m s^-2]', 'a_RS_S_y [m s^-2]',\n",
    "   'a_RS_S_z [m s^-2]']\n",
    "df = df[cols]"
   ]
  },
  {
   "cell_type": "code",
   "execution_count": 64,
   "id": "599544e6-15bb-4a6b-a2ee-001867828a21",
   "metadata": {},
   "outputs": [],
   "source": [
    "df.to_csv(f'{path}/{dir_name}/mav0/imu0/data.csv', index=False)"
   ]
  },
  {
   "cell_type": "code",
   "execution_count": 59,
   "id": "5d68affe-0801-4547-8a62-8ff73ab588a2",
   "metadata": {},
   "outputs": [
    {
     "data": {
      "text/plain": [
       "'/home/shiva/Datasets/V2_01_easy/V2_01_easy/Custom_Datasets//Virtana_Office_Capture_400p/mav0/imu0/data.csv'"
      ]
     },
     "execution_count": 59,
     "metadata": {},
     "output_type": "execute_result"
    }
   ],
   "source": [
    "f'{path}/{dir_name}/mav0/imu0/data.csv'"
   ]
  },
  {
   "cell_type": "code",
   "execution_count": null,
   "id": "bd6cfa29-252e-4734-9fe2-2655be6f44f6",
   "metadata": {},
   "outputs": [],
   "source": []
  }
 ],
 "metadata": {
  "kernelspec": {
   "display_name": "Python 3 (ipykernel)",
   "language": "python",
   "name": "python3"
  },
  "language_info": {
   "codemirror_mode": {
    "name": "ipython",
    "version": 3
   },
   "file_extension": ".py",
   "mimetype": "text/x-python",
   "name": "python",
   "nbconvert_exporter": "python",
   "pygments_lexer": "ipython3",
   "version": "3.12.3"
  }
 },
 "nbformat": 4,
 "nbformat_minor": 5
}
