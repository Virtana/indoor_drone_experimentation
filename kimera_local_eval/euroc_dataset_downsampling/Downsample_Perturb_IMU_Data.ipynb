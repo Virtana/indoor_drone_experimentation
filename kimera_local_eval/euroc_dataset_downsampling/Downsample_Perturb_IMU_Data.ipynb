{
 "cells": [
  {
   "cell_type": "code",
   "execution_count": 71,
   "id": "6d568bd8-3e06-47da-b8d7-0c9bd5b68f89",
   "metadata": {},
   "outputs": [],
   "source": [
    "import pandas as pd\n",
    "import numpy as np"
   ]
  },
  {
   "cell_type": "markdown",
   "id": "808fc7fb-5705-4e40-addc-cd666695e365",
   "metadata": {},
   "source": [
    "# IMU Changes\n",
    "- IMU data was recorded at 200hz.\n",
    "- Because of the high frequency of this data, adding deltas (between 1000 and 1100 microseconds) were not significant to cause Kimera-VIO to crash.\n",
    "- Will now modify raw data and change it to 100 hz."
   ]
  },
  {
   "cell_type": "code",
   "execution_count": 72,
   "id": "32bff0e6-20e7-4b91-a60b-1597f8cd8d91",
   "metadata": {},
   "outputs": [],
   "source": [
    "df = pd.read_csv('./mav0/imu0/data.csv')"
   ]
  },
  {
   "cell_type": "code",
   "execution_count": 73,
   "id": "bcd987c4-be8a-45d4-8551-82c0313cdb84",
   "metadata": {},
   "outputs": [
    {
     "data": {
      "text/html": [
       "<div>\n",
       "<style scoped>\n",
       "    .dataframe tbody tr th:only-of-type {\n",
       "        vertical-align: middle;\n",
       "    }\n",
       "\n",
       "    .dataframe tbody tr th {\n",
       "        vertical-align: top;\n",
       "    }\n",
       "\n",
       "    .dataframe thead th {\n",
       "        text-align: right;\n",
       "    }\n",
       "</style>\n",
       "<table border=\"1\" class=\"dataframe\">\n",
       "  <thead>\n",
       "    <tr style=\"text-align: right;\">\n",
       "      <th></th>\n",
       "      <th>#timestamp [ns]</th>\n",
       "      <th>w_RS_S_x [rad s^-1]</th>\n",
       "      <th>w_RS_S_y [rad s^-1]</th>\n",
       "      <th>w_RS_S_z [rad s^-1]</th>\n",
       "      <th>a_RS_S_x [m s^-2]</th>\n",
       "      <th>a_RS_S_y [m s^-2]</th>\n",
       "      <th>a_RS_S_z [m s^-2]</th>\n",
       "    </tr>\n",
       "  </thead>\n",
       "  <tbody>\n",
       "    <tr>\n",
       "      <th>0</th>\n",
       "      <td>1413393212225760512</td>\n",
       "      <td>0.094946</td>\n",
       "      <td>0.020246</td>\n",
       "      <td>0.058643</td>\n",
       "      <td>9.128357</td>\n",
       "      <td>0.106239</td>\n",
       "      <td>-2.606934</td>\n",
       "    </tr>\n",
       "    <tr>\n",
       "      <th>1</th>\n",
       "      <td>1413393212230760448</td>\n",
       "      <td>0.058643</td>\n",
       "      <td>0.035605</td>\n",
       "      <td>0.051662</td>\n",
       "      <td>9.422556</td>\n",
       "      <td>1.160454</td>\n",
       "      <td>-2.623279</td>\n",
       "    </tr>\n",
       "    <tr>\n",
       "      <th>2</th>\n",
       "      <td>1413393212235760384</td>\n",
       "      <td>-0.011170</td>\n",
       "      <td>0.027925</td>\n",
       "      <td>0.069813</td>\n",
       "      <td>9.398040</td>\n",
       "      <td>1.618097</td>\n",
       "      <td>-2.705001</td>\n",
       "    </tr>\n",
       "    <tr>\n",
       "      <th>3</th>\n",
       "      <td>1413393212240760576</td>\n",
       "      <td>-0.072606</td>\n",
       "      <td>0.033510</td>\n",
       "      <td>0.069813</td>\n",
       "      <td>9.496106</td>\n",
       "      <td>0.670121</td>\n",
       "      <td>-2.819412</td>\n",
       "    </tr>\n",
       "    <tr>\n",
       "      <th>4</th>\n",
       "      <td>1413393212245760512</td>\n",
       "      <td>-0.092153</td>\n",
       "      <td>0.036303</td>\n",
       "      <td>0.078889</td>\n",
       "      <td>8.989429</td>\n",
       "      <td>-0.130755</td>\n",
       "      <td>-2.713173</td>\n",
       "    </tr>\n",
       "  </tbody>\n",
       "</table>\n",
       "</div>"
      ],
      "text/plain": [
       "       #timestamp [ns]  w_RS_S_x [rad s^-1]  w_RS_S_y [rad s^-1]  \\\n",
       "0  1413393212225760512             0.094946             0.020246   \n",
       "1  1413393212230760448             0.058643             0.035605   \n",
       "2  1413393212235760384            -0.011170             0.027925   \n",
       "3  1413393212240760576            -0.072606             0.033510   \n",
       "4  1413393212245760512            -0.092153             0.036303   \n",
       "\n",
       "   w_RS_S_z [rad s^-1]  a_RS_S_x [m s^-2]  a_RS_S_y [m s^-2]  \\\n",
       "0             0.058643           9.128357           0.106239   \n",
       "1             0.051662           9.422556           1.160454   \n",
       "2             0.069813           9.398040           1.618097   \n",
       "3             0.069813           9.496106           0.670121   \n",
       "4             0.078889           8.989429          -0.130755   \n",
       "\n",
       "   a_RS_S_z [m s^-2]  \n",
       "0          -2.606934  \n",
       "1          -2.623279  \n",
       "2          -2.705001  \n",
       "3          -2.819412  \n",
       "4          -2.713173  "
      ]
     },
     "execution_count": 73,
     "metadata": {},
     "output_type": "execute_result"
    }
   ],
   "source": [
    "df['#timestamp [ns]'] = df['#timestamp [ns]'].apply(lambda x: f\"{x:.0f}\")\n",
    "df.head(5)"
   ]
  },
  {
   "cell_type": "code",
   "execution_count": 74,
   "id": "076cac72-20dc-4ea8-8376-3ef244600a34",
   "metadata": {},
   "outputs": [],
   "source": [
    "df['#timestamp [ns]'] = df['#timestamp [ns]'].astype('float64')"
   ]
  },
  {
   "cell_type": "code",
   "execution_count": 75,
   "id": "a02e1040-e8c7-45f6-b43a-1cded842bcd1",
   "metadata": {},
   "outputs": [
    {
     "name": "stdout",
     "output_type": "stream",
     "text": [
      "<class 'pandas.core.frame.DataFrame'>\n",
      "RangeIndex: 22800 entries, 0 to 22799\n",
      "Data columns (total 7 columns):\n",
      " #   Column               Non-Null Count  Dtype  \n",
      "---  ------               --------------  -----  \n",
      " 0   #timestamp [ns]      22800 non-null  float64\n",
      " 1   w_RS_S_x [rad s^-1]  22800 non-null  float64\n",
      " 2   w_RS_S_y [rad s^-1]  22800 non-null  float64\n",
      " 3   w_RS_S_z [rad s^-1]  22800 non-null  float64\n",
      " 4   a_RS_S_x [m s^-2]    22800 non-null  float64\n",
      " 5   a_RS_S_y [m s^-2]    22800 non-null  float64\n",
      " 6   a_RS_S_z [m s^-2]    22800 non-null  float64\n",
      "dtypes: float64(7)\n",
      "memory usage: 1.2 MB\n"
     ]
    }
   ],
   "source": [
    "df.info(verbose=True)"
   ]
  },
  {
   "cell_type": "code",
   "execution_count": 76,
   "id": "ce27c37d-d5e7-48c1-a262-6522afb47599",
   "metadata": {},
   "outputs": [],
   "source": [
    "# Check the deltas.\n",
    "orig_deltas = np.unique(np.diff(df['#timestamp [ns]']), return_counts=True)"
   ]
  },
  {
   "cell_type": "code",
   "execution_count": 77,
   "id": "c5bec865-6408-4fba-b6eb-f5f2e321675e",
   "metadata": {},
   "outputs": [
    {
     "name": "stdout",
     "output_type": "stream",
     "text": [
      "The frequency will be reduced to: 200.0\n"
     ]
    }
   ],
   "source": [
    "original_rate = 200\n",
    "reduction_factor = 1\n",
    "print(\"The frequency will be reduced to:\", original_rate/reduction_factor)"
   ]
  },
  {
   "cell_type": "code",
   "execution_count": 78,
   "id": "3f3aab63-0806-40f7-b57f-5812f77b24ea",
   "metadata": {},
   "outputs": [],
   "source": [
    "# Reducing frequency\n",
    "df = df.iloc[::reduction_factor]"
   ]
  },
  {
   "cell_type": "code",
   "execution_count": 79,
   "id": "20dd8029-26bb-430c-b250-846e1ed6227a",
   "metadata": {},
   "outputs": [
    {
     "name": "stdout",
     "output_type": "stream",
     "text": [
      "<class 'pandas.core.frame.DataFrame'>\n",
      "RangeIndex: 22800 entries, 0 to 22799\n",
      "Data columns (total 7 columns):\n",
      " #   Column               Non-Null Count  Dtype  \n",
      "---  ------               --------------  -----  \n",
      " 0   #timestamp [ns]      22800 non-null  float64\n",
      " 1   w_RS_S_x [rad s^-1]  22800 non-null  float64\n",
      " 2   w_RS_S_y [rad s^-1]  22800 non-null  float64\n",
      " 3   w_RS_S_z [rad s^-1]  22800 non-null  float64\n",
      " 4   a_RS_S_x [m s^-2]    22800 non-null  float64\n",
      " 5   a_RS_S_y [m s^-2]    22800 non-null  float64\n",
      " 6   a_RS_S_z [m s^-2]    22800 non-null  float64\n",
      "dtypes: float64(7)\n",
      "memory usage: 1.2 MB\n"
     ]
    }
   ],
   "source": [
    "df.info(verbose=True)"
   ]
  },
  {
   "cell_type": "code",
   "execution_count": 80,
   "id": "8d63ad44-2ddb-4da5-a669-c68937417f26",
   "metadata": {},
   "outputs": [],
   "source": [
    "# Check deltas after downsampling.\n",
    "new_deltas = np.unique(np.diff(df['#timestamp [ns]']), return_counts=True)"
   ]
  },
  {
   "cell_type": "code",
   "execution_count": 81,
   "id": "f1180fdb-15e2-4e0f-822e-2c2fc6a602a3",
   "metadata": {},
   "outputs": [
    {
     "data": {
      "text/plain": [
       "array([1., 1.])"
      ]
     },
     "execution_count": 81,
     "metadata": {},
     "output_type": "execute_result"
    }
   ],
   "source": [
    "#Since we have reduced the frequency, we should get a fractional value when we divide the original deltas by the new deltas\n",
    "orig_deltas[0] / new_deltas[0]"
   ]
  },
  {
   "cell_type": "code",
   "execution_count": 82,
   "id": "e7b49cb6-b2db-4978-90a6-6ae02d0ac997",
   "metadata": {},
   "outputs": [
    {
     "data": {
      "text/html": [
       "<div>\n",
       "<style scoped>\n",
       "    .dataframe tbody tr th:only-of-type {\n",
       "        vertical-align: middle;\n",
       "    }\n",
       "\n",
       "    .dataframe tbody tr th {\n",
       "        vertical-align: top;\n",
       "    }\n",
       "\n",
       "    .dataframe thead th {\n",
       "        text-align: right;\n",
       "    }\n",
       "</style>\n",
       "<table border=\"1\" class=\"dataframe\">\n",
       "  <thead>\n",
       "    <tr style=\"text-align: right;\">\n",
       "      <th></th>\n",
       "      <th>#timestamp [ns]</th>\n",
       "      <th>w_RS_S_x [rad s^-1]</th>\n",
       "      <th>w_RS_S_y [rad s^-1]</th>\n",
       "      <th>w_RS_S_z [rad s^-1]</th>\n",
       "      <th>a_RS_S_x [m s^-2]</th>\n",
       "      <th>a_RS_S_y [m s^-2]</th>\n",
       "      <th>a_RS_S_z [m s^-2]</th>\n",
       "    </tr>\n",
       "  </thead>\n",
       "  <tbody>\n",
       "    <tr>\n",
       "      <th>0</th>\n",
       "      <td>1.413393e+18</td>\n",
       "      <td>0.094946</td>\n",
       "      <td>0.020246</td>\n",
       "      <td>0.058643</td>\n",
       "      <td>9.128357</td>\n",
       "      <td>0.106239</td>\n",
       "      <td>-2.606934</td>\n",
       "    </tr>\n",
       "    <tr>\n",
       "      <th>1</th>\n",
       "      <td>1.413393e+18</td>\n",
       "      <td>0.058643</td>\n",
       "      <td>0.035605</td>\n",
       "      <td>0.051662</td>\n",
       "      <td>9.422556</td>\n",
       "      <td>1.160454</td>\n",
       "      <td>-2.623279</td>\n",
       "    </tr>\n",
       "    <tr>\n",
       "      <th>2</th>\n",
       "      <td>1.413393e+18</td>\n",
       "      <td>-0.011170</td>\n",
       "      <td>0.027925</td>\n",
       "      <td>0.069813</td>\n",
       "      <td>9.398040</td>\n",
       "      <td>1.618097</td>\n",
       "      <td>-2.705001</td>\n",
       "    </tr>\n",
       "    <tr>\n",
       "      <th>3</th>\n",
       "      <td>1.413393e+18</td>\n",
       "      <td>-0.072606</td>\n",
       "      <td>0.033510</td>\n",
       "      <td>0.069813</td>\n",
       "      <td>9.496106</td>\n",
       "      <td>0.670121</td>\n",
       "      <td>-2.819412</td>\n",
       "    </tr>\n",
       "    <tr>\n",
       "      <th>4</th>\n",
       "      <td>1.413393e+18</td>\n",
       "      <td>-0.092153</td>\n",
       "      <td>0.036303</td>\n",
       "      <td>0.078889</td>\n",
       "      <td>8.989429</td>\n",
       "      <td>-0.130755</td>\n",
       "      <td>-2.713173</td>\n",
       "    </tr>\n",
       "    <tr>\n",
       "      <th>5</th>\n",
       "      <td>1.413393e+18</td>\n",
       "      <td>-0.058643</td>\n",
       "      <td>0.024435</td>\n",
       "      <td>0.100531</td>\n",
       "      <td>9.177390</td>\n",
       "      <td>-0.890771</td>\n",
       "      <td>-2.582418</td>\n",
       "    </tr>\n",
       "    <tr>\n",
       "      <th>6</th>\n",
       "      <td>1.413393e+18</td>\n",
       "      <td>-0.005585</td>\n",
       "      <td>0.009076</td>\n",
       "      <td>0.113795</td>\n",
       "      <td>9.299973</td>\n",
       "      <td>-1.234003</td>\n",
       "      <td>-2.476179</td>\n",
       "    </tr>\n",
       "    <tr>\n",
       "      <th>7</th>\n",
       "      <td>1.413393e+18</td>\n",
       "      <td>0.037001</td>\n",
       "      <td>0.013265</td>\n",
       "      <td>0.100531</td>\n",
       "      <td>9.586000</td>\n",
       "      <td>-0.817221</td>\n",
       "      <td>-2.745862</td>\n",
       "    </tr>\n",
       "    <tr>\n",
       "      <th>8</th>\n",
       "      <td>1.413393e+18</td>\n",
       "      <td>0.061436</td>\n",
       "      <td>0.023736</td>\n",
       "      <td>0.091455</td>\n",
       "      <td>9.275456</td>\n",
       "      <td>0.073550</td>\n",
       "      <td>-2.582418</td>\n",
       "    </tr>\n",
       "    <tr>\n",
       "      <th>9</th>\n",
       "      <td>1.413393e+18</td>\n",
       "      <td>0.044680</td>\n",
       "      <td>0.017453</td>\n",
       "      <td>0.076794</td>\n",
       "      <td>9.536967</td>\n",
       "      <td>0.498505</td>\n",
       "      <td>-2.688657</td>\n",
       "    </tr>\n",
       "  </tbody>\n",
       "</table>\n",
       "</div>"
      ],
      "text/plain": [
       "   #timestamp [ns]  w_RS_S_x [rad s^-1]  w_RS_S_y [rad s^-1]  \\\n",
       "0     1.413393e+18             0.094946             0.020246   \n",
       "1     1.413393e+18             0.058643             0.035605   \n",
       "2     1.413393e+18            -0.011170             0.027925   \n",
       "3     1.413393e+18            -0.072606             0.033510   \n",
       "4     1.413393e+18            -0.092153             0.036303   \n",
       "5     1.413393e+18            -0.058643             0.024435   \n",
       "6     1.413393e+18            -0.005585             0.009076   \n",
       "7     1.413393e+18             0.037001             0.013265   \n",
       "8     1.413393e+18             0.061436             0.023736   \n",
       "9     1.413393e+18             0.044680             0.017453   \n",
       "\n",
       "   w_RS_S_z [rad s^-1]  a_RS_S_x [m s^-2]  a_RS_S_y [m s^-2]  \\\n",
       "0             0.058643           9.128357           0.106239   \n",
       "1             0.051662           9.422556           1.160454   \n",
       "2             0.069813           9.398040           1.618097   \n",
       "3             0.069813           9.496106           0.670121   \n",
       "4             0.078889           8.989429          -0.130755   \n",
       "5             0.100531           9.177390          -0.890771   \n",
       "6             0.113795           9.299973          -1.234003   \n",
       "7             0.100531           9.586000          -0.817221   \n",
       "8             0.091455           9.275456           0.073550   \n",
       "9             0.076794           9.536967           0.498505   \n",
       "\n",
       "   a_RS_S_z [m s^-2]  \n",
       "0          -2.606934  \n",
       "1          -2.623279  \n",
       "2          -2.705001  \n",
       "3          -2.819412  \n",
       "4          -2.713173  \n",
       "5          -2.582418  \n",
       "6          -2.476179  \n",
       "7          -2.745862  \n",
       "8          -2.582418  \n",
       "9          -2.688657  "
      ]
     },
     "execution_count": 82,
     "metadata": {},
     "output_type": "execute_result"
    }
   ],
   "source": [
    "df.head(10)"
   ]
  },
  {
   "cell_type": "code",
   "execution_count": 83,
   "id": "1050d8f9-45a0-4800-86b0-2be2b08c6323",
   "metadata": {},
   "outputs": [],
   "source": [
    "max_nano_seconds_to_add = max(np.unique(np.diff(df['#timestamp [ns]'])))"
   ]
  },
  {
   "cell_type": "code",
   "execution_count": 84,
   "id": "b9519dd5-3a4d-4a5b-813d-f106fd9696e3",
   "metadata": {},
   "outputs": [
    {
     "data": {
      "text/plain": [
       "np.float64(5000192.0)"
      ]
     },
     "execution_count": 84,
     "metadata": {},
     "output_type": "execute_result"
    }
   ],
   "source": [
    "max_nano_seconds_to_add"
   ]
  },
  {
   "cell_type": "code",
   "execution_count": 85,
   "id": "c1f89682-6e5f-4838-b59b-1cc860ffc3d0",
   "metadata": {},
   "outputs": [
    {
     "data": {
      "text/plain": [
       "np.float64(2500095.5)"
      ]
     },
     "execution_count": 85,
     "metadata": {},
     "output_type": "execute_result"
    }
   ],
   "source": [
    "(max_nano_seconds_to_add - 1)/2"
   ]
  },
  {
   "cell_type": "markdown",
   "id": "01bd7184-0ea0-4048-a47f-38b53da4a8b8",
   "metadata": {},
   "source": [
    "### Introducing Minor Variation in IMU Timestamps"
   ]
  },
  {
   "cell_type": "markdown",
   "id": "5061d783-7b84-4dda-a960-fae9dad658b9",
   "metadata": {},
   "source": [
    "- 1,000,000 ns = 1 ms\n",
    "- 10,000,000 ns = 10 ms (current delta)\n",
    "- We are introducing at most 5,000,000 ns (5ms) jitter.\n",
    "- In a worst case scenario, we can have 5,00,000 ns being subtracted and then for the next data point, we we can subtract none, leaving a max delta of 15,000,000 ns = 15 ms.\n",
    "- This means that in terms of 'jitter', we are introducing +/- 5ms.\n",
    "- If we introduce jitter of more than 10ms, we will have instances where timestamps overlap!"
   ]
  },
  {
   "cell_type": "code",
   "execution_count": 86,
   "id": "d400ecbe-bb27-46d4-9fcb-5f4a43137369",
   "metadata": {},
   "outputs": [],
   "source": [
    "random_nanoseconds_to_add = np.random.uniform(low=0, high=(max_nano_seconds_to_add - 1)/2, size=10)"
   ]
  },
  {
   "cell_type": "code",
   "execution_count": 87,
   "id": "20d04167-0328-4cf5-8424-fd3ac2eb46e8",
   "metadata": {},
   "outputs": [
    {
     "data": {
      "text/plain": [
       "array([1794120.97315939,  542410.29728864, 1676581.2835025 ,\n",
       "       2498557.958745  , 1188593.52587177,  693381.75737306,\n",
       "        833362.97977501,  335888.82373984, 2283520.75735962,\n",
       "       1303297.28384819])"
      ]
     },
     "execution_count": 87,
     "metadata": {},
     "output_type": "execute_result"
    }
   ],
   "source": [
    "random_nanoseconds_to_add"
   ]
  },
  {
   "cell_type": "code",
   "execution_count": 88,
   "id": "39b8569d-8495-4dd3-8f8d-4532c9c4ddf4",
   "metadata": {},
   "outputs": [],
   "source": [
    "default_ts_arr = df['#timestamp [ns]'].values"
   ]
  },
  {
   "cell_type": "code",
   "execution_count": 89,
   "id": "07be342c-b259-42e7-ac23-2ef3bf3ac5f8",
   "metadata": {},
   "outputs": [
    {
     "data": {
      "text/plain": [
       "array([4999936., 5000192.])"
      ]
     },
     "execution_count": 89,
     "metadata": {},
     "output_type": "execute_result"
    }
   ],
   "source": [
    "np.unique(np.diff(default_ts_arr))"
   ]
  },
  {
   "cell_type": "code",
   "execution_count": 90,
   "id": "2aeb8011-c92a-40ac-8a8f-cb2aa54db8b1",
   "metadata": {},
   "outputs": [],
   "source": [
    "modified_ts_arr = np.array([])"
   ]
  },
  {
   "cell_type": "code",
   "execution_count": 91,
   "id": "70d4dbcb-1788-4561-bcdb-ae65f98c98ae",
   "metadata": {},
   "outputs": [],
   "source": [
    "for def_ts in default_ts_arr:\n",
    "    modified_ts = float(def_ts - np.random.choice(random_nanoseconds_to_add, 1)[0])\n",
    "    modified_ts_arr = np.append(modified_ts_arr, modified_ts)"
   ]
  },
  {
   "cell_type": "code",
   "execution_count": 92,
   "id": "be4b1eff-f7b5-463a-a2c1-ddb54a95feb2",
   "metadata": {},
   "outputs": [
    {
     "data": {
      "text/plain": [
       "array([2837248., 2837504., 3043840., 3044096., 3052288., 3052544.,\n",
       "       3194880., 3195136., 3258880., 3259136., 3334656., 3334912.,\n",
       "       3409920., 3410176., 3541760., 3542016., 3549696., 3549952.,\n",
       "       3659264., 3659520., 3689984., 3690240., 3748352., 3748608.,\n",
       "       3804672., 3804928., 3865856., 3866112., 3899392., 3899648.,\n",
       "       3905024., 3905280., 4016896., 4017152., 4019712., 4019968.,\n",
       "       4032512., 4032768., 4039168., 4039424., 4147200., 4147456.,\n",
       "       4156672., 4156928., 4177920., 4178176., 4239104., 4239360.,\n",
       "       4295424., 4295680., 4353792., 4354048., 4390144., 4390400.,\n",
       "       4392960., 4393216., 4394496., 4394752., 4502528., 4502784.,\n",
       "       4504832., 4505088., 4509184., 4509440., 4510464., 4510720.,\n",
       "       4512000., 4512256., 4529920., 4530176., 4626688., 4626944.,\n",
       "       4642304., 4642560., 4644608., 4644864., 4709120., 4709376.,\n",
       "       4784896., 4785152., 4793344., 4793600., 4848896., 4849152.,\n",
       "       4860160., 4860416., 4882432., 4882688., 4885248., 4885504.,\n",
       "       4999936., 5000192., 5114624., 5114880., 5117440., 5117696.,\n",
       "       5139712., 5139968., 5150976., 5151232., 5206528., 5206784.,\n",
       "       5214976., 5215232., 5290752., 5291008., 5355264., 5355520.,\n",
       "       5357568., 5357824., 5373184., 5373440., 5469952., 5470208.,\n",
       "       5487872., 5488128., 5489408., 5489664., 5490688., 5490944.,\n",
       "       5495040., 5495296., 5497344., 5497600., 5605376., 5605632.,\n",
       "       5606912., 5607168., 5609728., 5609984., 5646080., 5646336.,\n",
       "       5704448., 5704704., 5760768., 5761024., 5821952., 5822208.,\n",
       "       5843200., 5843456., 5852672., 5852928., 5960704., 5960960.,\n",
       "       5967360., 5967616., 5980160., 5980416., 5982976., 5983232.,\n",
       "       6094848., 6095104., 6100480., 6100736., 6134016., 6134272.,\n",
       "       6195200., 6195456., 6251520., 6251776., 6309888., 6310144.,\n",
       "       6340608., 6340864., 6450176., 6450432., 6458112., 6458368.,\n",
       "       6589952., 6590208., 6665216., 6665472., 6740992., 6741248.,\n",
       "       6804992., 6805248., 6947584., 6947840., 6956032., 6956288.,\n",
       "       7162624., 7162880.])"
      ]
     },
     "execution_count": 92,
     "metadata": {},
     "output_type": "execute_result"
    }
   ],
   "source": [
    "np.unique(np.diff(modified_ts_arr))"
   ]
  },
  {
   "cell_type": "code",
   "execution_count": 93,
   "id": "38b98ea9-4c94-49f9-a8f3-4eb06bf679df",
   "metadata": {},
   "outputs": [
    {
     "data": {
      "text/plain": [
       "array([False, False, False, False, False, False, False, False, False,\n",
       "       False, False, False, False, False, False, False, False, False,\n",
       "       False, False, False, False, False, False, False, False, False,\n",
       "       False, False, False, False, False, False, False, False, False,\n",
       "       False, False, False, False, False, False, False, False, False,\n",
       "       False, False, False, False, False, False, False, False, False,\n",
       "       False, False, False, False, False, False, False, False, False,\n",
       "       False, False, False, False, False, False, False, False, False,\n",
       "       False, False, False, False, False, False, False, False, False,\n",
       "       False, False, False, False, False, False, False, False, False,\n",
       "       False, False, False, False, False, False, False, False, False,\n",
       "       False, False, False, False, False, False, False, False, False,\n",
       "       False, False, False, False, False, False, False, False, False,\n",
       "       False, False, False, False, False, False, False, False, False,\n",
       "       False, False, False, False, False, False, False, False, False,\n",
       "       False, False, False, False, False, False, False, False, False,\n",
       "       False, False, False, False, False, False, False, False, False,\n",
       "       False, False, False, False, False, False, False, False, False,\n",
       "       False, False, False, False, False, False, False, False, False,\n",
       "       False, False, False, False, False, False, False, False, False,\n",
       "       False, False])"
      ]
     },
     "execution_count": 93,
     "metadata": {},
     "output_type": "execute_result"
    }
   ],
   "source": [
    "np.unique(np.diff(modified_ts_arr)) > max_nano_seconds_to_add * 1.5"
   ]
  },
  {
   "cell_type": "code",
   "execution_count": 94,
   "id": "0ea8ef1d-11fe-4422-98b1-9f8668ed52c2",
   "metadata": {},
   "outputs": [],
   "source": [
    "df['#timestamp [ns]'] = modified_ts_arr"
   ]
  },
  {
   "cell_type": "code",
   "execution_count": 95,
   "id": "8df4234d-7e5f-49e6-a470-b2feb6b66d36",
   "metadata": {},
   "outputs": [
    {
     "data": {
      "text/plain": [
       "(array([2837248., 2837504., 3043840., 3044096., 3052288., 3052544.,\n",
       "        3194880., 3195136., 3258880., 3259136., 3334656., 3334912.,\n",
       "        3409920., 3410176., 3541760., 3542016., 3549696., 3549952.,\n",
       "        3659264., 3659520., 3689984., 3690240., 3748352., 3748608.,\n",
       "        3804672., 3804928., 3865856., 3866112., 3899392., 3899648.,\n",
       "        3905024., 3905280., 4016896., 4017152., 4019712., 4019968.,\n",
       "        4032512., 4032768., 4039168., 4039424., 4147200., 4147456.,\n",
       "        4156672., 4156928., 4177920., 4178176., 4239104., 4239360.,\n",
       "        4295424., 4295680., 4353792., 4354048., 4390144., 4390400.,\n",
       "        4392960., 4393216., 4394496., 4394752., 4502528., 4502784.,\n",
       "        4504832., 4505088., 4509184., 4509440., 4510464., 4510720.,\n",
       "        4512000., 4512256., 4529920., 4530176., 4626688., 4626944.,\n",
       "        4642304., 4642560., 4644608., 4644864., 4709120., 4709376.,\n",
       "        4784896., 4785152., 4793344., 4793600., 4848896., 4849152.,\n",
       "        4860160., 4860416., 4882432., 4882688., 4885248., 4885504.,\n",
       "        4999936., 5000192., 5114624., 5114880., 5117440., 5117696.,\n",
       "        5139712., 5139968., 5150976., 5151232., 5206528., 5206784.,\n",
       "        5214976., 5215232., 5290752., 5291008., 5355264., 5355520.,\n",
       "        5357568., 5357824., 5373184., 5373440., 5469952., 5470208.,\n",
       "        5487872., 5488128., 5489408., 5489664., 5490688., 5490944.,\n",
       "        5495040., 5495296., 5497344., 5497600., 5605376., 5605632.,\n",
       "        5606912., 5607168., 5609728., 5609984., 5646080., 5646336.,\n",
       "        5704448., 5704704., 5760768., 5761024., 5821952., 5822208.,\n",
       "        5843200., 5843456., 5852672., 5852928., 5960704., 5960960.,\n",
       "        5967360., 5967616., 5980160., 5980416., 5982976., 5983232.,\n",
       "        6094848., 6095104., 6100480., 6100736., 6134016., 6134272.,\n",
       "        6195200., 6195456., 6251520., 6251776., 6309888., 6310144.,\n",
       "        6340608., 6340864., 6450176., 6450432., 6458112., 6458368.,\n",
       "        6589952., 6590208., 6665216., 6665472., 6740992., 6741248.,\n",
       "        6804992., 6805248., 6947584., 6947840., 6956032., 6956288.,\n",
       "        7162624., 7162880.]),\n",
       " array([ 154,   51,  167,   57,  195,   57,  176,   60,  170,   50,  151,\n",
       "          67,  180,   53,  153,   59,  187,   61,  161,   54,  189,   48,\n",
       "         191,   50,  172,   54,  160,   55,  173,   48,  196,   54,  205,\n",
       "          51,  182,   58,  150,   51,  183,   57,  175,   51,  179,   57,\n",
       "         173,   60,  169,   59,  167,   69,  162,   66,  198,   58,  177,\n",
       "          66,  171,   52,  177,   57,  162,   63,  169,   47,  157,   58,\n",
       "         155,   64,  177,   56,  177,   50,  179,   62,  154,   63,  153,\n",
       "          55,  167,   65,  151,   45,  164,   64,  166,   52,  162,   62,\n",
       "         181,   58, 1714,  575,  152,   58,  181,   65,  173,   50,  160,\n",
       "          64,  167,   35,  167,   55,  182,   56,  158,   47,  173,   57,\n",
       "         167,   47,  174,   66,  159,   67,  181,   66,  171,   59,  185,\n",
       "          46,  182,   53,  154,   54,  165,   68,  153,   55,  164,   58,\n",
       "         161,   47,  171,   67,  166,   58,  193,   52,  171,   45,  181,\n",
       "          67,  174,   53,  143,   54,  170,   72,  180,   55,  181,   63,\n",
       "         165,   71,  175,   58,  133,   55,  194,   73,  160,   48,  167,\n",
       "          85,  171,   46,  199,   56,  182,   56,  178,   59,  166,   62,\n",
       "         182,   53,  168,   47,  169,   43]))"
      ]
     },
     "execution_count": 95,
     "metadata": {},
     "output_type": "execute_result"
    }
   ],
   "source": [
    "np.unique(np.diff(df['#timestamp [ns]']), return_counts=True)"
   ]
  },
  {
   "cell_type": "markdown",
   "id": "c2d64891-2cd9-46ff-8d92-c344713f5688",
   "metadata": {},
   "source": [
    "### End Section"
   ]
  },
  {
   "cell_type": "code",
   "execution_count": 96,
   "id": "04794a81-c4a0-4f9f-8f37-b43021661be5",
   "metadata": {},
   "outputs": [
    {
     "data": {
      "text/html": [
       "<div>\n",
       "<style scoped>\n",
       "    .dataframe tbody tr th:only-of-type {\n",
       "        vertical-align: middle;\n",
       "    }\n",
       "\n",
       "    .dataframe tbody tr th {\n",
       "        vertical-align: top;\n",
       "    }\n",
       "\n",
       "    .dataframe thead th {\n",
       "        text-align: right;\n",
       "    }\n",
       "</style>\n",
       "<table border=\"1\" class=\"dataframe\">\n",
       "  <thead>\n",
       "    <tr style=\"text-align: right;\">\n",
       "      <th></th>\n",
       "      <th>#timestamp [ns]</th>\n",
       "      <th>w_RS_S_x [rad s^-1]</th>\n",
       "      <th>w_RS_S_y [rad s^-1]</th>\n",
       "      <th>w_RS_S_z [rad s^-1]</th>\n",
       "      <th>a_RS_S_x [m s^-2]</th>\n",
       "      <th>a_RS_S_y [m s^-2]</th>\n",
       "      <th>a_RS_S_z [m s^-2]</th>\n",
       "    </tr>\n",
       "  </thead>\n",
       "  <tbody>\n",
       "    <tr>\n",
       "      <th>0</th>\n",
       "      <td>1.413393e+18</td>\n",
       "      <td>0.094946</td>\n",
       "      <td>0.020246</td>\n",
       "      <td>0.058643</td>\n",
       "      <td>9.128357</td>\n",
       "      <td>0.106239</td>\n",
       "      <td>-2.606934</td>\n",
       "    </tr>\n",
       "    <tr>\n",
       "      <th>1</th>\n",
       "      <td>1.413393e+18</td>\n",
       "      <td>0.058643</td>\n",
       "      <td>0.035605</td>\n",
       "      <td>0.051662</td>\n",
       "      <td>9.422556</td>\n",
       "      <td>1.160454</td>\n",
       "      <td>-2.623279</td>\n",
       "    </tr>\n",
       "    <tr>\n",
       "      <th>2</th>\n",
       "      <td>1.413393e+18</td>\n",
       "      <td>-0.011170</td>\n",
       "      <td>0.027925</td>\n",
       "      <td>0.069813</td>\n",
       "      <td>9.398040</td>\n",
       "      <td>1.618097</td>\n",
       "      <td>-2.705001</td>\n",
       "    </tr>\n",
       "    <tr>\n",
       "      <th>3</th>\n",
       "      <td>1.413393e+18</td>\n",
       "      <td>-0.072606</td>\n",
       "      <td>0.033510</td>\n",
       "      <td>0.069813</td>\n",
       "      <td>9.496106</td>\n",
       "      <td>0.670121</td>\n",
       "      <td>-2.819412</td>\n",
       "    </tr>\n",
       "    <tr>\n",
       "      <th>4</th>\n",
       "      <td>1.413393e+18</td>\n",
       "      <td>-0.092153</td>\n",
       "      <td>0.036303</td>\n",
       "      <td>0.078889</td>\n",
       "      <td>8.989429</td>\n",
       "      <td>-0.130755</td>\n",
       "      <td>-2.713173</td>\n",
       "    </tr>\n",
       "    <tr>\n",
       "      <th>5</th>\n",
       "      <td>1.413393e+18</td>\n",
       "      <td>-0.058643</td>\n",
       "      <td>0.024435</td>\n",
       "      <td>0.100531</td>\n",
       "      <td>9.177390</td>\n",
       "      <td>-0.890771</td>\n",
       "      <td>-2.582418</td>\n",
       "    </tr>\n",
       "    <tr>\n",
       "      <th>6</th>\n",
       "      <td>1.413393e+18</td>\n",
       "      <td>-0.005585</td>\n",
       "      <td>0.009076</td>\n",
       "      <td>0.113795</td>\n",
       "      <td>9.299973</td>\n",
       "      <td>-1.234003</td>\n",
       "      <td>-2.476179</td>\n",
       "    </tr>\n",
       "    <tr>\n",
       "      <th>7</th>\n",
       "      <td>1.413393e+18</td>\n",
       "      <td>0.037001</td>\n",
       "      <td>0.013265</td>\n",
       "      <td>0.100531</td>\n",
       "      <td>9.586000</td>\n",
       "      <td>-0.817221</td>\n",
       "      <td>-2.745862</td>\n",
       "    </tr>\n",
       "    <tr>\n",
       "      <th>8</th>\n",
       "      <td>1.413393e+18</td>\n",
       "      <td>0.061436</td>\n",
       "      <td>0.023736</td>\n",
       "      <td>0.091455</td>\n",
       "      <td>9.275456</td>\n",
       "      <td>0.073550</td>\n",
       "      <td>-2.582418</td>\n",
       "    </tr>\n",
       "    <tr>\n",
       "      <th>9</th>\n",
       "      <td>1.413393e+18</td>\n",
       "      <td>0.044680</td>\n",
       "      <td>0.017453</td>\n",
       "      <td>0.076794</td>\n",
       "      <td>9.536967</td>\n",
       "      <td>0.498505</td>\n",
       "      <td>-2.688657</td>\n",
       "    </tr>\n",
       "  </tbody>\n",
       "</table>\n",
       "</div>"
      ],
      "text/plain": [
       "   #timestamp [ns]  w_RS_S_x [rad s^-1]  w_RS_S_y [rad s^-1]  \\\n",
       "0     1.413393e+18             0.094946             0.020246   \n",
       "1     1.413393e+18             0.058643             0.035605   \n",
       "2     1.413393e+18            -0.011170             0.027925   \n",
       "3     1.413393e+18            -0.072606             0.033510   \n",
       "4     1.413393e+18            -0.092153             0.036303   \n",
       "5     1.413393e+18            -0.058643             0.024435   \n",
       "6     1.413393e+18            -0.005585             0.009076   \n",
       "7     1.413393e+18             0.037001             0.013265   \n",
       "8     1.413393e+18             0.061436             0.023736   \n",
       "9     1.413393e+18             0.044680             0.017453   \n",
       "\n",
       "   w_RS_S_z [rad s^-1]  a_RS_S_x [m s^-2]  a_RS_S_y [m s^-2]  \\\n",
       "0             0.058643           9.128357           0.106239   \n",
       "1             0.051662           9.422556           1.160454   \n",
       "2             0.069813           9.398040           1.618097   \n",
       "3             0.069813           9.496106           0.670121   \n",
       "4             0.078889           8.989429          -0.130755   \n",
       "5             0.100531           9.177390          -0.890771   \n",
       "6             0.113795           9.299973          -1.234003   \n",
       "7             0.100531           9.586000          -0.817221   \n",
       "8             0.091455           9.275456           0.073550   \n",
       "9             0.076794           9.536967           0.498505   \n",
       "\n",
       "   a_RS_S_z [m s^-2]  \n",
       "0          -2.606934  \n",
       "1          -2.623279  \n",
       "2          -2.705001  \n",
       "3          -2.819412  \n",
       "4          -2.713173  \n",
       "5          -2.582418  \n",
       "6          -2.476179  \n",
       "7          -2.745862  \n",
       "8          -2.582418  \n",
       "9          -2.688657  "
      ]
     },
     "execution_count": 96,
     "metadata": {},
     "output_type": "execute_result"
    }
   ],
   "source": [
    "df.head(10)"
   ]
  },
  {
   "cell_type": "code",
   "execution_count": 97,
   "id": "8cf10e92-b351-4e06-a01d-42b72f423ab1",
   "metadata": {},
   "outputs": [],
   "source": [
    "df['#timestamp [ns]'] = df['#timestamp [ns]'].apply(lambda x: f\"{x:.0f}\")"
   ]
  },
  {
   "cell_type": "code",
   "execution_count": 98,
   "id": "2358a4cc-7654-46af-8cf8-532af314e6f9",
   "metadata": {},
   "outputs": [
    {
     "data": {
      "text/html": [
       "<div>\n",
       "<style scoped>\n",
       "    .dataframe tbody tr th:only-of-type {\n",
       "        vertical-align: middle;\n",
       "    }\n",
       "\n",
       "    .dataframe tbody tr th {\n",
       "        vertical-align: top;\n",
       "    }\n",
       "\n",
       "    .dataframe thead th {\n",
       "        text-align: right;\n",
       "    }\n",
       "</style>\n",
       "<table border=\"1\" class=\"dataframe\">\n",
       "  <thead>\n",
       "    <tr style=\"text-align: right;\">\n",
       "      <th></th>\n",
       "      <th>#timestamp [ns]</th>\n",
       "      <th>w_RS_S_x [rad s^-1]</th>\n",
       "      <th>w_RS_S_y [rad s^-1]</th>\n",
       "      <th>w_RS_S_z [rad s^-1]</th>\n",
       "      <th>a_RS_S_x [m s^-2]</th>\n",
       "      <th>a_RS_S_y [m s^-2]</th>\n",
       "      <th>a_RS_S_z [m s^-2]</th>\n",
       "    </tr>\n",
       "  </thead>\n",
       "  <tbody>\n",
       "    <tr>\n",
       "      <th>0</th>\n",
       "      <td>1413393212224457216</td>\n",
       "      <td>0.094946</td>\n",
       "      <td>0.020246</td>\n",
       "      <td>0.058643</td>\n",
       "      <td>9.128357</td>\n",
       "      <td>0.106239</td>\n",
       "      <td>-2.606934</td>\n",
       "    </tr>\n",
       "    <tr>\n",
       "      <th>1</th>\n",
       "      <td>1413393212229457152</td>\n",
       "      <td>0.058643</td>\n",
       "      <td>0.035605</td>\n",
       "      <td>0.051662</td>\n",
       "      <td>9.422556</td>\n",
       "      <td>1.160454</td>\n",
       "      <td>-2.623279</td>\n",
       "    </tr>\n",
       "    <tr>\n",
       "      <th>2</th>\n",
       "      <td>1413393212233966336</td>\n",
       "      <td>-0.011170</td>\n",
       "      <td>0.027925</td>\n",
       "      <td>0.069813</td>\n",
       "      <td>9.398040</td>\n",
       "      <td>1.618097</td>\n",
       "      <td>-2.705001</td>\n",
       "    </tr>\n",
       "    <tr>\n",
       "      <th>3</th>\n",
       "      <td>1413393212239084032</td>\n",
       "      <td>-0.072606</td>\n",
       "      <td>0.033510</td>\n",
       "      <td>0.069813</td>\n",
       "      <td>9.496106</td>\n",
       "      <td>0.670121</td>\n",
       "      <td>-2.819412</td>\n",
       "    </tr>\n",
       "    <tr>\n",
       "      <th>4</th>\n",
       "      <td>1413393212243476992</td>\n",
       "      <td>-0.092153</td>\n",
       "      <td>0.036303</td>\n",
       "      <td>0.078889</td>\n",
       "      <td>8.989429</td>\n",
       "      <td>-0.130755</td>\n",
       "      <td>-2.713173</td>\n",
       "    </tr>\n",
       "    <tr>\n",
       "      <th>5</th>\n",
       "      <td>1413393212249571840</td>\n",
       "      <td>-0.058643</td>\n",
       "      <td>0.024435</td>\n",
       "      <td>0.100531</td>\n",
       "      <td>9.177390</td>\n",
       "      <td>-0.890771</td>\n",
       "      <td>-2.582418</td>\n",
       "    </tr>\n",
       "    <tr>\n",
       "      <th>6</th>\n",
       "      <td>1413393212254571776</td>\n",
       "      <td>-0.005585</td>\n",
       "      <td>0.009076</td>\n",
       "      <td>0.113795</td>\n",
       "      <td>9.299973</td>\n",
       "      <td>-1.234003</td>\n",
       "      <td>-2.476179</td>\n",
       "    </tr>\n",
       "    <tr>\n",
       "      <th>7</th>\n",
       "      <td>1413393212258966528</td>\n",
       "      <td>0.037001</td>\n",
       "      <td>0.013265</td>\n",
       "      <td>0.100531</td>\n",
       "      <td>9.586000</td>\n",
       "      <td>-0.817221</td>\n",
       "      <td>-2.745862</td>\n",
       "    </tr>\n",
       "    <tr>\n",
       "      <th>8</th>\n",
       "      <td>1413393212264571904</td>\n",
       "      <td>0.061436</td>\n",
       "      <td>0.023736</td>\n",
       "      <td>0.091455</td>\n",
       "      <td>9.275456</td>\n",
       "      <td>0.073550</td>\n",
       "      <td>-2.582418</td>\n",
       "    </tr>\n",
       "    <tr>\n",
       "      <th>9</th>\n",
       "      <td>1413393212269927168</td>\n",
       "      <td>0.044680</td>\n",
       "      <td>0.017453</td>\n",
       "      <td>0.076794</td>\n",
       "      <td>9.536967</td>\n",
       "      <td>0.498505</td>\n",
       "      <td>-2.688657</td>\n",
       "    </tr>\n",
       "  </tbody>\n",
       "</table>\n",
       "</div>"
      ],
      "text/plain": [
       "       #timestamp [ns]  w_RS_S_x [rad s^-1]  w_RS_S_y [rad s^-1]  \\\n",
       "0  1413393212224457216             0.094946             0.020246   \n",
       "1  1413393212229457152             0.058643             0.035605   \n",
       "2  1413393212233966336            -0.011170             0.027925   \n",
       "3  1413393212239084032            -0.072606             0.033510   \n",
       "4  1413393212243476992            -0.092153             0.036303   \n",
       "5  1413393212249571840            -0.058643             0.024435   \n",
       "6  1413393212254571776            -0.005585             0.009076   \n",
       "7  1413393212258966528             0.037001             0.013265   \n",
       "8  1413393212264571904             0.061436             0.023736   \n",
       "9  1413393212269927168             0.044680             0.017453   \n",
       "\n",
       "   w_RS_S_z [rad s^-1]  a_RS_S_x [m s^-2]  a_RS_S_y [m s^-2]  \\\n",
       "0             0.058643           9.128357           0.106239   \n",
       "1             0.051662           9.422556           1.160454   \n",
       "2             0.069813           9.398040           1.618097   \n",
       "3             0.069813           9.496106           0.670121   \n",
       "4             0.078889           8.989429          -0.130755   \n",
       "5             0.100531           9.177390          -0.890771   \n",
       "6             0.113795           9.299973          -1.234003   \n",
       "7             0.100531           9.586000          -0.817221   \n",
       "8             0.091455           9.275456           0.073550   \n",
       "9             0.076794           9.536967           0.498505   \n",
       "\n",
       "   a_RS_S_z [m s^-2]  \n",
       "0          -2.606934  \n",
       "1          -2.623279  \n",
       "2          -2.705001  \n",
       "3          -2.819412  \n",
       "4          -2.713173  \n",
       "5          -2.582418  \n",
       "6          -2.476179  \n",
       "7          -2.745862  \n",
       "8          -2.582418  \n",
       "9          -2.688657  "
      ]
     },
     "execution_count": 98,
     "metadata": {},
     "output_type": "execute_result"
    }
   ],
   "source": [
    "df.head(10)"
   ]
  },
  {
   "cell_type": "code",
   "execution_count": 99,
   "id": "8d1ed96d-8afd-4c13-afb8-b67a1a08e92e",
   "metadata": {},
   "outputs": [],
   "source": [
    "df.to_csv('./mav0/imu0/data_modified.csv', index=False)"
   ]
  },
  {
   "cell_type": "code",
   "execution_count": 100,
   "id": "95e72166-8040-4afd-9cdc-2e339017cd5b",
   "metadata": {},
   "outputs": [],
   "source": [
    "!cp ./mav0/imu0/data_modified.csv /home/shiva/Datasets/V2_01_easy/V2_01_easy/mav0/imu0/data.csv"
   ]
  },
  {
   "cell_type": "code",
   "execution_count": null,
   "id": "e3ae03c8-088a-49aa-882e-cb794738869f",
   "metadata": {},
   "outputs": [],
   "source": []
  }
 ],
 "metadata": {
  "kernelspec": {
   "display_name": "Python 3 (ipykernel)",
   "language": "python",
   "name": "python3"
  },
  "language_info": {
   "codemirror_mode": {
    "name": "ipython",
    "version": 3
   },
   "file_extension": ".py",
   "mimetype": "text/x-python",
   "name": "python",
   "nbconvert_exporter": "python",
   "pygments_lexer": "ipython3",
   "version": "3.12.3"
  }
 },
 "nbformat": 4,
 "nbformat_minor": 5
}
