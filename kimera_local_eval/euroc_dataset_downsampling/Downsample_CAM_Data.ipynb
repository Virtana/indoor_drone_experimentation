{
 "cells": [
  {
   "cell_type": "code",
   "execution_count": 7,
   "id": "6d568bd8-3e06-47da-b8d7-0c9bd5b68f89",
   "metadata": {},
   "outputs": [],
   "source": [
    "import pandas as pd\n",
    "import numpy as np"
   ]
  },
  {
   "cell_type": "markdown",
   "id": "808fc7fb-5705-4e40-addc-cd666695e365",
   "metadata": {},
   "source": [
    "# CAM Changes\n",
    "- CAM data was recorded at 20hz.\n",
    "- Will now modify raw data and change it to 4 hz."
   ]
  },
  {
   "cell_type": "code",
   "execution_count": 8,
   "id": "eab93350-3ef3-4197-99e3-edaefbe1e302",
   "metadata": {},
   "outputs": [],
   "source": [
    "camera_type = 'cam0'"
   ]
  },
  {
   "cell_type": "code",
   "execution_count": 9,
   "id": "32bff0e6-20e7-4b91-a60b-1597f8cd8d91",
   "metadata": {},
   "outputs": [],
   "source": [
    "df = pd.read_csv(f'./mav0/{camera_type}/data.csv')"
   ]
  },
  {
   "cell_type": "code",
   "execution_count": 10,
   "id": "076cac72-20dc-4ea8-8376-3ef244600a34",
   "metadata": {},
   "outputs": [],
   "source": [
    "df['#timestamp [ns]'] = df['#timestamp [ns]'].astype('float64')"
   ]
  },
  {
   "cell_type": "code",
   "execution_count": 11,
   "id": "a02e1040-e8c7-45f6-b43a-1cded842bcd1",
   "metadata": {},
   "outputs": [
    {
     "name": "stdout",
     "output_type": "stream",
     "text": [
      "<class 'pandas.core.frame.DataFrame'>\n",
      "RangeIndex: 2280 entries, 0 to 2279\n",
      "Data columns (total 2 columns):\n",
      " #   Column           Non-Null Count  Dtype  \n",
      "---  ------           --------------  -----  \n",
      " 0   #timestamp [ns]  2280 non-null   float64\n",
      " 1   filename         2280 non-null   object \n",
      "dtypes: float64(1), object(1)\n",
      "memory usage: 35.8+ KB\n"
     ]
    }
   ],
   "source": [
    "df.info(verbose=True)"
   ]
  },
  {
   "cell_type": "code",
   "execution_count": 13,
   "id": "dfcf71cc-8bcf-467d-a583-b55b820be9b4",
   "metadata": {},
   "outputs": [],
   "source": [
    "# Check the deltas.\n",
    "orig_deltas = np.unique(np.diff(df['#timestamp [ns]']), return_counts=True)"
   ]
  },
  {
   "cell_type": "code",
   "execution_count": 14,
   "id": "ce27c37d-d5e7-48c1-a262-6522afb47599",
   "metadata": {},
   "outputs": [
    {
     "name": "stdout",
     "output_type": "stream",
     "text": [
      "The frequency will be reduced to: 10.0\n"
     ]
    }
   ],
   "source": [
    "original_rate = 20\n",
    "reduction_factor = 2\n",
    "print(\"The frequency will be reduced to:\", original_rate/reduction_factor)"
   ]
  },
  {
   "cell_type": "code",
   "execution_count": 15,
   "id": "c5bec865-6408-4fba-b6eb-f5f2e321675e",
   "metadata": {},
   "outputs": [],
   "source": [
    "# Reducing frequency\n",
    "df = df.iloc[::reduction_factor]"
   ]
  },
  {
   "cell_type": "code",
   "execution_count": 16,
   "id": "7cdf5f52-1681-4f00-8a47-ec3598acb61d",
   "metadata": {},
   "outputs": [
    {
     "name": "stdout",
     "output_type": "stream",
     "text": [
      "<class 'pandas.core.frame.DataFrame'>\n",
      "RangeIndex: 1140 entries, 0 to 2278\n",
      "Data columns (total 2 columns):\n",
      " #   Column           Non-Null Count  Dtype  \n",
      "---  ------           --------------  -----  \n",
      " 0   #timestamp [ns]  1140 non-null   float64\n",
      " 1   filename         1140 non-null   object \n",
      "dtypes: float64(1), object(1)\n",
      "memory usage: 17.9+ KB\n"
     ]
    }
   ],
   "source": [
    "df.info(verbose=True)"
   ]
  },
  {
   "cell_type": "code",
   "execution_count": 17,
   "id": "eced8aa2-02ea-445f-bd1b-33f23c81272e",
   "metadata": {},
   "outputs": [],
   "source": [
    "# Check deltas after downsampling.\n",
    "new_deltas = np.unique(np.diff(df['#timestamp [ns]']), return_counts=True)"
   ]
  },
  {
   "cell_type": "code",
   "execution_count": 18,
   "id": "3f3aab63-0806-40f7-b57f-5812f77b24ea",
   "metadata": {},
   "outputs": [
    {
     "data": {
      "text/plain": [
       "array([0.49999872, 0.50000128])"
      ]
     },
     "execution_count": 18,
     "metadata": {},
     "output_type": "execute_result"
    }
   ],
   "source": [
    "#Since we have reduced the frequency, we should get a fractional value when we divide the original deltas by the new deltas\n",
    "orig_deltas[0] / new_deltas[0]"
   ]
  },
  {
   "cell_type": "code",
   "execution_count": 20,
   "id": "7c565c25-da69-47cd-9938-1f5f7aa23c00",
   "metadata": {},
   "outputs": [],
   "source": [
    "df['#timestamp [ns]'] = df['#timestamp [ns]'].apply(lambda x: f\"{x:.0f}\")"
   ]
  },
  {
   "cell_type": "code",
   "execution_count": 21,
   "id": "b7831333-4e97-400a-9fab-d42bbcf3f152",
   "metadata": {},
   "outputs": [
    {
     "data": {
      "text/html": [
       "<div>\n",
       "<style scoped>\n",
       "    .dataframe tbody tr th:only-of-type {\n",
       "        vertical-align: middle;\n",
       "    }\n",
       "\n",
       "    .dataframe tbody tr th {\n",
       "        vertical-align: top;\n",
       "    }\n",
       "\n",
       "    .dataframe thead th {\n",
       "        text-align: right;\n",
       "    }\n",
       "</style>\n",
       "<table border=\"1\" class=\"dataframe\">\n",
       "  <thead>\n",
       "    <tr style=\"text-align: right;\">\n",
       "      <th></th>\n",
       "      <th>#timestamp [ns]</th>\n",
       "      <th>filename</th>\n",
       "    </tr>\n",
       "  </thead>\n",
       "  <tbody>\n",
       "    <tr>\n",
       "      <th>0</th>\n",
       "      <td>1413393212255760384</td>\n",
       "      <td>1413393212255760384.png</td>\n",
       "    </tr>\n",
       "    <tr>\n",
       "      <th>2</th>\n",
       "      <td>1413393212355760384</td>\n",
       "      <td>1413393212355760384.png</td>\n",
       "    </tr>\n",
       "    <tr>\n",
       "      <th>4</th>\n",
       "      <td>1413393212455760384</td>\n",
       "      <td>1413393212455760384.png</td>\n",
       "    </tr>\n",
       "    <tr>\n",
       "      <th>6</th>\n",
       "      <td>1413393212555760384</td>\n",
       "      <td>1413393212555760384.png</td>\n",
       "    </tr>\n",
       "    <tr>\n",
       "      <th>8</th>\n",
       "      <td>1413393212655760384</td>\n",
       "      <td>1413393212655760384.png</td>\n",
       "    </tr>\n",
       "    <tr>\n",
       "      <th>10</th>\n",
       "      <td>1413393212755760384</td>\n",
       "      <td>1413393212755760384.png</td>\n",
       "    </tr>\n",
       "    <tr>\n",
       "      <th>12</th>\n",
       "      <td>1413393212855760384</td>\n",
       "      <td>1413393212855760384.png</td>\n",
       "    </tr>\n",
       "    <tr>\n",
       "      <th>14</th>\n",
       "      <td>1413393212955760384</td>\n",
       "      <td>1413393212955760384.png</td>\n",
       "    </tr>\n",
       "    <tr>\n",
       "      <th>16</th>\n",
       "      <td>1413393213055760384</td>\n",
       "      <td>1413393213055760384.png</td>\n",
       "    </tr>\n",
       "    <tr>\n",
       "      <th>18</th>\n",
       "      <td>1413393213155760384</td>\n",
       "      <td>1413393213155760384.png</td>\n",
       "    </tr>\n",
       "  </tbody>\n",
       "</table>\n",
       "</div>"
      ],
      "text/plain": [
       "        #timestamp [ns]                 filename\n",
       "0   1413393212255760384  1413393212255760384.png\n",
       "2   1413393212355760384  1413393212355760384.png\n",
       "4   1413393212455760384  1413393212455760384.png\n",
       "6   1413393212555760384  1413393212555760384.png\n",
       "8   1413393212655760384  1413393212655760384.png\n",
       "10  1413393212755760384  1413393212755760384.png\n",
       "12  1413393212855760384  1413393212855760384.png\n",
       "14  1413393212955760384  1413393212955760384.png\n",
       "16  1413393213055760384  1413393213055760384.png\n",
       "18  1413393213155760384  1413393213155760384.png"
      ]
     },
     "execution_count": 21,
     "metadata": {},
     "output_type": "execute_result"
    }
   ],
   "source": [
    "df.head(10)"
   ]
  },
  {
   "cell_type": "code",
   "execution_count": 126,
   "id": "8d1ed96d-8afd-4c13-afb8-b67a1a08e92e",
   "metadata": {},
   "outputs": [],
   "source": [
    "df.to_csv(f'./mav0/{camera_type}/data_modified.csv', index=False)"
   ]
  },
  {
   "cell_type": "code",
   "execution_count": 127,
   "id": "95e72166-8040-4afd-9cdc-2e339017cd5b",
   "metadata": {},
   "outputs": [],
   "source": [
    "!cp ./mav0/$camera_type/data_modified.csv /home/shiva/Datasets/V2_01_easy/V2_01_easy/mav0/$camera_type/data.csv"
   ]
  },
  {
   "cell_type": "code",
   "execution_count": null,
   "id": "aa877682-b9a9-4305-bc06-2a8dfc494e0a",
   "metadata": {},
   "outputs": [],
   "source": []
  },
  {
   "cell_type": "code",
   "execution_count": null,
   "id": "62785e4f-7da2-4f7a-ac68-2fe35bb2e19d",
   "metadata": {},
   "outputs": [],
   "source": []
  }
 ],
 "metadata": {
  "kernelspec": {
   "display_name": "Python 3 (ipykernel)",
   "language": "python",
   "name": "python3"
  },
  "language_info": {
   "codemirror_mode": {
    "name": "ipython",
    "version": 3
   },
   "file_extension": ".py",
   "mimetype": "text/x-python",
   "name": "python",
   "nbconvert_exporter": "python",
   "pygments_lexer": "ipython3",
   "version": "3.10.12"
  }
 },
 "nbformat": 4,
 "nbformat_minor": 5
}
