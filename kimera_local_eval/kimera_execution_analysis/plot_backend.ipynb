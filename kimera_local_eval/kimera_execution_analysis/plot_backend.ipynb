{
 "cells": [
  {
   "cell_type": "markdown",
   "id": "a6ac3eb6",
   "metadata": {},
   "source": [
    "# Plot Backend\n",
    "\n",
    "Plots the APE, RPE and trajectory against ground truth for the final backend output trajectory."
   ]
  },
  {
   "cell_type": "code",
   "execution_count": 3,
   "id": "cdbfb3e3",
   "metadata": {},
   "outputs": [],
   "source": [
    "import yaml\n",
    "import os\n",
    "import copy\n",
    "import pandas as pd\n",
    "import numpy as np\n",
    "from scipy.spatial.transform import Rotation as R\n",
    "\n",
    "import logging\n",
    "\n",
    "log = logging.getLogger(__name__)\n",
    "log.setLevel(logging.INFO)\n",
    "if not log.handlers:\n",
    "    ch = logging.StreamHandler()\n",
    "    ch.setLevel(logging.INFO)\n",
    "    ch.setFormatter(logging.Formatter(\"%(levelname)s - %(message)s\"))\n",
    "    log.addHandler(ch)\n",
    "\n",
    "from evo.tools import file_interface\n",
    "from evo.tools import plot\n",
    "from evo.tools import pandas_bridge\n",
    "\n",
    "from evo.core import sync\n",
    "from evo.core import trajectory\n",
    "from evo.core import metrics\n",
    "from evo.core import transformations\n",
    "from evo.core import lie_algebra as lie\n",
    "\n",
    "# from evaluation.evaluation_lib import (\n",
    "#     get_ape_trans,\n",
    "#     get_ape_rot,\n",
    "#     get_rpe_trans,\n",
    "#     get_rpe_rot,\n",
    "#     plot_metric,\n",
    "#     plot_traj_colormap_ape,\n",
    "#     plot_traj_colormap_rpe,\n",
    "#     convert_abs_traj_to_rel_traj,\n",
    "#     convert_rel_traj_to_abs_traj,\n",
    "# )\n",
    "\n",
    "#%matplotlib inline\n",
    "#%matplotlib widget\n",
    "%matplotlib notebook\n",
    "import matplotlib.pyplot as plt\n",
    "from matplotlib.collections import LineCollection\n",
    "import mpl_toolkits.mplot3d.art3d as art3d\n",
    "\n",
    "# from evaluation.tools import website_utils as web"
   ]
  },
  {
   "cell_type": "markdown",
   "id": "495c95e4",
   "metadata": {},
   "source": [
    "## Data Locations\n",
    "\n",
    "Make sure to set the following paths.\n",
    "\n",
    "`vio_output_dir` is the path to the directory containing `output_*.csv` files obtained from logging a run of SparkVio.\n",
    "\n",
    "`gt_data_file` is the absolute path to the `csv` file containing ground truth data for the absolute pose at each timestamp of the dataset."
   ]
  },
  {
   "cell_type": "code",
   "execution_count": null,
   "id": "1d231082",
   "metadata": {},
   "outputs": [],
   "source": [
    "# Define directory to VIO output csv files as well as ground truth absolute poses.\n",
    "vio_output_dir = \"\"\n",
    "gt_data_file = vio_output_dir + \"traj_gt.csv\""
   ]
  },
  {
   "cell_type": "code",
   "execution_count": null,
   "id": "de6ca73c",
   "metadata": {},
   "outputs": [],
   "source": [
    "def rename_pim_df(df):\n",
    "    \"\"\"\n",
    "    Renames a DataFrame built from a PIM measurements csv file to be converted to a trajectory.\n",
    "\n",
    "    This is an 'inplace' argument and returns nothing.\n",
    "\n",
    "    Args:\n",
    "        df: A pandas.DataFrame object.\n",
    "    \"\"\"\n",
    "    df.index.names = [\"timestamp\"]\n",
    "    df.rename(columns={\"tx\": \"x\", \"ty\": \"y\", \"tz\": \"z\"}, inplace=True)\n",
    "\n",
    "\n",
    "# show coordinate axes\n",
    "def colored_line_collection(\n",
    "    xyz, colors, plot_mode=plot.PlotMode.xy, linestyles=\"solid\", step=2, alpha=1.0\n",
    "):\n",
    "    if len(xyz) / step != len(colors):\n",
    "        raise PlotException(\n",
    "            \"color values don't have correct length: %d vs. %d\"\n",
    "            % (len(xyz) / step, len(colors))\n",
    "        )\n",
    "    x_idx, y_idx, z_idx = plot.plot_mode_to_idx(plot_mode)\n",
    "    xs = [[x_1, x_2] for x_1, x_2 in zip(xyz[:-1:step, x_idx], xyz[1::step, x_idx])]\n",
    "    ys = [[x_1, x_2] for x_1, x_2 in zip(xyz[:-1:step, y_idx], xyz[1::step, y_idx])]\n",
    "    if plot_mode == plot.PlotMode.xyz:\n",
    "        zs = [[x_1, x_2] for x_1, x_2 in zip(xyz[:-1:step, z_idx], xyz[1::step, z_idx])]\n",
    "        segs = [list(zip(x, y, z)) for x, y, z in zip(xs, ys, zs)]\n",
    "        line_collection = art3d.Line3DCollection(\n",
    "            segs, colors=colors, alpha=alpha, linestyles=linestyles\n",
    "        )\n",
    "    else:\n",
    "        segs = [list(zip(x, y)) for x, y in zip(xs, ys)]\n",
    "        line_collection = LineCollection(\n",
    "            segs, colors=colors, alpha=alpha, linestyle=linestyles\n",
    "        )\n",
    "    return line_collection\n",
    "\n",
    "\n",
    "def draw_coordinate_axes(\n",
    "    ax,\n",
    "    traj,\n",
    "    plot_mode,\n",
    "    downsample_ratio=20,\n",
    "    marker_scale=1,\n",
    "    x_color=\"r\",\n",
    "    y_color=\"g\",\n",
    "    z_color=\"b\",\n",
    "):\n",
    "    \"\"\"\n",
    "    Draws a coordinate frame axis for each pose of a trajectory.\n",
    "    :param ax: plot axis\n",
    "    :param traj: trajectory.PosePath3D or trajectory.PoseTrajectory3D object\n",
    "    :param plot_mode: PlotMode value\n",
    "    :param marker_scale: affects the size of the marker (1. * marker_scale)\n",
    "    :param x_color: color of the x-axis\n",
    "    :param y_color: color of the y-axis\n",
    "    :param z_color: color of the z-axis\n",
    "    \"\"\"\n",
    "    if marker_scale <= 0:\n",
    "        return\n",
    "\n",
    "    unit_x = np.array([1 * marker_scale, 0, 0, 1])\n",
    "    unit_y = np.array([0, 1 * marker_scale, 0, 1])\n",
    "    unit_z = np.array([0, 0, 1 * marker_scale, 1])\n",
    "\n",
    "    # Transform start/end vertices of each axis to global frame.\n",
    "    x_vertices = np.array(\n",
    "        [[p[:3, 3], p.dot(unit_x)[:3]] for p in traj.poses_se3[::downsample_ratio]]\n",
    "    )\n",
    "    y_vertices = np.array(\n",
    "        [[p[:3, 3], p.dot(unit_y)[:3]] for p in traj.poses_se3[::downsample_ratio]]\n",
    "    )\n",
    "    z_vertices = np.array(\n",
    "        [[p[:3, 3], p.dot(unit_z)[:3]] for p in traj.poses_se3[::downsample_ratio]]\n",
    "    )\n",
    "\n",
    "    n = len(traj.poses_se3[::downsample_ratio])\n",
    "    # Concatenate all line segment vertices in order x, y, z.\n",
    "    vertices = np.concatenate((x_vertices, y_vertices, z_vertices)).reshape(\n",
    "        (n * 2 * 3, 3)\n",
    "    )\n",
    "    # Concatenate all colors per line segment in order x, y, z.\n",
    "    colors = np.array(n * [x_color] + n * [y_color] + n * [z_color])\n",
    "\n",
    "    markers = colored_line_collection(vertices, colors, plot_mode, step=2)\n",
    "    ax.add_collection(markers)\n",
    "\n",
    "\n",
    "def draw_start_and_end(ax, traj, plot_mode):\n",
    "    \"\"\"Draw start and end points of the trajectory.\"\"\"\n",
    "    start_pose = traj.poses_se3[0]\n",
    "    end_pose = traj.poses_se3[-1]\n",
    "    if plot_mode == plot.PlotMode.xy:\n",
    "        ax.plot(start_pose[0, 3], start_pose[1, 3], \"bo\")\n",
    "        ax.plot(end_pose[0, 3], end_pose[1, 3], \"rx\")"
   ]
  },
  {
   "cell_type": "markdown",
   "id": "2cfb2af2",
   "metadata": {},
   "source": [
    "## Backend Trajectory\n",
    "\n",
    "Associate, align and process the trajectory as determined by the backend. Note that this does not include loop closure factors or other optimizations. This is pure VIO."
   ]
  },
  {
   "cell_type": "code",
   "execution_count": null,
   "id": "48abac7d",
   "metadata": {},
   "outputs": [],
   "source": [
    "# Load ground truth and estimated data as csv DataFrames.\n",
    "gt_df = pd.read_csv(gt_data_file, sep=\",\", index_col=0)\n",
    "\n",
    "output_poses_filename = os.path.join(os.path.expandvars(vio_output_dir), \"traj_vio.csv\")\n",
    "output_poses_df = pd.read_csv(output_poses_filename, sep=\",\", index_col=0)"
   ]
  },
  {
   "cell_type": "code",
   "execution_count": null,
   "id": "695cc665",
   "metadata": {},
   "outputs": [],
   "source": [
    "gt_df = gt_df[~gt_df.index.duplicated()]"
   ]
  },
  {
   "cell_type": "code",
   "execution_count": null,
   "id": "3baadc04",
   "metadata": {},
   "outputs": [],
   "source": [
    "# Convert the gt relative-pose DataFrame to a trajectory object.\n",
    "traj_ref_complete = pandas_bridge.df_to_trajectory(gt_df)\n",
    "\n",
    "# Use the backend poses as trajectory.\n",
    "traj_est_unaligned = pandas_bridge.df_to_trajectory(output_poses_df)\n",
    "discard_n_start_poses = 0\n",
    "discard_n_end_poses = 0\n",
    "\n",
    "# Associate the data.\n",
    "traj_est = copy.deepcopy(traj_est_unaligned)\n",
    "traj_ref, traj_est = sync.associate_trajectories(traj_ref_complete, traj_est)\n",
    "traj_est = trajectory.align_trajectory(\n",
    "    traj_est,\n",
    "    traj_ref,\n",
    "    correct_scale=False,\n",
    "    discard_n_start_poses=int(discard_n_start_poses),\n",
    "    discard_n_end_poses=int(discard_n_end_poses),\n",
    ")\n",
    "\n",
    "print(\"traj_ref: \", traj_ref)\n",
    "print(\"traj_est: \", traj_est)"
   ]
  },
  {
   "cell_type": "code",
   "execution_count": null,
   "id": "3545d5ae",
   "metadata": {},
   "outputs": [],
   "source": [
    "# plot ground truth trajectory with pose\n",
    "plot_mode = plot.PlotMode.xy\n",
    "fig = plt.figure()\n",
    "ax = plot.prepare_axis(fig, plot_mode)\n",
    "draw_coordinate_axes(\n",
    "    ax, traj_ref_complete, marker_scale=2, downsample_ratio=20, plot_mode=plot_mode\n",
    ")\n",
    "draw_start_and_end(ax, traj_ref_complete, plot_mode)\n",
    "plot.traj(ax, plot_mode, traj_ref_complete, \"--\", \"gray\", \"reference\")\n",
    "plt.title(\"Reference trajectory with pose\")\n",
    "plt.show()\n",
    "\n",
    "# plot unaligned trajectory with pose\n",
    "plot_mode = plot.PlotMode.xy\n",
    "fig = plt.figure()\n",
    "ax = plot.prepare_axis(fig, plot_mode)\n",
    "draw_coordinate_axes(ax, traj_est_unaligned, marker_scale=0.3, plot_mode=plot_mode)\n",
    "draw_start_and_end(ax, traj_est_unaligned, plot_mode)\n",
    "plot.traj(ax, plot_mode, traj_est_unaligned, \"--\", \"gray\", \"reference\")\n",
    "plt.title(\"Estimated trajectory with pose\")\n",
    "plt.show()"
   ]
  },
  {
   "cell_type": "code",
   "execution_count": null,
   "id": "cc9076e3",
   "metadata": {},
   "outputs": [],
   "source": [
    "plot_mode = plot.PlotMode.xyz\n",
    "fig = plt.figure()\n",
    "ax = plot.prepare_axis(fig, plot_mode)\n",
    "\n",
    "gt_df_downsampled = gt_df.iloc[:1200:100]\n",
    "\n",
    "\n",
    "# reference trajectory\n",
    "traj_ref_downsampled = pandas_bridge.df_to_trajectory(gt_df_downsampled)\n",
    "draw_coordinate_axes(ax, traj_ref, plot_mode=plot_mode, marker_scale=3)\n",
    "draw_coordinate_axes(ax, traj_est, plot_mode=plot_mode, marker_scale=3)\n",
    "plot.traj(ax, plot_mode, traj_ref, \"--\", \"gray\", \"reference\")\n",
    "plot.traj(ax, plot_mode, traj_est, \"--\", \"green\", \"estimate (aligned)\")\n",
    "\n",
    "plt.title(\"Trajectory with pose\")\n",
    "plt.show()"
   ]
  },
  {
   "cell_type": "markdown",
   "id": "5ed18037",
   "metadata": {},
   "source": [
    "## Absolute-Pose-Error Plotting\n",
    "\n",
    "Plot absolute-pose-error along the entire trajectory. APE gives a good sense of overall VIO performance across the entire trajectory."
   ]
  },
  {
   "cell_type": "markdown",
   "id": "d3fca6af",
   "metadata": {},
   "source": [
    "### Absolute Translation Errors\n",
    "\n",
    "The following two plots show 1) VIO's absolute translation errors (ATE) in meters with respect to time, and 2) estimated trajectory color coded by magnitudes of the ATE."
   ]
  },
  {
   "cell_type": "code",
   "execution_count": null,
   "id": "05fd0c4b",
   "metadata": {},
   "outputs": [],
   "source": [
    "# Plot APE of trajectory rotation and translation parts.\n",
    "num_of_poses = traj_est.num_poses\n",
    "traj_est.reduce_to_ids(\n",
    "    range(int(discard_n_start_poses), int(num_of_poses - discard_n_end_poses), 1)\n",
    ")\n",
    "traj_ref.reduce_to_ids(\n",
    "    range(int(discard_n_start_poses), int(num_of_poses - discard_n_end_poses), 1)\n",
    ")\n",
    "\n",
    "seconds_from_start = [t - traj_est.timestamps[0] for t in traj_est.timestamps]\n",
    "\n",
    "ape_tran = get_ape_trans((traj_ref, traj_est))\n",
    "fig1 = plot_metric(ape_tran, \"VIO ATE in Meters\")\n",
    "plt.show()"
   ]
  },
  {
   "cell_type": "code",
   "execution_count": null,
   "id": "501beffb",
   "metadata": {},
   "outputs": [],
   "source": [
    "# Plot the ground truth and estimated trajectories against each other with APE overlaid.\n",
    "fig = plot_traj_colormap_ape(\n",
    "    ape_tran,\n",
    "    traj_ref,\n",
    "    traj_est,\n",
    "    plot_title=\"VIO Trajectory Tracking - Color Coded by ATE\",\n",
    ")\n",
    "plt.show()"
   ]
  },
  {
   "cell_type": "markdown",
   "id": "907b3068",
   "metadata": {},
   "source": [
    "### Absolute Rotation Errors\n",
    "\n",
    "The following two plots show 1) VIO's absolute rotation errors (ARE) in meters with respect to time, and 2) estimated trajectory color coded by magnitudes of the ARE. Note that the estimated trajectory used here, unlike ATE, is the unaligned, original estimated trajectory."
   ]
  },
  {
   "cell_type": "code",
   "execution_count": null,
   "id": "7269b3cb",
   "metadata": {},
   "outputs": [],
   "source": [
    "# Plot ARE\n",
    "traj_est_unaligned.reduce_to_ids(\n",
    "    range(int(discard_n_start_poses), int(num_of_poses - discard_n_end_poses), 1)\n",
    ")\n",
    "\n",
    "ape_rot = get_ape_rot((traj_ref, traj_est_unaligned))\n",
    "fig2 = plot_metric(ape_rot, \"VIO ARE in Degrees\")\n",
    "plt.show()"
   ]
  },
  {
   "cell_type": "code",
   "execution_count": null,
   "id": "ce873a94",
   "metadata": {},
   "outputs": [],
   "source": [
    "# Plot the ground truth and estimated trajectories against each other with APE overlaid.\n",
    "fig2 = plot_traj_colormap_ape(\n",
    "    ape_rot,\n",
    "    traj_ref,\n",
    "    traj_est_unaligned,\n",
    "    plot_title=\"VIO Trajectory Tracking - Color Coded by ARE\",\n",
    ")\n",
    "plt.show()"
   ]
  },
  {
   "cell_type": "markdown",
   "id": "ed6c089a",
   "metadata": {},
   "source": [
    "## Relative-Pose-Error Plotting\n",
    "\n",
    "Plot relative-pose-error along the entire trajectory. RPE gives a good sense of overall VIO performance from one frame to the next."
   ]
  },
  {
   "cell_type": "code",
   "execution_count": null,
   "id": "0bbf33a1",
   "metadata": {},
   "outputs": [],
   "source": [
    "# Get RPE for entire relative trajectory.\n",
    "rpe_rot = get_rpe_rot((traj_ref, traj_est))\n",
    "rpe_tran = get_rpe_trans((traj_ref, traj_est))"
   ]
  },
  {
   "cell_type": "markdown",
   "id": "68848e09",
   "metadata": {},
   "source": [
    "### Relative Translation Errors"
   ]
  },
  {
   "cell_type": "code",
   "execution_count": null,
   "id": "61ad0ac7",
   "metadata": {},
   "outputs": [],
   "source": [
    "# Plot RPE of trajectory rotation and translation parts.\n",
    "seconds_from_start = [t - traj_est.timestamps[0] for t in traj_est.timestamps[1:]]\n",
    "\n",
    "fig1 = plot_metric(rpe_tran, \"VIO RTE in Meters\")\n",
    "fig2 = plot_traj_colormap_rpe(\n",
    "    rpe_tran,\n",
    "    traj_ref,\n",
    "    traj_est,\n",
    "    plot_title=\"VIO Trajectory Tracking - Color Coded by RTE\",\n",
    ")\n",
    "plt.show()"
   ]
  },
  {
   "cell_type": "markdown",
   "id": "21e9e3df",
   "metadata": {},
   "source": [
    "### Relative Rotation Errors"
   ]
  },
  {
   "cell_type": "code",
   "execution_count": null,
   "id": "974fa3fd",
   "metadata": {},
   "outputs": [],
   "source": [
    "fig1 = plot_metric(rpe_rot, \"VIO RRE in Degrees\")\n",
    "fig2 = plot_traj_colormap_rpe(\n",
    "    rpe_rot,\n",
    "    traj_ref,\n",
    "    traj_est,\n",
    "    plot_title=\"VIO Trajectory Tracking - Color Coded by RRE\",\n",
    ")\n",
    "plt.show()"
   ]
  },
  {
   "cell_type": "code",
   "execution_count": null,
   "id": "2cf94f6c",
   "metadata": {},
   "outputs": [],
   "source": [
    "fig = plot_traj_colormap_rpe(\n",
    "    rpe_rot,\n",
    "    traj_ref,\n",
    "    traj_est,\n",
    "    plot_title=\"VIO Trajectory Tracking - Color Coded by RRE\",\n",
    ")\n",
    "plt.show()"
   ]
  },
  {
   "cell_type": "markdown",
   "id": "a140273f",
   "metadata": {},
   "source": [
    "## Trajectory Plotting\n",
    "\n",
    "Plot the aligned and associated estimated trajectory against ground truth."
   ]
  },
  {
   "cell_type": "code",
   "execution_count": null,
   "id": "ec39664f",
   "metadata": {},
   "outputs": [],
   "source": [
    "# Plot the trajectories for quick error visualization.\n",
    "\n",
    "fig = plt.figure()\n",
    "traj_by_label = {\n",
    "    \"estimate (unaligned)\": traj_est_unaligned,\n",
    "    \"estimate (aligned)\": traj_est,\n",
    "    \"reference\": traj_ref,\n",
    "}\n",
    "plot.trajectories(\n",
    "    fig, traj_by_label, plot.PlotMode.xyz, title=\"PIM Trajectory Tracking in 3D\"\n",
    ")\n",
    "plt.show()"
   ]
  },
  {
   "cell_type": "markdown",
   "id": "35d5324a",
   "metadata": {},
   "source": [
    "## PIM Plotting\n",
    "\n",
    "Plot preintegrated-imu-measurement estimates of current state over time. This comes in as a trajectory. The plots of error serve to help visualize the error in pim values over time.\n",
    "\n",
    "Note that these pim values are built off the backend's estimation, not off of ground truth."
   ]
  },
  {
   "cell_type": "code",
   "execution_count": null,
   "id": "fa5b3da3",
   "metadata": {},
   "outputs": [],
   "source": [
    "pim_filename = os.path.join(\n",
    "    os.path.expandvars(vio_output_dir), \"output_pim_navstates.csv\"\n",
    ")\n",
    "pim_df = pd.read_csv(pim_filename, sep=\",\", index_col=0)\n",
    "rename_pim_df(pim_df)\n",
    "\n",
    "gt_df = pd.read_csv(gt_data_file, sep=\",\", index_col=0)\n",
    "gt_df = gt_df[~gt_df.index.duplicated()]\n",
    "# TODO: Add relative angle comparison plot between IMU and mono RANSAC"
   ]
  },
  {
   "cell_type": "code",
   "execution_count": null,
   "id": "6d7bc1d8",
   "metadata": {},
   "outputs": [],
   "source": [
    "# Convert the gt relative-pose DataFrame to a trajectory object.\n",
    "traj_ref = pandas_bridge.df_to_trajectory(gt_df)\n",
    "\n",
    "# Use the mono ransac file as estimated trajectory.\n",
    "# traj_est_unassociated = file_interface.read_swe_csv_trajectory(ransac_mono_filename)\n",
    "traj_est_unaligned = pandas_bridge.df_to_trajectory(pim_df)\n",
    "\n",
    "# Associate the data.\n",
    "traj_est = copy.deepcopy(traj_est_unaligned)\n",
    "traj_ref, traj_est = sync.associate_trajectories(traj_ref, traj_est)\n",
    "traj_est = trajectory.align_trajectory(traj_est, traj_ref, correct_scale=False)\n",
    "\n",
    "print(\"traj_ref: \", traj_ref)\n",
    "print(\"traj_est: \", traj_est)"
   ]
  },
  {
   "cell_type": "markdown",
   "id": "381758f2",
   "metadata": {},
   "source": [
    "### Relative Angles\n",
    "This plot compares the relative angles between GT and PIM outputs."
   ]
  },
  {
   "cell_type": "code",
   "execution_count": null,
   "id": "2c3b19e0",
   "metadata": {},
   "outputs": [],
   "source": [
    "# Convert to relative traj\n",
    "traj_ref_rel = convert_abs_traj_to_rel_traj(traj_ref, up_to_scale=False)\n",
    "traj_est_rel = convert_abs_traj_to_rel_traj(traj_est, up_to_scale=False)\n",
    "\n",
    "# Plot the PIM angles\n",
    "PIM_angles = []\n",
    "PIM_angles_timestamps = []\n",
    "for i in range(len(traj_est_rel._poses_se3)):\n",
    "    PIM_angles_timestamps.append(traj_est_rel.timestamps[i])\n",
    "    # quaternion to axisangle\n",
    "    rotm = traj_est_rel._poses_se3[i][0:3, 0:3]\n",
    "    r = R.from_dcm(rotm)\n",
    "\n",
    "    rot_vec = r.as_rotvec()\n",
    "    PIM_angles.append(np.linalg.norm(rot_vec))\n",
    "\n",
    "\n",
    "# Plot the GT angles\n",
    "gt_angles = []\n",
    "gt_angles_timestamps = []\n",
    "for i in range(len(traj_ref_rel._poses_se3)):\n",
    "    gt_angles_timestamps.append(traj_ref_rel.timestamps[i])\n",
    "    # rotation matrix to axisangle\n",
    "    rotm = traj_ref_rel._poses_se3[i][0:3, 0:3]\n",
    "    r = R.from_dcm(rotm)\n",
    "\n",
    "    rot_vec = r.as_rotvec()\n",
    "    gt_angles.append(np.linalg.norm(rot_vec))\n",
    "\n",
    "\n",
    "plt.figure()\n",
    "plt.plot(PIM_angles_timestamps, PIM_angles, \"r\", label=\"PIM\")\n",
    "plt.plot(gt_angles_timestamps, gt_angles, \"b\", label=\"GT\")\n",
    "plt.legend(loc=\"upper right\")\n",
    "ax = plt.gca()\n",
    "ax.set_xlabel(\"Timestamps\")\n",
    "ax.set_ylabel(\"Relative Angles [rad]\")\n",
    "\n",
    "plt.show()"
   ]
  },
  {
   "cell_type": "code",
   "execution_count": null,
   "id": "ca3f1726",
   "metadata": {},
   "outputs": [],
   "source": [
    "# Get RPE for entire relative trajectory.\n",
    "rpe_rot = get_rpe_rot((traj_ref, traj_est))\n",
    "rpe_tran = get_rpe_trans((traj_ref, traj_est))"
   ]
  },
  {
   "cell_type": "code",
   "execution_count": null,
   "id": "35126738",
   "metadata": {},
   "outputs": [],
   "source": [
    "# Plot RPE of trajectory rotation and translation parts.\n",
    "seconds_from_start = [t - traj_est.timestamps[0] for t in traj_est.timestamps[1:]]\n",
    "\n",
    "plot_metric(rpe_rot, \"PIM RRE in Degrees\")\n",
    "plot_metric(rpe_tran, \"PIM RTE in Meters\")\n",
    "plt.show()"
   ]
  },
  {
   "cell_type": "code",
   "execution_count": null,
   "id": "d52f2711",
   "metadata": {},
   "outputs": [],
   "source": [
    "fig = plot_traj_colormap_rpe(\n",
    "    rpe_rot,\n",
    "    traj_ref,\n",
    "    traj_est,\n",
    "    plot_title=\"PIM Trajectory Tracking - Color Coded by RRE\",\n",
    ")\n",
    "plt.show()"
   ]
  },
  {
   "cell_type": "markdown",
   "id": "146271f0",
   "metadata": {},
   "source": [
    "# Smart Factors\n",
    "Plot smart factors vs. time"
   ]
  },
  {
   "cell_type": "code",
   "execution_count": null,
   "id": "657486b7",
   "metadata": {},
   "outputs": [],
   "source": [
    "output_sf_filename = os.path.join(\n",
    "    os.path.expandvars(vio_output_dir), \"output_smartFactors.csv\"\n",
    ")\n",
    "output_sf_df = pd.read_csv(output_sf_filename, sep=\",\", index_col=0)\n",
    "fig = plt.figure()\n",
    "plt.plot(output_sf_df.timestamp_kf / 1e9, output_sf_df.numValid)\n",
    "plt.ylabel(\"Valid Smart Factors\")\n",
    "plt.xlabel(\"Timestamps\")\n",
    "plt.show()"
   ]
  },
  {
   "cell_type": "markdown",
   "id": "6d3c4f3b",
   "metadata": {},
   "source": [
    "# Biases\n",
    "Plot biases of gyro and accelerometer"
   ]
  },
  {
   "cell_type": "code",
   "execution_count": null,
   "id": "38f8cfff",
   "metadata": {},
   "outputs": [],
   "source": [
    "fig = plt.figure()\n",
    "plt.plot(output_poses_df.index, output_poses_df.bgx)\n",
    "plt.plot(output_poses_df.index, output_poses_df.bgy)\n",
    "plt.plot(output_poses_df.index, output_poses_df.bgz)\n",
    "plt.ylabel(\"Gyro Biases\")\n",
    "plt.xlabel(\"Timestamps\")\n",
    "plt.legend()\n",
    "plt.show()\n",
    "\n",
    "fig = plt.figure()\n",
    "plt.plot(output_poses_df.index, output_poses_df.bax)\n",
    "plt.plot(output_poses_df.index, output_poses_df.bay)\n",
    "plt.plot(output_poses_df.index, output_poses_df.baz)\n",
    "plt.ylabel(\"Acceleration Biases\")\n",
    "plt.xlabel(\"Timestamps\")\n",
    "plt.legend()\n",
    "plt.show()"
   ]
  },
  {
   "cell_type": "markdown",
   "id": "5f421d58",
   "metadata": {},
   "source": [
    "# External Odometry\n",
    "Plot external odometry trajectory against ground truth."
   ]
  },
  {
   "cell_type": "code",
   "execution_count": null,
   "id": "5ae261b6",
   "metadata": {},
   "outputs": [],
   "source": [
    "gt_df = pd.read_csv(gt_data_file, sep=',', index_col=0)\n",
    "gt_df = gt_df[~gt_df.index.duplicated()]\n",
    "\n",
    "output_external_odom_filename = os.path.join(os.path.expandvars(vio_output_dir),\n",
    "                                             \"output_backend_external_odometry.csv\")\n",
    "output_external_odom_df = pd.read_csv(output_external_odom_filename, sep=',', index_col=0)\n",
    "\n",
    "# Convert the gt relative-pose DataFrame to a trajectory object.\n",
    "traj_ref_complete = pandas_bridge.df_to_trajectory(gt_df)\n",
    "\n",
    "# Use the backend poses as trajectory.\n",
    "traj_est_unaligned_rel = pandas_bridge.df_to_trajectory(output_external_odom_df)\n",
    "\n",
    "# Convert to absolute trajectory by concatenating all between poses\n",
    "traj_est_unaligned = convert_rel_traj_to_abs_traj(traj_est_unaligned_rel)\n",
    "discard_n_start_poses = 0\n",
    "discard_n_end_poses = 0\n",
    "\n",
    "# Associate the data.\n",
    "traj_est = copy.deepcopy(traj_est_unaligned)\n",
    "traj_ref, traj_est = sync.associate_trajectories(traj_ref_complete, traj_est)\n",
    "traj_est = trajectory.align_trajectory(traj_est, traj_ref, correct_scale=False,\n",
    "                                       discard_n_start_poses = int(discard_n_start_poses),\n",
    "                                       discard_n_end_poses = int(discard_n_end_poses))\n",
    "\n",
    "print(\"traj_ref: \", traj_ref)\n",
    "print(\"traj_est: \", traj_est)"
   ]
  },
  {
   "cell_type": "code",
   "execution_count": null,
   "id": "77ebe231",
   "metadata": {},
   "outputs": [],
   "source": [
    "# plot ground truth trajectory with pose\n",
    "plot_mode = plot.PlotMode.xy\n",
    "fig = plt.figure()\n",
    "ax = plot.prepare_axis(fig, plot_mode)\n",
    "draw_coordinate_axes(ax, traj_ref_complete, marker_scale=2, downsample_ratio=20, plot_mode=plot_mode)\n",
    "draw_start_and_end(ax, traj_ref_complete, plot_mode)\n",
    "plot.traj(ax, plot_mode, traj_ref_complete, '--', \"gray\", \"reference\")\n",
    "plt.title('Reference trajectory with pose')\n",
    "plt.show()\n",
    "\n",
    "# plot unaligned trajectory with pose\n",
    "plot_mode = plot.PlotMode.xy\n",
    "fig = plt.figure()\n",
    "ax = plot.prepare_axis(fig, plot_mode)\n",
    "draw_coordinate_axes(ax, traj_est_unaligned, marker_scale=0.3, plot_mode=plot_mode)\n",
    "draw_start_and_end(ax, traj_est_unaligned, plot_mode)\n",
    "plot.traj(ax, plot_mode, traj_est_unaligned, '--', \"gray\", \"reference\")\n",
    "plt.title('External odometry estimated trajectory with pose')\n",
    "plt.show()\n",
    "\n",
    "plot_mode = plot.PlotMode.xyz\n",
    "fig = plt.figure()\n",
    "ax = plot.prepare_axis(fig, plot_mode)\n",
    "\n",
    "gt_df_downsampled = gt_df.iloc[:1200:100]\n",
    "\n",
    "# reference trajectory\n",
    "traj_ref_downsampled = pandas_bridge.df_to_trajectory(gt_df_downsampled)\n",
    "draw_coordinate_axes(ax, traj_ref, plot_mode=plot_mode,marker_scale=3)\n",
    "draw_coordinate_axes(ax, traj_est, plot_mode=plot_mode,marker_scale=3)\n",
    "plot.traj(ax, plot_mode, traj_ref, '--', \"gray\", \"reference\")\n",
    "plot.traj(ax, plot_mode, traj_est, '--', \"green\", \"estimate (aligned)\")\n",
    "\n",
    "plt.title('Trajectory with pose')\n",
    "plt.show()"
   ]
  },
  {
   "cell_type": "code",
   "execution_count": null,
   "id": "9a063f71",
   "metadata": {},
   "outputs": [],
   "source": [
    "# Plot APE of trajectory rotation and translation parts.\n",
    "num_of_poses = traj_est.num_poses\n",
    "traj_est.reduce_to_ids(range(int(discard_n_start_poses), int(num_of_poses - discard_n_end_poses), 1))\n",
    "traj_ref.reduce_to_ids(range(int(discard_n_start_poses), int(num_of_poses - discard_n_end_poses), 1))\n",
    "\n",
    "seconds_from_start = [t - traj_est.timestamps[0] for t in traj_est.timestamps]\n",
    "\n",
    "ape_tran = get_ape_trans((traj_ref, traj_est))\n",
    "fig1 = plot_metric(ape_tran, \"External Odometry ATE in Meters\")\n",
    "plt.show()\n",
    "\n",
    "# Plot the ground truth and estimated trajectories against each other with APE overlaid.\n",
    "fig2 = plot_traj_colormap_ape(ape_tran, traj_ref, traj_est,\n",
    "                              plot_title=\"External Odometry Trajectory Tracking - Color Coded by ATE\")\n",
    "plt.show()\n",
    "\n",
    "# Plot ARE\n",
    "\n",
    "ape_rot = get_ape_rot((traj_ref, traj_est))\n",
    "fig3 = plot_metric(ape_rot, \"External Odometry ARE in Degrees\")\n",
    "plt.show()\n",
    "\n",
    "# Plot the ground truth and estimated trajectories against each other with APE overlaid.\n",
    "fig4 = plot_traj_colormap_ape(ape_rot, traj_ref, traj_est,\n",
    "                             plot_title=\"External Odometry Trajectory Tracking - Color Coded by ARE\")\n",
    "plt.show()"
   ]
  },
  {
   "cell_type": "markdown",
   "id": "5f54bc7b",
   "metadata": {},
   "source": [
    "# Website Builder"
   ]
  },
  {
   "cell_type": "code",
   "execution_count": null,
   "id": "e4b3414c",
   "metadata": {},
   "outputs": [],
   "source": [
    "from jinja2 import Environment, PackageLoader, select_autoescape\n",
    "\n",
    "jinja_env = Environment(\n",
    "    loader=PackageLoader(\"website\", \"templates\"),\n",
    "    autoescape=select_autoescape([\"html\", \"xml\"]),\n",
    ")"
   ]
  },
  {
   "cell_type": "code",
   "execution_count": null,
   "id": "057e889b",
   "metadata": {},
   "outputs": [],
   "source": [
    "raw_output_web = web.RawOutputWebsiteBuilder(jinja_env, \".\", \"traj_vio.csv\")"
   ]
  },
  {
   "cell_type": "code",
   "execution_count": null,
   "id": "f3c3337a",
   "metadata": {},
   "outputs": [],
   "source": [
    "raw_output_web.add_dataset_to_website(\"RealSense\", vio_output_dir)"
   ]
  },
  {
   "cell_type": "code",
   "execution_count": null,
   "id": "d89fe8b3",
   "metadata": {},
   "outputs": [],
   "source": [
    "raw_output_web.write_datasets_website()"
   ]
  }
 ],
 "metadata": {
  "jupytext": {
   "formats": "ipynb,py:percent"
  },
  "kernelspec": {
   "display_name": "Python 3 (ipykernel)",
   "language": "python",
   "name": "python3"
  },
  "language_info": {
   "codemirror_mode": {
    "name": "ipython",
    "version": 3
   },
   "file_extension": ".py",
   "mimetype": "text/x-python",
   "name": "python",
   "nbconvert_exporter": "python",
   "pygments_lexer": "ipython3",
   "version": "3.10.12"
  }
 },
 "nbformat": 4,
 "nbformat_minor": 5
}
