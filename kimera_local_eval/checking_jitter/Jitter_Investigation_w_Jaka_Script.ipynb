{
 "cells": [
  {
   "cell_type": "code",
   "execution_count": 93,
   "id": "8e3461b7-e4bb-4b49-8166-c4095e00c92e",
   "metadata": {},
   "outputs": [],
   "source": [
    "import pandas as pd\n",
    "import matplotlib.pyplot as plt\n",
    "\n",
    "import seaborn as sns"
   ]
  },
  {
   "cell_type": "code",
   "execution_count": 94,
   "id": "ea74c8eb-0c6e-480b-a5c2-d3b7176974c5",
   "metadata": {},
   "outputs": [],
   "source": [
    "base_dir = '/home/shiva/GitRepos/indoor_drone_experimentation/kimera_local_eval/checking_jitter/'\n",
    "location_to_delta_file = base_dir + 'jaka_script_imu.csv'"
   ]
  },
  {
   "cell_type": "code",
   "execution_count": 95,
   "id": "d4611d54-c31a-460b-b7b8-44580173be37",
   "metadata": {},
   "outputs": [],
   "source": [
    "df = pd.read_csv(location_to_delta_file)"
   ]
  },
  {
   "cell_type": "code",
   "execution_count": 96,
   "id": "b89fee43-3bfd-42b0-ae5d-3ad5c0e98060",
   "metadata": {},
   "outputs": [
    {
     "data": {
      "text/html": [
       "<div>\n",
       "<style scoped>\n",
       "    .dataframe tbody tr th:only-of-type {\n",
       "        vertical-align: middle;\n",
       "    }\n",
       "\n",
       "    .dataframe tbody tr th {\n",
       "        vertical-align: top;\n",
       "    }\n",
       "\n",
       "    .dataframe thead th {\n",
       "        text-align: right;\n",
       "    }\n",
       "</style>\n",
       "<table border=\"1\" class=\"dataframe\">\n",
       "  <thead>\n",
       "    <tr style=\"text-align: right;\">\n",
       "      <th></th>\n",
       "      <th>Unnamed: 0</th>\n",
       "      <th>time_deltas_ms</th>\n",
       "      <th>mean_delta</th>\n",
       "      <th>std_delta</th>\n",
       "    </tr>\n",
       "  </thead>\n",
       "  <tbody>\n",
       "    <tr>\n",
       "      <th>0</th>\n",
       "      <td>0</td>\n",
       "      <td>3873.000001</td>\n",
       "      <td>3901.7615</td>\n",
       "      <td>214.791376</td>\n",
       "    </tr>\n",
       "    <tr>\n",
       "      <th>1</th>\n",
       "      <td>1</td>\n",
       "      <td>3701.000001</td>\n",
       "      <td>3901.7615</td>\n",
       "      <td>214.791376</td>\n",
       "    </tr>\n",
       "    <tr>\n",
       "      <th>2</th>\n",
       "      <td>2</td>\n",
       "      <td>4108.000001</td>\n",
       "      <td>3901.7615</td>\n",
       "      <td>214.791376</td>\n",
       "    </tr>\n",
       "    <tr>\n",
       "      <th>3</th>\n",
       "      <td>3</td>\n",
       "      <td>3705.999996</td>\n",
       "      <td>3901.7615</td>\n",
       "      <td>214.791376</td>\n",
       "    </tr>\n",
       "    <tr>\n",
       "      <th>4</th>\n",
       "      <td>4</td>\n",
       "      <td>4110.000002</td>\n",
       "      <td>3901.7615</td>\n",
       "      <td>214.791376</td>\n",
       "    </tr>\n",
       "    <tr>\n",
       "      <th>5</th>\n",
       "      <td>5</td>\n",
       "      <td>3679.000001</td>\n",
       "      <td>3901.7615</td>\n",
       "      <td>214.791376</td>\n",
       "    </tr>\n",
       "    <tr>\n",
       "      <th>6</th>\n",
       "      <td>6</td>\n",
       "      <td>4099.999998</td>\n",
       "      <td>3901.7615</td>\n",
       "      <td>214.791376</td>\n",
       "    </tr>\n",
       "    <tr>\n",
       "      <th>7</th>\n",
       "      <td>7</td>\n",
       "      <td>3706.000003</td>\n",
       "      <td>3901.7615</td>\n",
       "      <td>214.791376</td>\n",
       "    </tr>\n",
       "    <tr>\n",
       "      <th>8</th>\n",
       "      <td>8</td>\n",
       "      <td>4109.999994</td>\n",
       "      <td>3901.7615</td>\n",
       "      <td>214.791376</td>\n",
       "    </tr>\n",
       "    <tr>\n",
       "      <th>9</th>\n",
       "      <td>9</td>\n",
       "      <td>3706.000003</td>\n",
       "      <td>3901.7615</td>\n",
       "      <td>214.791376</td>\n",
       "    </tr>\n",
       "  </tbody>\n",
       "</table>\n",
       "</div>"
      ],
      "text/plain": [
       "   Unnamed: 0  time_deltas_ms  mean_delta   std_delta\n",
       "0           0     3873.000001   3901.7615  214.791376\n",
       "1           1     3701.000001   3901.7615  214.791376\n",
       "2           2     4108.000001   3901.7615  214.791376\n",
       "3           3     3705.999996   3901.7615  214.791376\n",
       "4           4     4110.000002   3901.7615  214.791376\n",
       "5           5     3679.000001   3901.7615  214.791376\n",
       "6           6     4099.999998   3901.7615  214.791376\n",
       "7           7     3706.000003   3901.7615  214.791376\n",
       "8           8     4109.999994   3901.7615  214.791376\n",
       "9           9     3706.000003   3901.7615  214.791376"
      ]
     },
     "execution_count": 96,
     "metadata": {},
     "output_type": "execute_result"
    }
   ],
   "source": [
    "df.head(10)"
   ]
  },
  {
   "cell_type": "code",
   "execution_count": 97,
   "id": "08f3f903-1717-48d6-9ccb-f61680e36e71",
   "metadata": {},
   "outputs": [
    {
     "name": "stdout",
     "output_type": "stream",
     "text": [
      "<class 'pandas.core.frame.DataFrame'>\n",
      "RangeIndex: 10000 entries, 0 to 9999\n",
      "Data columns (total 4 columns):\n",
      " #   Column          Non-Null Count  Dtype  \n",
      "---  ------          --------------  -----  \n",
      " 0   Unnamed: 0      10000 non-null  int64  \n",
      " 1   time_deltas_ms  10000 non-null  float64\n",
      " 2   mean_delta      10000 non-null  float64\n",
      " 3   std_delta       10000 non-null  float64\n",
      "dtypes: float64(3), int64(1)\n",
      "memory usage: 312.6 KB\n"
     ]
    }
   ],
   "source": [
    "df.info(verbose=True)"
   ]
  },
  {
   "cell_type": "code",
   "execution_count": 98,
   "id": "58f9139e-19a0-41ab-ba68-4a94482bf6f2",
   "metadata": {},
   "outputs": [
    {
     "data": {
      "text/html": [
       "<div>\n",
       "<style scoped>\n",
       "    .dataframe tbody tr th:only-of-type {\n",
       "        vertical-align: middle;\n",
       "    }\n",
       "\n",
       "    .dataframe tbody tr th {\n",
       "        vertical-align: top;\n",
       "    }\n",
       "\n",
       "    .dataframe thead th {\n",
       "        text-align: right;\n",
       "    }\n",
       "</style>\n",
       "<table border=\"1\" class=\"dataframe\">\n",
       "  <thead>\n",
       "    <tr style=\"text-align: right;\">\n",
       "      <th></th>\n",
       "      <th>Unnamed: 0</th>\n",
       "      <th>time_deltas_ms</th>\n",
       "      <th>mean_delta</th>\n",
       "      <th>std_delta</th>\n",
       "    </tr>\n",
       "  </thead>\n",
       "  <tbody>\n",
       "    <tr>\n",
       "      <th>2943</th>\n",
       "      <td>2943</td>\n",
       "      <td>7604.999999</td>\n",
       "      <td>3901.7615</td>\n",
       "      <td>214.791376</td>\n",
       "    </tr>\n",
       "    <tr>\n",
       "      <th>3237</th>\n",
       "      <td>3237</td>\n",
       "      <td>7619.999997</td>\n",
       "      <td>3901.7615</td>\n",
       "      <td>214.791376</td>\n",
       "    </tr>\n",
       "    <tr>\n",
       "      <th>6185</th>\n",
       "      <td>6185</td>\n",
       "      <td>7580.999998</td>\n",
       "      <td>3901.7615</td>\n",
       "      <td>214.791376</td>\n",
       "    </tr>\n",
       "    <tr>\n",
       "      <th>6479</th>\n",
       "      <td>6479</td>\n",
       "      <td>7612.000001</td>\n",
       "      <td>3901.7615</td>\n",
       "      <td>214.791376</td>\n",
       "    </tr>\n",
       "    <tr>\n",
       "      <th>9722</th>\n",
       "      <td>9722</td>\n",
       "      <td>7587.999993</td>\n",
       "      <td>3901.7615</td>\n",
       "      <td>214.791376</td>\n",
       "    </tr>\n",
       "  </tbody>\n",
       "</table>\n",
       "</div>"
      ],
      "text/plain": [
       "      Unnamed: 0  time_deltas_ms  mean_delta   std_delta\n",
       "2943        2943     7604.999999   3901.7615  214.791376\n",
       "3237        3237     7619.999997   3901.7615  214.791376\n",
       "6185        6185     7580.999998   3901.7615  214.791376\n",
       "6479        6479     7612.000001   3901.7615  214.791376\n",
       "9722        9722     7587.999993   3901.7615  214.791376"
      ]
     },
     "execution_count": 98,
     "metadata": {},
     "output_type": "execute_result"
    }
   ],
   "source": [
    "df[df['time_deltas_ms'] > 6000.0]"
   ]
  },
  {
   "cell_type": "code",
   "execution_count": 99,
   "id": "54c8b5f5-0c44-439b-8076-20be652f3896",
   "metadata": {},
   "outputs": [
    {
     "data": {
      "text/plain": [
       "count    10000.000000\n",
       "mean      3901.761500\n",
       "std        214.802116\n",
       "min       3346.000005\n",
       "25%       3706.000003\n",
       "50%       3904.999998\n",
       "75%       4104.000000\n",
       "max       7619.999997\n",
       "Name: time_deltas_ms, dtype: float64"
      ]
     },
     "execution_count": 99,
     "metadata": {},
     "output_type": "execute_result"
    }
   ],
   "source": [
    "df['time_deltas_ms'].describe()"
   ]
  },
  {
   "cell_type": "code",
   "execution_count": 100,
   "id": "363721de-8530-4a9a-aa37-1a7c477e5c7e",
   "metadata": {},
   "outputs": [],
   "source": [
    "time_deltas_ms = df['time_deltas_ms'].values\n",
    "mean_delta = df['mean_delta'].values\n",
    "stf_delta = df['std_delta'].values"
   ]
  },
  {
   "cell_type": "code",
   "execution_count": 101,
   "id": "365a98f0-3c9a-4910-a5a4-9030ba8a97f7",
   "metadata": {},
   "outputs": [
    {
     "data": {
      "image/png": "[encoded data removed]",
      "text/plain": [
       "<Figure size 1200x800 with 1 Axes>"
      ]
     },
     "metadata": {},
     "output_type": "display_data"
    }
   ],
   "source": [
    "plt.figure(figsize=(12, 8))\n",
    "plt.scatter(range(len(time_deltas_ms)), time_deltas_ms, c='green', label='Time Deltas', s=10)\n",
    "plt.axhline(mean_delta[0], color='red', linestyle='--', label='Mean', xmin=0, xmax=1)\n",
    "# plt.text(0, 0, f\"Mean: {mean_delta:.2f} ms\\nStd: {std_delta:.2f} ms\", fontsize=12, bbox=dict(facecolor='white', alpha=0.5))\n",
    "plt.xlabel('Measurement Index')\n",
    "plt.ylabel('Time Delta (ms)')\n",
    "plt.title('Scatter Plot of Time Deltas Between Consecutive IMU Packets')\n",
    "plt.legend()\n",
    "plt.show()"
   ]
  },
  {
   "cell_type": "code",
   "execution_count": null,
   "id": "bd670b87-eefb-4620-93d2-21907550f34b",
   "metadata": {},
   "outputs": [],
   "source": []
  },
  {
   "cell_type": "code",
   "execution_count": null,
   "id": "11f3861c-c689-4431-a090-b2fabbd996bf",
   "metadata": {},
   "outputs": [],
   "source": []
  }
 ],
 "metadata": {
  "kernelspec": {
   "display_name": "Python 3 (ipykernel)",
   "language": "python",
   "name": "python3"
  },
  "language_info": {
   "codemirror_mode": {
    "name": "ipython",
    "version": 3
   },
   "file_extension": ".py",
   "mimetype": "text/x-python",
   "name": "python",
   "nbconvert_exporter": "python",
   "pygments_lexer": "ipython3",
   "version": "3.10.12"
  }
 },
 "nbformat": 4,
 "nbformat_minor": 5
}
